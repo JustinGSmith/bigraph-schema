{
 "cells": [
  {
   "cell_type": "markdown",
   "id": "e00b3123-97ef-4c0c-8be0-09fecb055aa9",
   "metadata": {
    "tags": []
   },
   "source": [
    "# Bigraph Schema\n",
    "\n",
    "This tutorial explores the bigraph schema library. Bigraph schema enables different simulators, models, and data to communicate with each other through standardized type definitions and wiring diagrams. By providing a robust type system and serializable data format, this makes composite simulators shareable, extendable, and easily distributed across various computer architectures.\n",
    "\n",
    "This notebook uses the [bigraph-schema](https://pypi.org/project/bigraph-schema/) library for validation and processing of the schema, and the [bigraph-viz](https://pypi.org/project/bigraph-viz/) library for plotting library for visualizing the resulting simulation configuration.\n",
    "\n",
    "This notebook is focused on type definition and access. For an introduction on Bigraphs and Process Bigraphs see [this notebook](https://vivarium-collective.github.io/process-bigraph/notebooks/process-bigraphs.html)"
   ]
  },
  {
   "cell_type": "markdown",
   "id": "a629c223-65bb-459f-88e9-4aea79760519",
   "metadata": {},
   "source": [
    "### Installation\n",
    "To start, let's install the necessary libraries and display their versions:"
   ]
  },
  {
   "cell_type": "code",
   "execution_count": 1,
   "id": "c49100b1-b4e6-425c-84a1-7ed5c8fa632e",
   "metadata": {
    "tags": []
   },
   "outputs": [
    {
     "name": "stdout",
     "output_type": "stream",
     "text": [
      "bigraph-schema==0.0.13\n",
      "bigraph-viz==0.0.30\n"
     ]
    }
   ],
   "source": [
    "# !pip install bigraph-schema --upgrade\n",
    "# !pip install bigraph-viz --upgrade\n",
    "# !pip install pint\n",
    "!pip freeze | grep bigraph"
   ]
  },
  {
   "cell_type": "markdown",
   "id": "09ed5449-24a8-4021-975d-363bcb08abfc",
   "metadata": {},
   "source": [
    "### Imports\n"
   ]
  },
  {
   "cell_type": "code",
   "execution_count": 2,
   "id": "cac34387-fc7e-41cc-808a-00ffd472ea3e",
   "metadata": {
    "tags": []
   },
   "outputs": [],
   "source": [
    "from bigraph_schema import TypeSystem\n",
    "from bigraph_viz import plot_bigraph, pf, pp\n",
    "from bigraph_viz.dict_utils import schema_keys"
   ]
  },
  {
   "cell_type": "markdown",
   "id": "e7845dfc-2fc0-42bb-b6e0-677e11b7184f",
   "metadata": {},
   "source": [
    "## Type System\n",
    "A type system comprises a set of rules and constraints that govern the organization, interaction, and manipulation of bigraph nodes, facilitating efficient and error-free compositional modeling by guaranteeing compatibility and seamless communication between various components within a simulation.\n",
    "\n",
    "The main class for working with bigraph_schema is `SchemaTypes`, which handles the different type schemas and provides methods for their manipulation. We will use `SchemaTypes.validate_schema` to check our schemas, `SchemaTypes.access` to fill in missing details to prepare the schema for simulation, and `SchemaTypes.type_registry` to access different schemas and register new ones. \n",
    "\n",
    "*Schemas* serve as a formalized framework for defining and organizing types, providing explicit specifications for data representation, validation, and transformation. In a schema, types are characterized by specific `schema_keys` associated with type definitions, encompassing default values, serialization/deserialization methods, and additional metadata. The `schema_keys` encompass the following attributes. We will see specific instances of these below.\n",
    "\n",
    "<span style=\"color:red\">\n",
    "TODO: how do we register new types, serializers, deserializers, etc?\n",
    "</span>\n"
   ]
  },
  {
   "cell_type": "code",
   "execution_count": 3,
   "id": "a2d6adb0-8678-4f59-a027-5296b755c1df",
   "metadata": {
    "tags": []
   },
   "outputs": [],
   "source": [
    "types = TypeSystem()"
   ]
  },
  {
   "cell_type": "code",
   "execution_count": 4,
   "id": "ecb4d869-066a-4205-a11f-1e774282a35e",
   "metadata": {
    "tags": []
   },
   "outputs": [],
   "source": [
    "# from bigraph_schema.registry import type_schema_keys\n",
    "# type_schema_keys"
   ]
  },
  {
   "cell_type": "markdown",
   "id": "54d08aa8-9196-48d6-bbe7-1ec260c2f5d5",
   "metadata": {},
   "source": [
    "## Type Registry\n",
    "A type registry is used to store and manage schema definitions related to various simulation modules, streamlining the process of accessing, extending, and reusing type information across different components. \n",
    "\n",
    "The names of types available in the given registry can be printed:"
   ]
  },
  {
   "cell_type": "code",
   "execution_count": 5,
   "id": "201e14e9-5689-47c0-b2b1-2e303f4dd0f9",
   "metadata": {
    "tags": []
   },
   "outputs": [
    {
     "data": {
      "text/plain": [
       "['',\n",
       " 'length^3/time',\n",
       " 'substance/length^3',\n",
       " 'length^2*mass/time^2',\n",
       " 'length^4*mass/time^3',\n",
       " '/length',\n",
       " 'length*temperature',\n",
       " 'length*mass/current^2*time^2',\n",
       " 'length*mass/current*time^3',\n",
       " 'array',\n",
       " 'mass^0_5/length^0_5*time',\n",
       " '/time',\n",
       " 'current*time^2/length^2*mass',\n",
       " 'length*mass/time^2',\n",
       " 'float',\n",
       " 'union',\n",
       " 'time',\n",
       " 'string',\n",
       " 'length^2/time',\n",
       " 'mass/current*time^2',\n",
       " 'mass/length',\n",
       " 'printing_unit',\n",
       " 'mass/temperature^4*time^3',\n",
       " '/substance',\n",
       " 'length/time^2',\n",
       " 'edge',\n",
       " 'length',\n",
       " 'mass/length*time',\n",
       " '/printing_unit',\n",
       " 'number',\n",
       " 'length/mass',\n",
       " 'current',\n",
       " 'length^1_5*mass^0_5/time',\n",
       " 'length^2*mass/temperature*time^2',\n",
       " 'length^4*mass/current*time^3',\n",
       " 'current^2*time^3/length^2*mass',\n",
       " 'current*time/mass',\n",
       " 'length^3',\n",
       " 'time/length',\n",
       " 'luminosity/length^2',\n",
       " 'mass/length^3',\n",
       " 'length/time',\n",
       " 'printing_unit/length',\n",
       " 'list',\n",
       " 'maybe',\n",
       " 'any',\n",
       " 'length^2*mass/time',\n",
       " '/temperature*time',\n",
       " 'length^2*mass/current*time^2',\n",
       " 'current*length*time',\n",
       " 'luminosity',\n",
       " 'substance',\n",
       " 'length^3*mass/current^2*time^4',\n",
       " 'length^3/mass*time^2',\n",
       " 'dict',\n",
       " 'length^1_5*mass^0_5/time^2',\n",
       " 'current*time',\n",
       " 'current^2*time^4/length^3*mass',\n",
       " 'length^2',\n",
       " 'current^2*time^4/length^2*mass',\n",
       " 'mass^0_5/length^1_5',\n",
       " 'current*time/substance',\n",
       " 'mass',\n",
       " 'length^2*mass/current^2*time^3',\n",
       " 'length^0_5*mass^0_5',\n",
       " 'length^2*mass/time^3',\n",
       " 'length^2*mass/current^2*time^2',\n",
       " 'length^2*mass/current*time^3',\n",
       " 'temperature',\n",
       " 'length^0_5*mass^0_5/time',\n",
       " 'mass/time^3',\n",
       " 'substance/time',\n",
       " 'current*length^2*time',\n",
       " 'current*length^2',\n",
       " 'mass/length*time^2',\n",
       " 'tree',\n",
       " 'length*time/mass',\n",
       " 'mass/time^2',\n",
       " 'length^2*mass/substance*temperature*time^2',\n",
       " 'int',\n",
       " 'length^2/time^2',\n",
       " 'time^2/length']"
      ]
     },
     "execution_count": 5,
     "metadata": {},
     "output_type": "execute_result"
    }
   ],
   "source": [
    "types.type_registry.list()"
   ]
  },
  {
   "cell_type": "markdown",
   "id": "4f9b3efb-e67f-4158-a012-7e53250782cf",
   "metadata": {},
   "source": [
    "### Accessing a type\n",
    "Type schemas can be accessed from the registry by their name. Here the `float` types shows that it uses an `accumulate` apply method, a `to_string` serialize method, that its default value is `0.0`, and that it inherits from (its super is) the `number` type."
   ]
  },
  {
   "cell_type": "code",
   "execution_count": 6,
   "id": "d47a37a6-fcd6-4aa6-a711-bdbbcc775714",
   "metadata": {
    "tags": []
   },
   "outputs": [
    {
     "data": {
      "text/plain": [
       "{'_type': 'float',\n",
       " '_apply': 'accumulate',\n",
       " '_serialize': 'to_string',\n",
       " '_description': '64-bit floating point precision number',\n",
       " '_default': '0.0',\n",
       " '_deserialize': 'float',\n",
       " '_divide': 'divide_float',\n",
       " '_super': ['number']}"
      ]
     },
     "execution_count": 6,
     "metadata": {},
     "output_type": "execute_result"
    }
   ],
   "source": [
    "float_schema = types.access('float')\n",
    "float_schema"
   ]
  },
  {
   "cell_type": "markdown",
   "id": "a45e1f94-93ce-4edb-972a-838e2356dba4",
   "metadata": {},
   "source": [
    "### Accessing schema methods\n",
    "The `apply`, `serialize`, `deserialize`, `divide` methods of a type are accessed by the type system through their respective registries."
   ]
  },
  {
   "cell_type": "code",
   "execution_count": 7,
   "id": "628f5529-3cac-4f43-b808-6d4b0a931a37",
   "metadata": {
    "tags": []
   },
   "outputs": [
    {
     "name": "stdout",
     "output_type": "stream",
     "text": [
      "default: 0.0\n",
      "after apply: 1.0\n"
     ]
    }
   ],
   "source": [
    "# here showing the method specified by the `float` type\n",
    "apply_method = types.apply_registry.access(float_schema['_apply'])\n",
    "serialize_method = types.serialize_registry.access(float_schema['_serialize'])\n",
    "deserialize_method = types.deserialize_registry.access(float_schema['_deserialize'])\n",
    "divide_method = types.divide_registry.access(float_schema['_divide'])\n",
    "default_value = float_schema['_default']\n",
    "deserialized_default_value = deserialize_method(default_value)\n",
    "\n",
    "print(f'default: {default_value}')\n",
    "print(f'after apply: {apply_method(deserialized_default_value, 1.0)}')"
   ]
  },
  {
   "cell_type": "markdown",
   "id": "d20e9721-64d2-453b-88dc-2cf9f39bb4ed",
   "metadata": {},
   "source": [
    "### Use access to expand a composite type\n",
    "\n",
    "Nested types have types within types. Here showing an `edge` type, which has wires that have their own types."
   ]
  },
  {
   "cell_type": "code",
   "execution_count": 8,
   "id": "2eb4fa5d-8668-4202-a5b4-032596b35c33",
   "metadata": {
    "tags": []
   },
   "outputs": [
    {
     "name": "stdout",
     "output_type": "stream",
     "text": [
      "{ '_apply': 'apply_edge',\n",
      "  '_default': '{\"wires\": {}}',\n",
      "  '_description': 'hyperedges in the bigraph, with ports as a type parameter',\n",
      "  '_deserialize': 'deserialize_edge',\n",
      "  '_divide': 'divide_edge',\n",
      "  '_serialize': 'serialize_edge',\n",
      "  '_type': 'edge',\n",
      "  '_type_parameters': ['ports'],\n",
      "  'wires': { '_apply': 'apply_tree',\n",
      "             '_bindings': {'leaf': ['list', ['string']]},\n",
      "             '_default': '{}',\n",
      "             '_description': 'mapping from str to some type (or nested dicts)',\n",
      "             '_deserialize': 'deserialize_tree',\n",
      "             '_divide': 'divide_tree',\n",
      "             '_leaf': { '_apply': 'concatenate',\n",
      "                        '_bindings': {'element': 'string'},\n",
      "                        '_default': '[]',\n",
      "                        '_description': 'general list type (or sublists)',\n",
      "                        '_deserialize': 'evaluate',\n",
      "                        '_divide': 'divide_list',\n",
      "                        '_element': { '_apply': 'replace',\n",
      "                                      '_default': '\"\"',\n",
      "                                      '_description': '64-bit integer',\n",
      "                                      '_deserialize': 'deserialize_string',\n",
      "                                      '_divide': 'divide_int',\n",
      "                                      '_serialize': 'serialize_string',\n",
      "                                      '_type': 'string'},\n",
      "                        '_serialize': 'to_string',\n",
      "                        '_type': 'list',\n",
      "                        '_type_parameters': ['element']},\n",
      "             '_serialize': 'serialize_tree',\n",
      "             '_type': 'tree',\n",
      "             '_type_parameters': ['leaf']}}\n"
     ]
    }
   ],
   "source": [
    "pp(types.access('edge'))"
   ]
  },
  {
   "cell_type": "code",
   "execution_count": null,
   "id": "82d94a35-f075-441e-8565-b990454b8e0d",
   "metadata": {},
   "outputs": [],
   "source": []
  },
  {
   "cell_type": "markdown",
   "id": "67ceab4d-5d49-40d4-91fc-582f8cfe4ede",
   "metadata": {},
   "source": [
    "### Register a new type schema\n",
    "You can add new types to the type registry using  `type_registry.register(type_name:str, type_schema:dict)`:"
   ]
  },
  {
   "cell_type": "code",
   "execution_count": 9,
   "id": "3b5a31fa-9bbb-4e9e-9096-1a82f7d7f775",
   "metadata": {
    "tags": []
   },
   "outputs": [],
   "source": [
    "foursquare_schema = {\n",
    "     '_type': 'foursquare',\n",
    "     '00': 'union[bool,foursquare]',\n",
    "     '01': 'union[bool,foursquare]',\n",
    "     '10': 'union[bool,foursquare]',\n",
    "     '11': 'union[bool,foursquare]',\n",
    "     '_default': {\n",
    "         '00': False, \n",
    "         '01': False, \n",
    "         '10': False, \n",
    "         '11': False\n",
    "     },\n",
    "     '_description': '',\n",
    "}\n",
    "types.type_registry.register(\n",
    "    'foursquare', foursquare_schema)"
   ]
  },
  {
   "cell_type": "code",
   "execution_count": 18,
   "id": "d015fb38-4661-43ba-86a2-124ac3e422b9",
   "metadata": {
    "tags": []
   },
   "outputs": [
    {
     "data": {
      "image/png": "[encoded data removed]",
      "text/plain": [
       "<Figure size 640x480 with 1 Axes>"
      ]
     },
     "metadata": {},
     "output_type": "display_data"
    }
   ],
   "source": [
    "import os\n",
    "import matplotlib.pyplot as plt\n",
    "import numpy as np\n",
    "\n",
    "def render(data, arr, x, y, size):\n",
    "    if isinstance(data, dict):\n",
    "        half_size = size // 2\n",
    "        if '00' in data:\n",
    "            render(data['00'], arr, x, y + half_size, half_size)\n",
    "        if '01' in data:\n",
    "            render(data['01'], arr, x + half_size, y + half_size, half_size)\n",
    "        if '10' in data:\n",
    "            render(data['10'], arr, x, y, half_size)\n",
    "        if '11' in data:\n",
    "            render(data['11'], arr, x + half_size, y, half_size)\n",
    "    else:\n",
    "        arr[y:y+size, x:x+size] = 0 if data else 1  # Change to '0 if data else 1' to make True values black\n",
    "\n",
    "def find_depth(data):\n",
    "    if isinstance(data, dict):\n",
    "        return 1 + max(find_depth(data[key]) for key in data)\n",
    "    return 0\n",
    "\n",
    "def plot_foursquare(data, out_dir='out', filename=None):\n",
    "    depth = find_depth(data)\n",
    "    size = 2 ** depth\n",
    "    arr = np.ones((size, size))\n",
    "    render(data, arr, 0, 0, size)\n",
    "    plt.imshow(arr, cmap='gray', interpolation='nearest')\n",
    "    plt.axis('off')\n",
    "    if filename:\n",
    "        os.makedirs(out_dir, exist_ok=True)\n",
    "        fig_path = os.path.join(out_dir, filename)\n",
    "        plt.savefig(fig_path, format='png', dpi=300)\n",
    "    plt.show()\n",
    "\n",
    "example = {\n",
    "    '00': True, \n",
    "    '11': {\n",
    "        '00': True, \n",
    "        '11': {\n",
    "            '00': True, \n",
    "            '11': {\n",
    "                '00': True, \n",
    "                '11': {\n",
    "                    '00': True, \n",
    "                    '11': {\n",
    "                        '00': True, \n",
    "                    },\n",
    "                },\n",
    "            },\n",
    "        },\n",
    "    },\n",
    "}\n",
    "# TODO: get this to register as a type\n",
    "example_full = {\n",
    "    '_type': 'foursquare',\n",
    "    '00': {\n",
    "        '_value': True, \n",
    "        '_type': 'bool'}, \n",
    "    '11': {\n",
    "        '_type': 'foursquare',\n",
    "        '00': {\n",
    "            '_value': True, \n",
    "            '_type': 'bool'}, \n",
    "        '11': {\n",
    "            '_type': 'foursquare',\n",
    "            '00': {\n",
    "                '_value': True, \n",
    "                '_type': 'bool'}, \n",
    "            '11': {\n",
    "                '_type': 'foursquare',\n",
    "                '00': {\n",
    "                    '_value': True, \n",
    "                    '_type': 'bool'}, \n",
    "                '11': {\n",
    "                    '_type': 'foursquare',\n",
    "                    '00': {\n",
    "                        '_value': True, \n",
    "                        '_type': 'bool'}, \n",
    "                    '11': {\n",
    "                        '_type': 'foursquare',\n",
    "                        '00': {\n",
    "                            '_value': True, \n",
    "                            '_type': 'bool'}, \n",
    "                    },\n",
    "                },\n",
    "            },\n",
    "        },\n",
    "    },\n",
    "}\n",
    "\n",
    "plot_foursquare(example, filename=\"example.png\")"
   ]
  },
  {
   "cell_type": "code",
   "execution_count": 17,
   "id": "758ab86a-1cbb-477e-9947-b29b56d29d29",
   "metadata": {},
   "outputs": [
    {
     "data": {
      "image/png": "[encoded data removed]",
      "text/plain": [
       "<Figure size 640x480 with 1 Axes>"
      ]
     },
     "metadata": {},
     "output_type": "display_data"
    }
   ],
   "source": [
    "# TODO: get this to register as a type\n",
    "example = {\n",
    "    '00': True, \n",
    "    '11': True,\n",
    "    '01': {\n",
    "        '11': True,\n",
    "        '00': {\n",
    "            '00': True\n",
    "        }\n",
    "    }\n",
    "}\n",
    "\n",
    "plot_foursquare(example, filename=\"example.png\")"
   ]
  },
  {
   "cell_type": "code",
   "execution_count": 19,
   "id": "15502500-9e93-4e5d-9dc4-14da7eed6897",
   "metadata": {},
   "outputs": [
    {
     "data": {
      "image/svg+xml": [
       "<?xml version=\"1.0\" encoding=\"UTF-8\" standalone=\"no\"?>\n",
       "<!DOCTYPE svg PUBLIC \"-//W3C//DTD SVG 1.1//EN\"\n",
       " \"http://www.w3.org/Graphics/SVG/1.1/DTD/svg11.dtd\">\n",
       "<!-- Generated by graphviz version 7.1.0 (20230121.1956)\n",
       " -->\n",
       "<!-- Title: bigraph Pages: 1 -->\n",
       "<svg width=\"200pt\" height=\"393pt\"\n",
       " viewBox=\"0.00 0.00 206.00 404.00\" xmlns=\"http://www.w3.org/2000/svg\" xmlns:xlink=\"http://www.w3.org/1999/xlink\">\n",
       "<g id=\"graph0\" class=\"graph\" transform=\"scale(0.972222 0.972222) rotate(0) translate(4 400)\">\n",
       "<title>bigraph</title>\n",
       "<polygon fill=\"white\" stroke=\"none\" points=\"-4,4 -4,-400 202,-400 202,4 -4,4\"/>\n",
       "<!-- (&#39;00&#39;,) -->\n",
       "<g id=\"node1\" class=\"node\">\n",
       "<title>(&#39;00&#39;,)</title>\n",
       "<ellipse fill=\"none\" stroke=\"black\" stroke-width=\"2\" cx=\"18\" cy=\"-378\" rx=\"18\" ry=\"18\"/>\n",
       "<text text-anchor=\"start\" x=\"11.5\" y=\"-374.9\" font-family=\"Times,serif\" font-size=\"12.00\">00</text>\n",
       "</g>\n",
       "<!-- (&#39;11&#39;,) -->\n",
       "<g id=\"node2\" class=\"node\">\n",
       "<title>(&#39;11&#39;,)</title>\n",
       "<ellipse fill=\"none\" stroke=\"black\" stroke-width=\"2\" cx=\"72\" cy=\"-378\" rx=\"18\" ry=\"18\"/>\n",
       "<text text-anchor=\"start\" x=\"65.5\" y=\"-374.9\" font-family=\"Times,serif\" font-size=\"12.00\">11</text>\n",
       "</g>\n",
       "<!-- (&#39;11&#39;, &#39;00&#39;) -->\n",
       "<g id=\"node3\" class=\"node\">\n",
       "<title>(&#39;11&#39;, &#39;00&#39;)</title>\n",
       "<ellipse fill=\"none\" stroke=\"black\" stroke-width=\"2\" cx=\"45\" cy=\"-306\" rx=\"18\" ry=\"18\"/>\n",
       "<text text-anchor=\"start\" x=\"38.5\" y=\"-302.9\" font-family=\"Times,serif\" font-size=\"12.00\">00</text>\n",
       "</g>\n",
       "<!-- (&#39;11&#39;,)&#45;&gt;(&#39;11&#39;, &#39;00&#39;) -->\n",
       "<g id=\"edge8\" class=\"edge\">\n",
       "<title>(&#39;11&#39;,)&#45;&gt;(&#39;11&#39;, &#39;00&#39;)</title>\n",
       "<path fill=\"none\" stroke=\"black\" stroke-width=\"2\" d=\"M65.6,-360.41C61.3,-349.25 55.65,-334.6 51.35,-323.47\"/>\n",
       "</g>\n",
       "<!-- (&#39;11&#39;, &#39;11&#39;) -->\n",
       "<g id=\"node4\" class=\"node\">\n",
       "<title>(&#39;11&#39;, &#39;11&#39;)</title>\n",
       "<ellipse fill=\"none\" stroke=\"black\" stroke-width=\"2\" cx=\"99\" cy=\"-306\" rx=\"18\" ry=\"18\"/>\n",
       "<text text-anchor=\"start\" x=\"92.5\" y=\"-302.9\" font-family=\"Times,serif\" font-size=\"12.00\">11</text>\n",
       "</g>\n",
       "<!-- (&#39;11&#39;,)&#45;&gt;(&#39;11&#39;, &#39;11&#39;) -->\n",
       "<g id=\"edge9\" class=\"edge\">\n",
       "<title>(&#39;11&#39;,)&#45;&gt;(&#39;11&#39;, &#39;11&#39;)</title>\n",
       "<path fill=\"none\" stroke=\"black\" stroke-width=\"2\" d=\"M78.4,-360.41C82.7,-349.25 88.35,-334.6 92.65,-323.47\"/>\n",
       "</g>\n",
       "<!-- (&#39;11&#39;, &#39;11&#39;, &#39;00&#39;) -->\n",
       "<g id=\"node5\" class=\"node\">\n",
       "<title>(&#39;11&#39;, &#39;11&#39;, &#39;00&#39;)</title>\n",
       "<ellipse fill=\"none\" stroke=\"black\" stroke-width=\"2\" cx=\"72\" cy=\"-234\" rx=\"18\" ry=\"18\"/>\n",
       "<text text-anchor=\"start\" x=\"65.5\" y=\"-230.9\" font-family=\"Times,serif\" font-size=\"12.00\">00</text>\n",
       "</g>\n",
       "<!-- (&#39;11&#39;, &#39;11&#39;)&#45;&gt;(&#39;11&#39;, &#39;11&#39;, &#39;00&#39;) -->\n",
       "<g id=\"edge6\" class=\"edge\">\n",
       "<title>(&#39;11&#39;, &#39;11&#39;)&#45;&gt;(&#39;11&#39;, &#39;11&#39;, &#39;00&#39;)</title>\n",
       "<path fill=\"none\" stroke=\"black\" stroke-width=\"2\" d=\"M92.6,-288.41C88.3,-277.25 82.65,-262.6 78.35,-251.47\"/>\n",
       "</g>\n",
       "<!-- (&#39;11&#39;, &#39;11&#39;, &#39;11&#39;) -->\n",
       "<g id=\"node6\" class=\"node\">\n",
       "<title>(&#39;11&#39;, &#39;11&#39;, &#39;11&#39;)</title>\n",
       "<ellipse fill=\"none\" stroke=\"black\" stroke-width=\"2\" cx=\"126\" cy=\"-234\" rx=\"18\" ry=\"18\"/>\n",
       "<text text-anchor=\"start\" x=\"119.5\" y=\"-230.9\" font-family=\"Times,serif\" font-size=\"12.00\">11</text>\n",
       "</g>\n",
       "<!-- (&#39;11&#39;, &#39;11&#39;)&#45;&gt;(&#39;11&#39;, &#39;11&#39;, &#39;11&#39;) -->\n",
       "<g id=\"edge7\" class=\"edge\">\n",
       "<title>(&#39;11&#39;, &#39;11&#39;)&#45;&gt;(&#39;11&#39;, &#39;11&#39;, &#39;11&#39;)</title>\n",
       "<path fill=\"none\" stroke=\"black\" stroke-width=\"2\" d=\"M105.4,-288.41C109.7,-277.25 115.35,-262.6 119.65,-251.47\"/>\n",
       "</g>\n",
       "<!-- (&#39;11&#39;, &#39;11&#39;, &#39;11&#39;, &#39;00&#39;) -->\n",
       "<g id=\"node7\" class=\"node\">\n",
       "<title>(&#39;11&#39;, &#39;11&#39;, &#39;11&#39;, &#39;00&#39;)</title>\n",
       "<ellipse fill=\"none\" stroke=\"black\" stroke-width=\"2\" cx=\"99\" cy=\"-162\" rx=\"18\" ry=\"18\"/>\n",
       "<text text-anchor=\"start\" x=\"92.5\" y=\"-158.9\" font-family=\"Times,serif\" font-size=\"12.00\">00</text>\n",
       "</g>\n",
       "<!-- (&#39;11&#39;, &#39;11&#39;, &#39;11&#39;)&#45;&gt;(&#39;11&#39;, &#39;11&#39;, &#39;11&#39;, &#39;00&#39;) -->\n",
       "<g id=\"edge4\" class=\"edge\">\n",
       "<title>(&#39;11&#39;, &#39;11&#39;, &#39;11&#39;)&#45;&gt;(&#39;11&#39;, &#39;11&#39;, &#39;11&#39;, &#39;00&#39;)</title>\n",
       "<path fill=\"none\" stroke=\"black\" stroke-width=\"2\" d=\"M119.6,-216.41C115.3,-205.25 109.65,-190.6 105.35,-179.47\"/>\n",
       "</g>\n",
       "<!-- (&#39;11&#39;, &#39;11&#39;, &#39;11&#39;, &#39;11&#39;) -->\n",
       "<g id=\"node8\" class=\"node\">\n",
       "<title>(&#39;11&#39;, &#39;11&#39;, &#39;11&#39;, &#39;11&#39;)</title>\n",
       "<ellipse fill=\"none\" stroke=\"black\" stroke-width=\"2\" cx=\"153\" cy=\"-162\" rx=\"18\" ry=\"18\"/>\n",
       "<text text-anchor=\"start\" x=\"146.5\" y=\"-158.9\" font-family=\"Times,serif\" font-size=\"12.00\">11</text>\n",
       "</g>\n",
       "<!-- (&#39;11&#39;, &#39;11&#39;, &#39;11&#39;)&#45;&gt;(&#39;11&#39;, &#39;11&#39;, &#39;11&#39;, &#39;11&#39;) -->\n",
       "<g id=\"edge5\" class=\"edge\">\n",
       "<title>(&#39;11&#39;, &#39;11&#39;, &#39;11&#39;)&#45;&gt;(&#39;11&#39;, &#39;11&#39;, &#39;11&#39;, &#39;11&#39;)</title>\n",
       "<path fill=\"none\" stroke=\"black\" stroke-width=\"2\" d=\"M132.4,-216.41C136.7,-205.25 142.35,-190.6 146.65,-179.47\"/>\n",
       "</g>\n",
       "<!-- (&#39;11&#39;, &#39;11&#39;, &#39;11&#39;, &#39;11&#39;, &#39;00&#39;) -->\n",
       "<g id=\"node9\" class=\"node\">\n",
       "<title>(&#39;11&#39;, &#39;11&#39;, &#39;11&#39;, &#39;11&#39;, &#39;00&#39;)</title>\n",
       "<ellipse fill=\"none\" stroke=\"black\" stroke-width=\"2\" cx=\"126\" cy=\"-90\" rx=\"18\" ry=\"18\"/>\n",
       "<text text-anchor=\"start\" x=\"119.5\" y=\"-86.9\" font-family=\"Times,serif\" font-size=\"12.00\">00</text>\n",
       "</g>\n",
       "<!-- (&#39;11&#39;, &#39;11&#39;, &#39;11&#39;, &#39;11&#39;)&#45;&gt;(&#39;11&#39;, &#39;11&#39;, &#39;11&#39;, &#39;11&#39;, &#39;00&#39;) -->\n",
       "<g id=\"edge2\" class=\"edge\">\n",
       "<title>(&#39;11&#39;, &#39;11&#39;, &#39;11&#39;, &#39;11&#39;)&#45;&gt;(&#39;11&#39;, &#39;11&#39;, &#39;11&#39;, &#39;11&#39;, &#39;00&#39;)</title>\n",
       "<path fill=\"none\" stroke=\"black\" stroke-width=\"2\" d=\"M146.6,-144.41C142.3,-133.25 136.65,-118.6 132.35,-107.47\"/>\n",
       "</g>\n",
       "<!-- (&#39;11&#39;, &#39;11&#39;, &#39;11&#39;, &#39;11&#39;, &#39;11&#39;) -->\n",
       "<g id=\"node10\" class=\"node\">\n",
       "<title>(&#39;11&#39;, &#39;11&#39;, &#39;11&#39;, &#39;11&#39;, &#39;11&#39;)</title>\n",
       "<ellipse fill=\"none\" stroke=\"black\" stroke-width=\"2\" cx=\"180\" cy=\"-90\" rx=\"18\" ry=\"18\"/>\n",
       "<text text-anchor=\"start\" x=\"173.5\" y=\"-86.9\" font-family=\"Times,serif\" font-size=\"12.00\">11</text>\n",
       "</g>\n",
       "<!-- (&#39;11&#39;, &#39;11&#39;, &#39;11&#39;, &#39;11&#39;)&#45;&gt;(&#39;11&#39;, &#39;11&#39;, &#39;11&#39;, &#39;11&#39;, &#39;11&#39;) -->\n",
       "<g id=\"edge3\" class=\"edge\">\n",
       "<title>(&#39;11&#39;, &#39;11&#39;, &#39;11&#39;, &#39;11&#39;)&#45;&gt;(&#39;11&#39;, &#39;11&#39;, &#39;11&#39;, &#39;11&#39;, &#39;11&#39;)</title>\n",
       "<path fill=\"none\" stroke=\"black\" stroke-width=\"2\" d=\"M159.4,-144.41C163.7,-133.25 169.35,-118.6 173.65,-107.47\"/>\n",
       "</g>\n",
       "<!-- (&#39;11&#39;, &#39;11&#39;, &#39;11&#39;, &#39;11&#39;, &#39;11&#39;, &#39;00&#39;) -->\n",
       "<g id=\"node11\" class=\"node\">\n",
       "<title>(&#39;11&#39;, &#39;11&#39;, &#39;11&#39;, &#39;11&#39;, &#39;11&#39;, &#39;00&#39;)</title>\n",
       "<ellipse fill=\"none\" stroke=\"black\" stroke-width=\"2\" cx=\"180\" cy=\"-18\" rx=\"18\" ry=\"18\"/>\n",
       "<text text-anchor=\"start\" x=\"173.5\" y=\"-14.9\" font-family=\"Times,serif\" font-size=\"12.00\">00</text>\n",
       "</g>\n",
       "<!-- (&#39;11&#39;, &#39;11&#39;, &#39;11&#39;, &#39;11&#39;, &#39;11&#39;)&#45;&gt;(&#39;11&#39;, &#39;11&#39;, &#39;11&#39;, &#39;11&#39;, &#39;11&#39;, &#39;00&#39;) -->\n",
       "<g id=\"edge1\" class=\"edge\">\n",
       "<title>(&#39;11&#39;, &#39;11&#39;, &#39;11&#39;, &#39;11&#39;, &#39;11&#39;)&#45;&gt;(&#39;11&#39;, &#39;11&#39;, &#39;11&#39;, &#39;11&#39;, &#39;11&#39;, &#39;00&#39;)</title>\n",
       "<path fill=\"none\" stroke=\"black\" stroke-width=\"2\" d=\"M180,-71.34C180,-60.81 180,-47.47 180,-36.9\"/>\n",
       "</g>\n",
       "</g>\n",
       "</svg>\n"
      ],
      "text/plain": [
       "<graphviz.graphs.Digraph at 0x10fbcb8e0>"
      ]
     },
     "execution_count": 19,
     "metadata": {},
     "output_type": "execute_result"
    }
   ],
   "source": [
    "plot_bigraph(example)"
   ]
  },
  {
   "cell_type": "markdown",
   "id": "ad02fcd2-e0b1-49bb-b58b-492a3474120e",
   "metadata": {},
   "source": [
    "## Instance\n",
    "An instances is the particular set of values that populate a bigraph structure, adhering to a given schema. An instance encapsulates the current conditions and predicts future evolution based on the governing equations or rules. As the system evolves over time, the state transitions through various bigraphical configurations."
   ]
  },
  {
   "cell_type": "code",
   "execution_count": null,
   "id": "a7b6c20a-5604-485a-8f50-bfd8bf6c003a",
   "metadata": {
    "tags": []
   },
   "outputs": [],
   "source": [
    "bigraph_state = {\n",
    "    'node1': 1.0,\n",
    "    'node2': {\n",
    "        'node2.1': 2.0,\n",
    "        'node2.2': 2.1\n",
    "    }\n",
    "}\n",
    "plot_bigraph(bigraph_state, show_values=True)"
   ]
  },
  {
   "cell_type": "markdown",
   "id": "a5eaef05-63cd-45a4-8cef-ae363a944ff2",
   "metadata": {},
   "source": [
    "### Fill state\n",
    "\n",
    "One of the key advantages of a type system is its ability to improve automation in compositional modeling. The `fill` function exemplifies this by automatically populating missing schema elements. Given a schema and an incomplete instance, the fill function intelligently identifies and fills the missing schema components, ensuring that the instance is compliant with the schema definition."
   ]
  },
  {
   "cell_type": "code",
   "execution_count": null,
   "id": "eba9e8a0-2558-48f9-b038-1ae08778875c",
   "metadata": {},
   "outputs": [],
   "source": [
    "dual_edge_schema = {\n",
    "    'edge1': {\n",
    "        '_type': 'edge',\n",
    "        '_ports': {\n",
    "            'port1': 'float',\n",
    "            'port2': 'int',\n",
    "        },\n",
    "    },\n",
    "    'edge2': {\n",
    "        '_type': 'edge',\n",
    "        '_ports': {\n",
    "            'port1': 'float',\n",
    "            'port2': 'int',\n",
    "        },\n",
    "    },\n",
    "}    \n",
    "\n",
    "types.type_registry.register('dual_edge', dual_edge_schema, force=True)\n",
    "\n",
    "schema = {\n",
    "    'store1': 'dual_edge',\n",
    "    'edge3': {\n",
    "        '_type': 'edge',\n",
    "        '_ports': {\n",
    "            'port1': 'dual_edge'\n",
    "        }\n",
    "    }\n",
    "}\n",
    "\n",
    "instance = {\n",
    "    'store1': {\n",
    "        'edge1': {\n",
    "            'wires': {\n",
    "                'port1': 'store1.1',\n",
    "                'port2': 'store1.2',\n",
    "            }\n",
    "        },\n",
    "        'edge2': {\n",
    "            'wires': {\n",
    "                'port1': 'store1.1',\n",
    "                'port2': 'store1.2',\n",
    "            }\n",
    "        }\n",
    "    },\n",
    "    'edge3': {\n",
    "        'wires': {\n",
    "            'port1': 'store1',\n",
    "        }\n",
    "    },\n",
    "}\n",
    "filled_instance = types.fill(schema, instance)\n",
    "filled_schema = types.type_registry.access(schema)"
   ]
  },
  {
   "cell_type": "code",
   "execution_count": null,
   "id": "4364577c-fd11-4b93-950f-22e556e8d889",
   "metadata": {
    "tags": []
   },
   "outputs": [],
   "source": [
    "print(f'schema:\\n {pf(schema)}\\n')\n",
    "print(f'instance:\\n {pf(instance)}\\n')\n",
    "# print(f'filled schema:\\n {pf(filled_schema)}\\n')\n",
    "print(f'filled instance:\\n {pf(filled_instance)}\\n')"
   ]
  },
  {
   "cell_type": "code",
   "execution_count": null,
   "id": "21d11947-29c8-473b-9a2d-ebbfbdc99936",
   "metadata": {},
   "outputs": [],
   "source": [
    "plot_bigraph(filled_instance, remove_process_place_edges=True, port_labels=False)"
   ]
  },
  {
   "cell_type": "markdown",
   "id": "07f8219d-43d2-4d6c-92af-d00976da0703",
   "metadata": {},
   "source": [
    "## Update"
   ]
  },
  {
   "cell_type": "code",
   "execution_count": null,
   "id": "5635ed86-9996-4648-b1d6-973a666bfd06",
   "metadata": {
    "tags": []
   },
   "outputs": [],
   "source": [
    "place_schema = {\n",
    "    '_type': 'tree[float]',\n",
    "}\n",
    "\n",
    "place_state1 = {\n",
    "    'node1': 1.0,\n",
    "    'node2': {\n",
    "        'node2.1': 2.0,\n",
    "        'node2.2': 2.1\n",
    "    }\n",
    "}\n",
    "plot_bigraph(place_state1, show_values=True)"
   ]
  },
  {
   "cell_type": "code",
   "execution_count": null,
   "id": "d5e899b0-00e7-4c48-ac3a-eb12afad36c4",
   "metadata": {
    "tags": []
   },
   "outputs": [],
   "source": [
    "update = {\n",
    "    'node1': 5.1,\n",
    "    'node2': {\n",
    "        'node2.1': -5.0,\n",
    "        # 'node2.2': -2.0\n",
    "    }\n",
    "}\n",
    "\n",
    "place_state2 = types.apply(\n",
    "    place_schema,\n",
    "    place_state1,\n",
    "    update\n",
    ")\n",
    "plot_bigraph(place_state2, show_values=True)"
   ]
  },
  {
   "cell_type": "code",
   "execution_count": null,
   "id": "9cfe4fab-62be-4921-8037-fa45a0a3617e",
   "metadata": {
    "tags": []
   },
   "outputs": [],
   "source": [
    "# update = {\n",
    "#     '_remove': ['node1'],\n",
    "#     'node2': {\n",
    "#         '_remove': ['node2.2'],\n",
    "#         'node2.3': 0.5,\n",
    "#         'node2.4': {'node2.2.1': -2.0}\n",
    "#     }\n",
    "# }\n",
    "update = {\n",
    "    '_remove': [\n",
    "        ['node1'], \n",
    "        ['node2', 'node2.2'],\n",
    "    ],\n",
    "}\n",
    "\n",
    "place_state3 = types.apply(\n",
    "    place_schema,\n",
    "    place_state2,\n",
    "    update\n",
    ")\n",
    "plot_bigraph(place_state2, show_values=True)"
   ]
  },
  {
   "cell_type": "markdown",
   "id": "7bec54cf-d524-4897-98d0-861c000fba31",
   "metadata": {},
   "source": [
    "## View/Project through wires"
   ]
  },
  {
   "cell_type": "code",
   "execution_count": null,
   "id": "328b973d-34ea-45ba-b0b1-90fe6248d124",
   "metadata": {},
   "outputs": [],
   "source": []
  },
  {
   "cell_type": "markdown",
   "id": "028bc593-068d-4020-937a-4c9c39c31d9a",
   "metadata": {},
   "source": [
    "## Query\n",
    "\n",
    "Find a schema within a composite. For example find a mitochondria within a cell\n",
    "\n",
    "## Adapters\n",
    "\n",
    "Show how adapters can automatically compose into a schema to provide translation between types."
   ]
  },
  {
   "cell_type": "code",
   "execution_count": null,
   "id": "fdd3134e-f576-445b-8dd4-5eacb55bbdf4",
   "metadata": {},
   "outputs": [],
   "source": []
  }
 ],
 "metadata": {
  "kernelspec": {
   "display_name": "Python 3 (ipykernel)",
   "language": "python",
   "name": "python3"
  },
  "language_info": {
   "codemirror_mode": {
    "name": "ipython",
    "version": 3
   },
   "file_extension": ".py",
   "mimetype": "text/x-python",
   "name": "python",
   "nbconvert_exporter": "python",
   "pygments_lexer": "ipython3",
   "version": "3.9.6"
  }
 },
 "nbformat": 4,
 "nbformat_minor": 5
}

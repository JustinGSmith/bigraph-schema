{
 "cells": [
  {
   "cell_type": "markdown",
   "id": "e00b3123-97ef-4c0c-8be0-09fecb055aa9",
   "metadata": {
    "tags": []
   },
   "source": [
    "# Bigraph Schema\n",
    "\n",
    "This tutorial explores the bigraph schema library. Bigraph schema enables different simulators, models, and data to communicate with each other through standardized type definitions and wiring diagrams. By providing a robust type system and serializable data format, this makes composite simulators shareable, extendable, and easily distributed across various computer architectures.\n",
    "\n",
    "This notebook uses the [bigraph-schema](https://pypi.org/project/bigraph-schema/) library for validation and processing of the schema, and the [bigraph-viz](https://pypi.org/project/bigraph-viz/) library for plotting library for visualizing the resulting simulation configuration.\n",
    "\n",
    "This notebook is focused on type definition and access. For an introduction on Bigraphs and Process Bigraphs see [this notebook](https://vivarium-collective.github.io/process-bigraph/notebooks/process-bigraphs.html)"
   ]
  },
  {
   "cell_type": "markdown",
   "id": "a629c223-65bb-459f-88e9-4aea79760519",
   "metadata": {},
   "source": [
    "### Installation\n",
    "To start, let's install the necessary libraries and display their versions:"
   ]
  },
  {
   "cell_type": "code",
   "execution_count": 1,
   "id": "c49100b1-b4e6-425c-84a1-7ed5c8fa632e",
   "metadata": {
    "tags": []
   },
   "outputs": [
    {
     "name": "stdout",
     "output_type": "stream",
     "text": [
      "bigraph-schema==0.0.5\n",
      "bigraph-viz==0.0.30\n"
     ]
    }
   ],
   "source": [
    "# !pip install bigraph-schema --upgrade\n",
    "# !pip install bigraph-viz --upgrade\n",
    "# !pip install pint\n",
    "!pip freeze | grep bigraph"
   ]
  },
  {
   "cell_type": "markdown",
   "id": "09ed5449-24a8-4021-975d-363bcb08abfc",
   "metadata": {},
   "source": [
    "### Imports\n"
   ]
  },
  {
   "cell_type": "code",
   "execution_count": 2,
   "id": "cac34387-fc7e-41cc-808a-00ffd472ea3e",
   "metadata": {
    "tags": []
   },
   "outputs": [],
   "source": [
    "from bigraph_schema import TypeSystem\n",
    "from bigraph_viz import plot_bigraph, pf, pp\n",
    "from bigraph_viz.dict_utils import schema_keys"
   ]
  },
  {
   "cell_type": "markdown",
   "id": "e7845dfc-2fc0-42bb-b6e0-677e11b7184f",
   "metadata": {},
   "source": [
    "## Type System\n",
    "A type system comprises a set of rules and constraints that govern the organization, interaction, and manipulation of bigraph nodes, facilitating efficient and error-free compositional modeling by guaranteeing compatibility and seamless communication between various components within a simulation.\n",
    "\n",
    "The main class for working with bigraph_schema is `SchemaTypes`, which handles the different type schemas and provides methods for their manipulation. We will use `SchemaTypes.validate_schema` to check our schemas, `SchemaTypes.access` to fill in missing details to prepare the schema for simulation, and `SchemaTypes.type_registry` to access different schemas and register new ones. \n",
    "\n",
    "*Schemas* serve as a formalized framework for defining and organizing types, providing explicit specifications for data representation, validation, and transformation. In a schema, types are characterized by specific `schema_keys` associated with type definitions, encompassing default values, serialization/deserialization methods, and additional metadata. The `schema_keys` encompass the following attributes. We will see specific instances of these below.\n",
    "\n",
    "<span style=\"color:red\">\n",
    "TODO: how do we register new types, serializers, deserializers, etc?\n",
    "</span>\n"
   ]
  },
  {
   "cell_type": "code",
   "execution_count": 3,
   "id": "a2d6adb0-8678-4f59-a027-5296b755c1df",
   "metadata": {
    "tags": []
   },
   "outputs": [],
   "source": [
    "types = TypeSystem()"
   ]
  },
  {
   "cell_type": "code",
   "execution_count": 4,
   "id": "ecb4d869-066a-4205-a11f-1e774282a35e",
   "metadata": {
    "tags": []
   },
   "outputs": [],
   "source": [
    "# from bigraph_schema.registry import type_schema_keys\n",
    "# type_schema_keys"
   ]
  },
  {
   "cell_type": "markdown",
   "id": "54d08aa8-9196-48d6-bbe7-1ec260c2f5d5",
   "metadata": {},
   "source": [
    "## Type Registry\n",
    "A type registry is used to store and manage schema definitions related to various simulation modules, streamlining the process of accessing, extending, and reusing type information across different components. \n",
    "\n",
    "The names of types available in the given registry can be printed:"
   ]
  },
  {
   "cell_type": "code",
   "execution_count": 5,
   "id": "201e14e9-5689-47c0-b2b1-2e303f4dd0f9",
   "metadata": {
    "tags": []
   },
   "outputs": [
    {
     "data": {
      "text/plain": [
       "['',\n",
       " 'current*length*time',\n",
       " 'length^2*mass/time',\n",
       " 'length*mass/current^2*time^2',\n",
       " 'current*time/substance',\n",
       " 'temperature',\n",
       " 'length^3/mass*time^2',\n",
       " 'length^0_5*mass^0_5/time',\n",
       " '/temperature*time',\n",
       " 'edge',\n",
       " 'current*length^2',\n",
       " 'length^2*mass/current^2*time^3',\n",
       " 'luminosity',\n",
       " 'mass/temperature^4*time^3',\n",
       " 'length',\n",
       " 'any',\n",
       " 'float',\n",
       " 'mass/length*time',\n",
       " 'length^0_5*mass^0_5',\n",
       " 'substance/length^3',\n",
       " 'mass/length*time^2',\n",
       " 'length^2*mass/temperature*time^2',\n",
       " '/length',\n",
       " 'length^2*mass/current*time^3',\n",
       " 'length^2*mass/current^2*time^2',\n",
       " 'substance/time',\n",
       " 'mass/length^3',\n",
       " 'current*time/mass',\n",
       " 'substance',\n",
       " 'length/time^2',\n",
       " 'mass/length',\n",
       " 'length^1_5*mass^0_5/time',\n",
       " 'length^2',\n",
       " 'current^2*time^3/length^2*mass',\n",
       " 'length^2/time^2',\n",
       " 'printing_unit/length',\n",
       " 'list',\n",
       " 'mass',\n",
       " '/time',\n",
       " 'length*temperature',\n",
       " 'current*time^2/length^2*mass',\n",
       " 'length*mass/time^2',\n",
       " 'time',\n",
       " 'length*time/mass',\n",
       " 'number',\n",
       " 'length^4*mass/time^3',\n",
       " 'dict',\n",
       " 'tree',\n",
       " 'string',\n",
       " 'mass^0_5/length^1_5',\n",
       " 'length*mass/current*time^3',\n",
       " 'length^2*mass/time^3',\n",
       " 'current*length^2*time',\n",
       " 'length^2/time',\n",
       " 'array',\n",
       " 'mass/current*time^2',\n",
       " 'length^2*mass/current*time^2',\n",
       " 'mass/time^3',\n",
       " 'length^4*mass/current*time^3',\n",
       " '/printing_unit',\n",
       " 'length/mass',\n",
       " 'length^3*mass/current^2*time^4',\n",
       " 'luminosity/length^2',\n",
       " 'current',\n",
       " 'length^3/time',\n",
       " 'mass/time^2',\n",
       " 'length^1_5*mass^0_5/time^2',\n",
       " 'mass^0_5/length^0_5*time',\n",
       " 'maybe',\n",
       " 'time^2/length',\n",
       " 'current*time',\n",
       " 'time/length',\n",
       " 'current^2*time^4/length^3*mass',\n",
       " 'current^2*time^4/length^2*mass',\n",
       " 'length^2*mass/time^2',\n",
       " 'length^2*mass/substance*temperature*time^2',\n",
       " 'int',\n",
       " 'printing_unit',\n",
       " 'length/time',\n",
       " 'length^3',\n",
       " '/substance']"
      ]
     },
     "execution_count": 5,
     "metadata": {},
     "output_type": "execute_result"
    }
   ],
   "source": [
    "types.type_registry.list()"
   ]
  },
  {
   "cell_type": "markdown",
   "id": "4f9b3efb-e67f-4158-a012-7e53250782cf",
   "metadata": {},
   "source": [
    "### Accessing a type\n",
    "Type schemas can be accessed from the registry by their name. Here the `float` types shows that it uses an `accumulate` apply method, a `to_string` serialize method, that its default value is `0.0`, and that it inherits from (its super is) the `number` type."
   ]
  },
  {
   "cell_type": "code",
   "execution_count": 6,
   "id": "d47a37a6-fcd6-4aa6-a711-bdbbcc775714",
   "metadata": {
    "tags": []
   },
   "outputs": [
    {
     "data": {
      "text/plain": [
       "{'_type': 'float',\n",
       " '_apply': 'accumulate',\n",
       " '_serialize': 'to_string',\n",
       " '_description': '64-bit floating point precision number',\n",
       " '_default': '0.0',\n",
       " '_deserialize': 'float',\n",
       " '_divide': 'divide_float',\n",
       " '_super': ['number']}"
      ]
     },
     "execution_count": 6,
     "metadata": {},
     "output_type": "execute_result"
    }
   ],
   "source": [
    "float_schema = types.type_registry.access('float')\n",
    "float_schema"
   ]
  },
  {
   "cell_type": "markdown",
   "id": "a45e1f94-93ce-4edb-972a-838e2356dba4",
   "metadata": {},
   "source": [
    "### Accessing schema methods\n",
    "The `apply`, `serialize`, `deserialize`, `divide` methods of a type are accessed by the type system through their respective registries."
   ]
  },
  {
   "cell_type": "code",
   "execution_count": 7,
   "id": "628f5529-3cac-4f43-b808-6d4b0a931a37",
   "metadata": {
    "tags": []
   },
   "outputs": [
    {
     "name": "stdout",
     "output_type": "stream",
     "text": [
      "default: 0.0\n",
      "after apply: 1.0\n"
     ]
    }
   ],
   "source": [
    "# here showing the method specified by the `float` type\n",
    "apply_method = types.apply_registry.access(float_schema['_apply'])\n",
    "serialize_method = types.serialize_registry.access(float_schema['_serialize'])\n",
    "deserialize_method = types.deserialize_registry.access(float_schema['_deserialize'])\n",
    "divide_method = types.divide_registry.access(float_schema['_divide'])\n",
    "default_value = float_schema['_default']\n",
    "deserialized_default_value = deserialize_method(default_value)\n",
    "\n",
    "print(f'default: {default_value}')\n",
    "print(f'after apply: {apply_method(deserialized_default_value, 1.0)}')"
   ]
  },
  {
   "cell_type": "markdown",
   "id": "d20e9721-64d2-453b-88dc-2cf9f39bb4ed",
   "metadata": {},
   "source": [
    "### Use access to expand a composite type\n",
    "\n",
    "Nested types have types within types. Here showing an `edge` type, which has wires that have their own types."
   ]
  },
  {
   "cell_type": "code",
   "execution_count": 10,
   "id": "2eb4fa5d-8668-4202-a5b4-032596b35c33",
   "metadata": {
    "tags": []
   },
   "outputs": [
    {
     "name": "stdout",
     "output_type": "stream",
     "text": [
      "{ '_apply': 'apply_edge',\n",
      "  '_default': '{\"wires\": {}}',\n",
      "  '_description': 'hyperedges in the bigraph, with ports as a type parameter',\n",
      "  '_deserialize': 'deserialize_edge',\n",
      "  '_divide': 'divide_edge',\n",
      "  '_serialize': 'serialize_edge',\n",
      "  '_type': 'edge',\n",
      "  '_type_parameters': ['ports'],\n",
      "  'wires': { '_apply': 'apply_tree',\n",
      "             '_bindings': {'leaf': ['list', ['string']]},\n",
      "             '_default': '{}',\n",
      "             '_description': 'mapping from str to some type (or nested dicts)',\n",
      "             '_deserialize': 'deserialize_tree',\n",
      "             '_divide': 'divide_tree',\n",
      "             '_leaf': { '_apply': 'concatenate',\n",
      "                        '_bindings': {'element': 'string'},\n",
      "                        '_default': '[]',\n",
      "                        '_description': 'general list type (or sublists)',\n",
      "                        '_deserialize': 'evaluate',\n",
      "                        '_divide': 'divide_list',\n",
      "                        '_element': { '_apply': 'replace',\n",
      "                                      '_default': '\"\"',\n",
      "                                      '_description': '64-bit integer',\n",
      "                                      '_deserialize': 'deserialize_string',\n",
      "                                      '_divide': 'divide_int',\n",
      "                                      '_serialize': 'serialize_string',\n",
      "                                      '_type': 'string'},\n",
      "                        '_serialize': 'to_string',\n",
      "                        '_type': 'list',\n",
      "                        '_type_parameters': ['element']},\n",
      "             '_serialize': 'serialize_tree',\n",
      "             '_type': 'tree',\n",
      "             '_type_parameters': ['leaf']}}\n"
     ]
    }
   ],
   "source": [
    "pp(types.type_registry.access('edge'))"
   ]
  },
  {
   "cell_type": "code",
   "execution_count": null,
   "id": "82d94a35-f075-441e-8565-b990454b8e0d",
   "metadata": {},
   "outputs": [],
   "source": []
  },
  {
   "cell_type": "markdown",
   "id": "67ceab4d-5d49-40d4-91fc-582f8cfe4ede",
   "metadata": {},
   "source": [
    "### Register a new type schema\n",
    "You can add new types to the type registry using  `type_registry.register(type_name:str, type_schema:dict)`:"
   ]
  },
  {
   "cell_type": "code",
   "execution_count": 11,
   "id": "3b5a31fa-9bbb-4e9e-9096-1a82f7d7f775",
   "metadata": {
    "tags": []
   },
   "outputs": [
    {
     "name": "stdout",
     "output_type": "stream",
     "text": [
      "type did not parse: union[bool,foursquare]\n"
     ]
    },
    {
     "name": "stderr",
     "output_type": "stream",
     "text": [
      "Traceback (most recent call last):\n",
      "  File \"/Users/eranagmon/code/bigraph-schema/bigraph_schema/registry.py\", line 331, in access\n",
      "    found = self.access(parse)\n",
      "  File \"/Users/eranagmon/code/bigraph-schema/bigraph_schema/registry.py\", line 316, in access\n",
      "    found = found.copy()\n",
      "AttributeError: 'NoneType' object has no attribute 'copy'\n"
     ]
    },
    {
     "ename": "Exception",
     "evalue": "trying to register a new type (foursquare), but it depends on a type (00) which is not in the registry",
     "output_type": "error",
     "traceback": [
      "\u001b[0;31m---------------------------------------------------------------------------\u001b[0m",
      "\u001b[0;31mException\u001b[0m                                 Traceback (most recent call last)",
      "Cell \u001b[0;32mIn[11], line 10\u001b[0m\n\u001b[1;32m      1\u001b[0m foursquare_schema \u001b[38;5;241m=\u001b[39m {\n\u001b[1;32m      2\u001b[0m      \u001b[38;5;66;03m# '_type': 'foursquare',\u001b[39;00m\n\u001b[1;32m      3\u001b[0m      \u001b[38;5;124m'\u001b[39m\u001b[38;5;124m00\u001b[39m\u001b[38;5;124m'\u001b[39m: \u001b[38;5;124m'\u001b[39m\u001b[38;5;124munion[bool,foursquare]\u001b[39m\u001b[38;5;124m'\u001b[39m,\n\u001b[0;32m   (...)\u001b[0m\n\u001b[1;32m      8\u001b[0m      \u001b[38;5;124m'\u001b[39m\u001b[38;5;124m_description\u001b[39m\u001b[38;5;124m'\u001b[39m: \u001b[38;5;124m'\u001b[39m\u001b[38;5;124m'\u001b[39m,\n\u001b[1;32m      9\u001b[0m }\n\u001b[0;32m---> 10\u001b[0m \u001b[43mtypes\u001b[49m\u001b[38;5;241;43m.\u001b[39;49m\u001b[43mtype_registry\u001b[49m\u001b[38;5;241;43m.\u001b[39;49m\u001b[43mregister\u001b[49m\u001b[43m(\u001b[49m\n\u001b[1;32m     11\u001b[0m \u001b[43m    \u001b[49m\u001b[38;5;124;43m'\u001b[39;49m\u001b[38;5;124;43mfoursquare\u001b[39;49m\u001b[38;5;124;43m'\u001b[39;49m\u001b[43m,\u001b[49m\u001b[43m \u001b[49m\u001b[43mfoursquare_schema\u001b[49m\u001b[43m)\u001b[49m\n",
      "File \u001b[0;32m~/code/bigraph-schema/bigraph_schema/registry.py:264\u001b[0m, in \u001b[0;36mTypeRegistry.register\u001b[0;34m(self, key, schema, alternate_keys, force)\u001b[0m\n\u001b[1;32m    262\u001b[0m subschema \u001b[38;5;241m=\u001b[39m \u001b[38;5;28mself\u001b[39m\u001b[38;5;241m.\u001b[39maccess(original_subschema)\n\u001b[1;32m    263\u001b[0m \u001b[38;5;28;01mif\u001b[39;00m subschema \u001b[38;5;129;01mis\u001b[39;00m \u001b[38;5;28;01mNone\u001b[39;00m:\n\u001b[0;32m--> 264\u001b[0m     \u001b[38;5;28;01mraise\u001b[39;00m \u001b[38;5;167;01mException\u001b[39;00m(\u001b[38;5;124mf\u001b[39m\u001b[38;5;124m'\u001b[39m\u001b[38;5;124mtrying to register a new type (\u001b[39m\u001b[38;5;132;01m{\u001b[39;00mkey\u001b[38;5;132;01m}\u001b[39;00m\u001b[38;5;124m), \u001b[39m\u001b[38;5;124m'\u001b[39m\n\u001b[1;32m    265\u001b[0m                     \u001b[38;5;124mf\u001b[39m\u001b[38;5;124m'\u001b[39m\u001b[38;5;124mbut it depends on a type (\u001b[39m\u001b[38;5;132;01m{\u001b[39;00msubkey\u001b[38;5;132;01m}\u001b[39;00m\u001b[38;5;124m) which is not in the registry\u001b[39m\u001b[38;5;124m'\u001b[39m)\n\u001b[1;32m    266\u001b[0m \u001b[38;5;28;01melse\u001b[39;00m:\n\u001b[1;32m    267\u001b[0m     schema[subkey] \u001b[38;5;241m=\u001b[39m subschema\n",
      "\u001b[0;31mException\u001b[0m: trying to register a new type (foursquare), but it depends on a type (00) which is not in the registry"
     ]
    }
   ],
   "source": [
    "foursquare_schema = {\n",
    "     # '_type': 'foursquare',\n",
    "     '00': 'union[bool,foursquare]',\n",
    "     '01': 'union[bool,foursquare]',\n",
    "     '10': 'union[bool,foursquare]',\n",
    "     '11': 'union[bool,foursquare]',\n",
    "     '_default': {'00': False, '01': False, '10': False, '11': False},\n",
    "     '_description': '',\n",
    "}\n",
    "types.type_registry.register(\n",
    "    'foursquare', foursquare_schema)"
   ]
  },
  {
   "cell_type": "code",
   "execution_count": null,
   "id": "d015fb38-4661-43ba-86a2-124ac3e422b9",
   "metadata": {
    "tags": []
   },
   "outputs": [],
   "source": [
    "import os\n",
    "import matplotlib.pyplot as plt\n",
    "import numpy as np\n",
    "\n",
    "def render(data, arr, x, y, size):\n",
    "    if isinstance(data, dict):\n",
    "        half_size = size // 2\n",
    "        if '00' in data:\n",
    "            render(data['00'], arr, x, y + half_size, half_size)\n",
    "        if '01' in data:\n",
    "            render(data['01'], arr, x + half_size, y + half_size, half_size)\n",
    "        if '10' in data:\n",
    "            render(data['10'], arr, x, y, half_size)\n",
    "        if '11' in data:\n",
    "            render(data['11'], arr, x + half_size, y, half_size)\n",
    "    else:\n",
    "        arr[y:y+size, x:x+size] = 0 if data else 1  # Change to '0 if data else 1' to make True values black\n",
    "\n",
    "def find_depth(data):\n",
    "    if isinstance(data, dict):\n",
    "        return 1 + max(find_depth(data[key]) for key in data)\n",
    "    return 0\n",
    "\n",
    "def plot_foursquare(data, out_dir='out', filename=None):\n",
    "    depth = find_depth(data)\n",
    "    size = 2 ** depth\n",
    "    arr = np.ones((size, size))\n",
    "    render(data, arr, 0, 0, size)\n",
    "    plt.imshow(arr, cmap='gray', interpolation='nearest')\n",
    "    plt.axis('off')\n",
    "    if filename:\n",
    "        os.makedirs(out_dir, exist_ok=True)\n",
    "        fig_path = os.path.join(out_dir, filename)\n",
    "        plt.savefig(fig_path, format='png', dpi=300)\n",
    "    plt.show()\n",
    "\n",
    "# TODO: get this to register as a type\n",
    "example = {\n",
    "    '00': True, \n",
    "    '11': {\n",
    "        '00': True, \n",
    "        '11': {\n",
    "            '00': True, \n",
    "            '11': {\n",
    "                '00': True, \n",
    "                '11': {\n",
    "                    '00': True, \n",
    "                    '11': {\n",
    "                        '00': True, \n",
    "                    },\n",
    "                },\n",
    "            },\n",
    "        },\n",
    "    },\n",
    "}\n",
    "\n",
    "plot_foursquare(example, filename=\"example.png\")"
   ]
  },
  {
   "cell_type": "markdown",
   "id": "ad02fcd2-e0b1-49bb-b58b-492a3474120e",
   "metadata": {},
   "source": [
    "## Instance\n",
    "An instances is the particular set of values that populate a bigraph structure, adhering to a given schema. An instance encapsulates the current conditions and predicts future evolution based on the governing equations or rules. As the system evolves over time, the state transitions through various bigraphical configurations."
   ]
  },
  {
   "cell_type": "code",
   "execution_count": null,
   "id": "a7b6c20a-5604-485a-8f50-bfd8bf6c003a",
   "metadata": {
    "tags": []
   },
   "outputs": [],
   "source": [
    "bigraph_state = {\n",
    "    'node1': 1.0,\n",
    "    'node2': {\n",
    "        'node2.1': 2.0,\n",
    "        'node2.2': 2.1\n",
    "    }\n",
    "}\n",
    "plot_bigraph(bigraph_state, show_values=True)"
   ]
  },
  {
   "cell_type": "markdown",
   "id": "a5eaef05-63cd-45a4-8cef-ae363a944ff2",
   "metadata": {},
   "source": [
    "### Fill state\n",
    "\n",
    "One of the key advantages of a type system is its ability to improve automation in compositional modeling. The `fill` function exemplifies this by automatically populating missing schema elements. Given a schema and an incomplete instance, the fill function intelligently identifies and fills the missing schema components, ensuring that the instance is compliant with the schema definition."
   ]
  },
  {
   "cell_type": "code",
   "execution_count": null,
   "id": "eba9e8a0-2558-48f9-b038-1ae08778875c",
   "metadata": {},
   "outputs": [],
   "source": [
    "dual_edge_schema = {\n",
    "    'edge1': {\n",
    "        '_type': 'edge',\n",
    "        '_ports': {\n",
    "            'port1': 'float',\n",
    "            'port2': 'int',\n",
    "        },\n",
    "    },\n",
    "    'edge2': {\n",
    "        '_type': 'edge',\n",
    "        '_ports': {\n",
    "            'port1': 'float',\n",
    "            'port2': 'int',\n",
    "        },\n",
    "    },\n",
    "}    \n",
    "\n",
    "types.type_registry.register('dual_edge', dual_edge_schema, force=True)\n",
    "\n",
    "schema = {\n",
    "    'store1': 'dual_edge',\n",
    "    'edge3': {\n",
    "        '_type': 'edge',\n",
    "        '_ports': {\n",
    "            'port1': 'dual_edge'\n",
    "        }\n",
    "    }\n",
    "}\n",
    "\n",
    "instance = {\n",
    "    'store1': {\n",
    "        'edge1': {\n",
    "            'wires': {\n",
    "                'port1': 'store1.1',\n",
    "                'port2': 'store1.2',\n",
    "            }\n",
    "        },\n",
    "        'edge2': {\n",
    "            'wires': {\n",
    "                'port1': 'store1.1',\n",
    "                'port2': 'store1.2',\n",
    "            }\n",
    "        }\n",
    "    },\n",
    "    'edge3': {\n",
    "        'wires': {\n",
    "            'port1': 'store1',\n",
    "        }\n",
    "    },\n",
    "}\n",
    "filled_instance = types.fill(schema, instance)\n",
    "filled_schema = types.type_registry.access(schema)"
   ]
  },
  {
   "cell_type": "code",
   "execution_count": null,
   "id": "4364577c-fd11-4b93-950f-22e556e8d889",
   "metadata": {
    "tags": []
   },
   "outputs": [],
   "source": [
    "print(f'schema:\\n {pf(schema)}\\n')\n",
    "print(f'instance:\\n {pf(instance)}\\n')\n",
    "# print(f'filled schema:\\n {pf(filled_schema)}\\n')\n",
    "print(f'filled instance:\\n {pf(filled_instance)}\\n')"
   ]
  },
  {
   "cell_type": "code",
   "execution_count": null,
   "id": "21d11947-29c8-473b-9a2d-ebbfbdc99936",
   "metadata": {},
   "outputs": [],
   "source": [
    "plot_bigraph(filled_instance, remove_process_place_edges=True, port_labels=False)"
   ]
  },
  {
   "cell_type": "markdown",
   "id": "07f8219d-43d2-4d6c-92af-d00976da0703",
   "metadata": {},
   "source": [
    "## Update"
   ]
  },
  {
   "cell_type": "code",
   "execution_count": null,
   "id": "5635ed86-9996-4648-b1d6-973a666bfd06",
   "metadata": {
    "tags": []
   },
   "outputs": [],
   "source": [
    "place_schema = {\n",
    "    '_type': 'tree[float]',\n",
    "}\n",
    "\n",
    "place_state1 = {\n",
    "    'node1': 1.0,\n",
    "    'node2': {\n",
    "        'node2.1': 2.0,\n",
    "        'node2.2': 2.1\n",
    "    }\n",
    "}\n",
    "plot_bigraph(place_state1, show_values=True)"
   ]
  },
  {
   "cell_type": "code",
   "execution_count": null,
   "id": "d5e899b0-00e7-4c48-ac3a-eb12afad36c4",
   "metadata": {
    "tags": []
   },
   "outputs": [],
   "source": [
    "update = {\n",
    "    'node1': 5.1,\n",
    "    'node2': {\n",
    "        'node2.1': -5.0,\n",
    "        # 'node2.2': -2.0\n",
    "    }\n",
    "}\n",
    "\n",
    "place_state2 = types.apply(\n",
    "    place_schema,\n",
    "    place_state1,\n",
    "    update\n",
    ")\n",
    "plot_bigraph(place_state2, show_values=True)"
   ]
  },
  {
   "cell_type": "code",
   "execution_count": null,
   "id": "9cfe4fab-62be-4921-8037-fa45a0a3617e",
   "metadata": {
    "tags": []
   },
   "outputs": [],
   "source": [
    "# update = {\n",
    "#     '_remove': ['node1'],\n",
    "#     'node2': {\n",
    "#         '_remove': ['node2.2'],\n",
    "#         'node2.3': 0.5,\n",
    "#         'node2.4': {'node2.2.1': -2.0}\n",
    "#     }\n",
    "# }\n",
    "update = {\n",
    "    '_remove': [\n",
    "        ['node1'], \n",
    "        ['node2', 'node2.2'],\n",
    "    ],\n",
    "}\n",
    "\n",
    "place_state3 = types.apply(\n",
    "    place_schema,\n",
    "    place_state2,\n",
    "    update\n",
    ")\n",
    "plot_bigraph(place_state2, show_values=True)"
   ]
  },
  {
   "cell_type": "markdown",
   "id": "7bec54cf-d524-4897-98d0-861c000fba31",
   "metadata": {},
   "source": [
    "## View/Project through wires"
   ]
  },
  {
   "cell_type": "code",
   "execution_count": null,
   "id": "328b973d-34ea-45ba-b0b1-90fe6248d124",
   "metadata": {},
   "outputs": [],
   "source": []
  },
  {
   "cell_type": "markdown",
   "id": "028bc593-068d-4020-937a-4c9c39c31d9a",
   "metadata": {},
   "source": [
    "## Query\n",
    "\n",
    "Find a schema within a composite. For example find a mitochondria within a cell\n",
    "\n",
    "## Adapters\n",
    "\n",
    "Show how adapters can automatically compose into a schema to provide translation between types."
   ]
  },
  {
   "cell_type": "code",
   "execution_count": null,
   "id": "fdd3134e-f576-445b-8dd4-5eacb55bbdf4",
   "metadata": {},
   "outputs": [],
   "source": []
  }
 ],
 "metadata": {
  "kernelspec": {
   "display_name": "Python 3 (ipykernel)",
   "language": "python",
   "name": "python3"
  },
  "language_info": {
   "codemirror_mode": {
    "name": "ipython",
    "version": 3
   },
   "file_extension": ".py",
   "mimetype": "text/x-python",
   "name": "python",
   "nbconvert_exporter": "python",
   "pygments_lexer": "ipython3",
   "version": "3.9.6"
  }
 },
 "nbformat": 4,
 "nbformat_minor": 5
}

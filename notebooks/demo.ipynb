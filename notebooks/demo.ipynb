{
 "cells": [
  {
   "cell_type": "markdown",
   "id": "e00b3123-97ef-4c0c-8be0-09fecb055aa9",
   "metadata": {
    "tags": []
   },
   "source": [
    "# Bigraph Schema\n",
    "\n",
    "This tutorial explore the bigraph schema library. Bigraph schema enables different simulators, models, and data to communicate with each other through standardized type definitions and wiring diagrams. By providing a robust type system and serializable data format, this makes composite simulators shareable, extendable, and easily distributed across various computer architectures.\n",
    "\n",
    "We'll use the [bigraph-schema](https://pypi.org/project/bigraph-schema/) library for validation and processing of the schema, and the [bigraph-viz](https://pypi.org/project/bigraph-viz/) library for plotting library for visualizing the resulting simulation configuration.\n",
    "\n",
    "This notebook does not introduce the Bigraph concepts, rather it is focused on type definition and access. If you're new to the concepts of Bigraphs, check out the [Bigraph Schema Basics Tutorial](https://vivarium-collective.github.io/bigraph-viz/notebooks/basics.html)."
   ]
  },
  {
   "cell_type": "markdown",
   "id": "a629c223-65bb-459f-88e9-4aea79760519",
   "metadata": {},
   "source": [
    "### Installation\n",
    "To start, let's install the necessary libraries and display their versions:"
   ]
  },
  {
   "cell_type": "code",
   "execution_count": 1,
   "id": "c49100b1-b4e6-425c-84a1-7ed5c8fa632e",
   "metadata": {
    "tags": []
   },
   "outputs": [
    {
     "name": "stdout",
     "output_type": "stream",
     "text": [
      "-e git+https://github.com/vivarium-collective/bigraph-schema.git@b91909037f5c68fb57682ab65d8d9c9630779f5d#egg=bigraph_schema\n",
      "bigraph-viz==0.0.25\n"
     ]
    }
   ],
   "source": [
    "# !pip install bigraph-schema\n",
    "# !pip install bigraph-viz\n",
    "!pip freeze | grep bigraph"
   ]
  },
  {
   "cell_type": "markdown",
   "id": "09ed5449-24a8-4021-975d-363bcb08abfc",
   "metadata": {},
   "source": [
    "### Imports\n",
    "We will use the `validate_schema` method to check our schemas, `fill` method to fill in missing details to prepare the schema for simulation, and the `type_registry` object to access different schemas and register new ones."
   ]
  },
  {
   "cell_type": "code",
   "execution_count": 14,
   "id": "cac34387-fc7e-41cc-808a-00ffd472ea3e",
   "metadata": {
    "tags": []
   },
   "outputs": [],
   "source": [
    "import copy\n",
    "from bigraph_schema import (\n",
    "    validate_schema, \n",
    "    validate_state, \n",
    "    fill, \n",
    "    type_registry\n",
    ")\n",
    "from bigraph_schema.registry import type_schema_keys  # Can't add to this because its a tuple\n",
    "from bigraph_viz import plot_bigraph, pf, pp\n",
    "from bigraph_viz.dict_utils import schema_keys\n",
    "\n",
    "# register some required types\n",
    "type_registry.register('URI', {'_default': '0-000-00000-0'})  # how do we test that something is a URI?\n",
    "type_registry.register('KISAO', {'_default': 'KISAO:0000000'})  # how do we test that something is a URI?\n",
    "schema_keys.extend(['_super', 'config']) # TODO -- this should be default, also should use the bigraph_schema keys"
   ]
  },
  {
   "cell_type": "markdown",
   "id": "e7845dfc-2fc0-42bb-b6e0-677e11b7184f",
   "metadata": {},
   "source": [
    "## Type System\n",
    "A type system comprises a set of rules and constraints that govern the organization, interaction, and manipulation of data types, facilitating efficient and error-free compositional modeling by guaranteeing compatibility and seamless communication between various components within a simulation.\n",
    "\n",
    "Schemas serve as a formalized framework for defining and organizing types, providing explicit specifications for data representation, validation, and transformation. In a schema, types are characterized by specific `schema_keys` associated with type definitions, encompassing default values, serialization/deserialization methods, and additional metadata. The `schema_keys` encompass the following attributes:"
   ]
  },
  {
   "cell_type": "code",
   "execution_count": 3,
   "id": "ecb4d869-066a-4205-a11f-1e774282a35e",
   "metadata": {
    "tags": []
   },
   "outputs": [
    {
     "data": {
      "text/plain": [
       "('_default',\n",
       " '_apply',\n",
       " '_serialize',\n",
       " '_deserialize',\n",
       " '_type',\n",
       " '_value',\n",
       " '_divide',\n",
       " '_description',\n",
       " '_ports',\n",
       " '_type_parameters',\n",
       " '_super')"
      ]
     },
     "execution_count": 3,
     "metadata": {},
     "output_type": "execute_result"
    }
   ],
   "source": [
    "type_schema_keys"
   ]
  },
  {
   "cell_type": "markdown",
   "id": "54d08aa8-9196-48d6-bbe7-1ec260c2f5d5",
   "metadata": {},
   "source": [
    "## Type Registry\n",
    "A type registry is used to store and manage schema definitions related to various simulation modules, streamlining the process of accessing, extending, and reusing type information across different components. \n",
    "\n",
    "### List current types\n",
    "The names of the current types available in the registry can be easily printed:"
   ]
  },
  {
   "cell_type": "code",
   "execution_count": 4,
   "id": "201e14e9-5689-47c0-b2b1-2e303f4dd0f9",
   "metadata": {
    "tags": []
   },
   "outputs": [
    {
     "data": {
      "text/plain": [
       "['',\n",
       " 'current*length^2*time',\n",
       " 'length^4*mass/time^3',\n",
       " 'string',\n",
       " 'length/time^2',\n",
       " '/substance',\n",
       " 'substance/time',\n",
       " 'length^3*mass/(current^2*time^4)',\n",
       " 'length^2*mass/time^2',\n",
       " 'mass/length',\n",
       " 'mass',\n",
       " 'substance/length^3',\n",
       " '/printing_unit',\n",
       " 'length*time/mass',\n",
       " 'current*time/substance',\n",
       " 'length*mass/time',\n",
       " 'length^2*mass/(temperature*time^2)',\n",
       " 'luminosity',\n",
       " 'time/length',\n",
       " 'current*length^2',\n",
       " 'length^2*mass/time',\n",
       " 'current*time^2/(length^2*mass)',\n",
       " 'temperature',\n",
       " 'luminosity/length^2',\n",
       " 'tree',\n",
       " 'mass/(current*time^2)',\n",
       " 'length',\n",
       " '/(temperature*time)',\n",
       " 'time',\n",
       " 'length^2*mass/(current*time^3)',\n",
       " '/length',\n",
       " 'current*time/mass',\n",
       " 'length*mass',\n",
       " 'float',\n",
       " 'mass/(length*time^2)',\n",
       " 'length*mass/(current^2*time^2)',\n",
       " 'edge',\n",
       " 'dict',\n",
       " 'current^2*time^4/(length^2*mass)',\n",
       " 'length^2*mass/(current^2*time^2)',\n",
       " 'length*temperature',\n",
       " 'mass/length^1.5',\n",
       " 'printing_unit',\n",
       " 'time^2/length',\n",
       " 'number',\n",
       " 'printing_unit/length',\n",
       " 'length^3/time',\n",
       " 'length^2/time',\n",
       " 'KISAO',\n",
       " 'mass/(length*time)',\n",
       " 'current^2*time^3/(length^2*mass)',\n",
       " 'length^2*mass/(current*time^2)',\n",
       " '/time',\n",
       " 'length^3',\n",
       " 'mass/time^2',\n",
       " 'length^1.5*mass/time^2',\n",
       " 'current*time',\n",
       " 'current^2*time^4/(length^3*mass)',\n",
       " 'length^2*mass/(substance*temperature*time^2)',\n",
       " 'mass/(temperature^4*time^3)',\n",
       " 'length*mass/(current*time^3)',\n",
       " 'length^2*mass/time^3',\n",
       " 'mass/time^3',\n",
       " 'length^1.5*mass/time',\n",
       " 'length/mass',\n",
       " 'length^2/time^2',\n",
       " 'length^2*mass/(current^2*time^3)',\n",
       " 'any',\n",
       " 'mass/length^3',\n",
       " 'current',\n",
       " 'length^3/(mass*time^2)',\n",
       " 'length^2',\n",
       " 'list',\n",
       " 'int',\n",
       " 'current*length*time',\n",
       " 'maybe',\n",
       " 'substance',\n",
       " 'length/time',\n",
       " 'length*mass/time^2',\n",
       " 'URI']"
      ]
     },
     "execution_count": 4,
     "metadata": {},
     "output_type": "execute_result"
    }
   ],
   "source": [
    "type_registry.list()"
   ]
  },
  {
   "cell_type": "markdown",
   "id": "4f9b3efb-e67f-4158-a012-7e53250782cf",
   "metadata": {},
   "source": [
    "### Accessing a type\n",
    "Types can be accessed from the registry by their name:"
   ]
  },
  {
   "cell_type": "code",
   "execution_count": 5,
   "id": "d47a37a6-fcd6-4aa6-a711-bdbbcc775714",
   "metadata": {
    "tags": []
   },
   "outputs": [
    {
     "data": {
      "text/plain": [
       "{'_apply': 'accumulate',\n",
       " '_serialize': 'to_string',\n",
       " '_description': '64-bit floating point precision number',\n",
       " '_default': '0.0',\n",
       " '_deserialize': 'float',\n",
       " '_divide': 'divide_float',\n",
       " '_super': ['number']}"
      ]
     },
     "execution_count": 5,
     "metadata": {},
     "output_type": "execute_result"
    }
   ],
   "source": [
    "type_registry.access('float')"
   ]
  },
  {
   "cell_type": "markdown",
   "id": "d20e9721-64d2-453b-88dc-2cf9f39bb4ed",
   "metadata": {},
   "source": [
    "### Expand a type to show all subtypes"
   ]
  },
  {
   "cell_type": "code",
   "execution_count": 6,
   "id": "2eb4fa5d-8668-4202-a5b4-032596b35c33",
   "metadata": {
    "tags": []
   },
   "outputs": [
    {
     "name": "stdout",
     "output_type": "stream",
     "text": [
      "{ 'wires': { '_type': 'tree[list[string]]',\n",
      "             '_type_parameters': { 'A': { '_type': 'list',\n",
      "                                          '_type_parameters': { 'A': { '_type': 'string'}}}}}}\n"
     ]
    }
   ],
   "source": [
    "pp(type_registry.expand('edge'))"
   ]
  },
  {
   "cell_type": "markdown",
   "id": "67ceab4d-5d49-40d4-91fc-582f8cfe4ede",
   "metadata": {},
   "source": [
    "### Register a new type\n",
    "You can add new types to the type registry using  `type_registry.register(type_name:str, type_schema:dict)`:"
   ]
  },
  {
   "cell_type": "code",
   "execution_count": 7,
   "id": "bb254b26-9f3d-4fe3-8a61-839f31b976b7",
   "metadata": {
    "tags": []
   },
   "outputs": [],
   "source": [
    "sbml_schema = {\n",
    "    '_super': 'string',\n",
    "    'model_file': 'string',\n",
    "    '_default': 'SBML:0000000',\n",
    "    '_description': '',\n",
    "}\n",
    "type_registry.register(\n",
    "    'SBML', sbml_schema)"
   ]
  },
  {
   "cell_type": "markdown",
   "id": "965f8da0-fb66-4e4f-a8c7-1386f7bb42e5",
   "metadata": {},
   "source": [
    "## Processes\n",
    "\n",
    "Processes are a type that includes a `_ports` key, which maps to a dictionary with `{port_name: port_type}`. Here is a "
   ]
  },
  {
   "cell_type": "code",
   "execution_count": 8,
   "id": "e6a5b944-e2a3-43e3-af01-f1bd29631aeb",
   "metadata": {
    "tags": []
   },
   "outputs": [],
   "source": [
    "from bigraph_schema.registry import deserialize_registry, serialize_registry, apply_registry\n",
    "\n",
    "def protocol_location_serialize(value):\n",
    "    return value\n",
    "\n",
    "def protocol_location_deserialize(serialized_value):\n",
    "    return serialize_value\n",
    "\n",
    "def protocol_location_apply(existing_value, update):\n",
    "    return update\n",
    "\n",
    "serialize_registry.register('protocol:location', protocol_location_serialize)\n",
    "deserialize_registry.register('protocol:location', protocol_location_deserialize)\n",
    "apply_registry.register('protocol:location', protocol_location_apply)\n",
    "\n",
    "protocol_location_schema = {\n",
    "    '_default': ':',\n",
    "    '_apply': '_',\n",
    "    '_serialize': 'protocol:location',\n",
    "    '_deserialize': 'protocol:location',\n",
    "    '_description': 'a representation of how and where to access a process implementation',\n",
    "}\n",
    "type_registry.register(\n",
    "    'protocol:location', protocol_location_schema)\n",
    "\n",
    "#process schema\n",
    "process_schema = {\n",
    "    '_super': 'edge',\n",
    "    'process_location': 'protocol:location',\n",
    "    'config': 'hash[]',\n",
    "    '_description': 'The base process schema.',\n",
    "}\n",
    "type_registry.register(\n",
    "    'process', process_schema)"
   ]
  },
  {
   "cell_type": "code",
   "execution_count": 15,
   "id": "ab963a99-e045-4ccf-97c4-b2929941a83e",
   "metadata": {
    "tags": []
   },
   "outputs": [
    {
     "data": {
      "image/svg+xml": [
       "<?xml version=\"1.0\" encoding=\"UTF-8\" standalone=\"no\"?>\n",
       "<!DOCTYPE svg PUBLIC \"-//W3C//DTD SVG 1.1//EN\"\n",
       " \"http://www.w3.org/Graphics/SVG/1.1/DTD/svg11.dtd\">\n",
       "<!-- Generated by graphviz version 7.1.0 (20230121.1956)\n",
       " -->\n",
       "<!-- Title: bigraph Pages: 1 -->\n",
       "<svg width=\"200pt\" height=\"310pt\"\n",
       " viewBox=\"0.00 0.00 206.17 319.36\" xmlns=\"http://www.w3.org/2000/svg\" xmlns:xlink=\"http://www.w3.org/1999/xlink\">\n",
       "<g id=\"graph0\" class=\"graph\" transform=\"scale(0.972222 0.972222) rotate(0) translate(4 315.36)\">\n",
       "<title>bigraph</title>\n",
       "<polygon fill=\"white\" stroke=\"none\" points=\"-4,4 -4,-315.36 202.17,-315.36 202.17,4 -4,4\"/>\n",
       "<!-- (&#39;process1&#39;, &#39;process_location&#39;) -->\n",
       "<g id=\"node1\" class=\"node\">\n",
       "<title>(&#39;process1&#39;, &#39;process_location&#39;)</title>\n",
       "<ellipse fill=\"none\" stroke=\"black\" stroke-width=\"2\" cx=\"93.01\" cy=\"-61.52\" rx=\"61.54\" ry=\"61.54\"/>\n",
       "<text text-anchor=\"start\" x=\"53.51\" y=\"-64.92\" font-family=\"Times,serif\" font-size=\"12.00\">process_location</text>\n",
       "<text text-anchor=\"start\" x=\"57.01\" y=\"-51.92\" font-family=\"Times,serif\" font-size=\"12.00\">0&#45;000&#45;00000&#45;1</text>\n",
       "</g>\n",
       "<!-- (&#39;process1&#39;,) -->\n",
       "<g id=\"node2\" class=\"node\">\n",
       "<title>(&#39;process1&#39;,)</title>\n",
       "<polygon fill=\"none\" stroke=\"black\" stroke-width=\"2\" points=\"120.01,-200.04 66.01,-200.04 66.01,-164.04 120.01,-164.04 120.01,-200.04\"/>\n",
       "<polygon fill=\"none\" stroke=\"black\" stroke-width=\"2\" points=\"124.01,-204.04 62.01,-204.04 62.01,-160.04 124.01,-160.04 124.01,-204.04\"/>\n",
       "<text text-anchor=\"start\" x=\"72.01\" y=\"-178.94\" font-family=\"Times,serif\" font-size=\"12.00\">process1</text>\n",
       "</g>\n",
       "<!-- (&#39;process1&#39;,)&#45;&gt;(&#39;process1&#39;, &#39;process_location&#39;) -->\n",
       "<g id=\"edge1\" class=\"edge\">\n",
       "<title>(&#39;process1&#39;,)&#45;&gt;(&#39;process1&#39;, &#39;process_location&#39;)</title>\n",
       "<path fill=\"none\" stroke=\"black\" stroke-width=\"2\" d=\"M93.01,-159.3C93.01,-149.21 93.01,-136.65 93.01,-123.96\"/>\n",
       "</g>\n",
       "<!-- (&#39;counts&#39;,) -->\n",
       "<g id=\"node3\" class=\"node\">\n",
       "<title>(&#39;counts&#39;,)</title>\n",
       "<ellipse fill=\"none\" stroke=\"black\" stroke-width=\"2\" cx=\"24.01\" cy=\"-281.2\" rx=\"24.02\" ry=\"24.02\"/>\n",
       "<text text-anchor=\"start\" x=\"8.51\" y=\"-278.1\" font-family=\"Times,serif\" font-size=\"12.00\">counts</text>\n",
       "</g>\n",
       "<!-- (&#39;counts&#39;,)&#45;&gt;(&#39;process1&#39;,) -->\n",
       "<g id=\"edge2\" class=\"edge\">\n",
       "<title>(&#39;counts&#39;,)&#45;&gt;(&#39;process1&#39;,)</title>\n",
       "<path fill=\"none\" stroke=\"black\" stroke-dasharray=\"5,2\" d=\"M36.26,-259.61C43.21,-248.3 52.23,-234.15 61.01,-222.04 64.22,-217.6 67.77,-213.01 71.3,-208.6\"/>\n",
       "<ellipse fill=\"black\" stroke=\"black\" cx=\"72.69\" cy=\"-206.89\" rx=\"2\" ry=\"2\"/>\n",
       "<text text-anchor=\"start\" x=\"61.01\" y=\"-225.04\" font-family=\"Times,serif\" font-size=\"10.00\">counts</text>\n",
       "</g>\n",
       "<!-- (&#39;volume&#39;,) -->\n",
       "<g id=\"node4\" class=\"node\">\n",
       "<title>(&#39;volume&#39;,)</title>\n",
       "<ellipse fill=\"none\" stroke=\"black\" stroke-width=\"2\" cx=\"93.01\" cy=\"-281.2\" rx=\"27.17\" ry=\"27.17\"/>\n",
       "<text text-anchor=\"start\" x=\"75.01\" y=\"-278.1\" font-family=\"Times,serif\" font-size=\"12.00\">volume</text>\n",
       "</g>\n",
       "<!-- (&#39;volume&#39;,)&#45;&gt;(&#39;process1&#39;,) -->\n",
       "<g id=\"edge3\" class=\"edge\">\n",
       "<title>(&#39;volume&#39;,)&#45;&gt;(&#39;process1&#39;,)</title>\n",
       "<path fill=\"none\" stroke=\"black\" stroke-dasharray=\"5,2\" d=\"M93.01,-253.13C93.01,-239.53 93.01,-223.11 93.01,-209.58\"/>\n",
       "<ellipse fill=\"black\" stroke=\"black\" cx=\"93.01\" cy=\"-207.24\" rx=\"2\" ry=\"2\"/>\n",
       "<text text-anchor=\"start\" x=\"93.01\" y=\"-225.04\" font-family=\"Times,serif\" font-size=\"10.00\">volume</text>\n",
       "</g>\n",
       "<!-- (&#39;affinities&#39;,) -->\n",
       "<g id=\"node5\" class=\"node\">\n",
       "<title>(&#39;affinities&#39;,)</title>\n",
       "<ellipse fill=\"none\" stroke=\"black\" stroke-width=\"2\" cx=\"168.01\" cy=\"-281.2\" rx=\"30.33\" ry=\"30.33\"/>\n",
       "<text text-anchor=\"start\" x=\"147.51\" y=\"-278.1\" font-family=\"Times,serif\" font-size=\"12.00\">affinities</text>\n",
       "</g>\n",
       "<!-- (&#39;affinities&#39;,)&#45;&gt;(&#39;process1&#39;,) -->\n",
       "<g id=\"edge4\" class=\"edge\">\n",
       "<title>(&#39;affinities&#39;,)&#45;&gt;(&#39;process1&#39;,)</title>\n",
       "<path fill=\"none\" stroke=\"black\" stroke-dasharray=\"5,2\" d=\"M151.57,-254.79C144.59,-244.41 136.2,-232.44 128.01,-222.04 124.49,-217.57 120.6,-212.96 116.74,-208.54\"/>\n",
       "<ellipse fill=\"black\" stroke=\"black\" cx=\"115.16\" cy=\"-206.76\" rx=\"2\" ry=\"2\"/>\n",
       "<text text-anchor=\"start\" x=\"136.01\" y=\"-225.04\" font-family=\"Times,serif\" font-size=\"10.00\">affinities</text>\n",
       "</g>\n",
       "</g>\n",
       "</svg>\n"
      ],
      "text/plain": [
       "<graphviz.graphs.Digraph at 0x1099f5b80>"
      ]
     },
     "execution_count": 15,
     "metadata": {},
     "output_type": "execute_result"
    }
   ],
   "source": [
    "process_instance = {\n",
    "    'process1': {\n",
    "       'process_location': '0-000-00000-1',\n",
    "       'config': {\n",
    "           'model': 'SBML:0000000', \n",
    "           'update_method': 'KISAO:0000019',\n",
    "       },\n",
    "       'wires': {\n",
    "            'counts': ['counts'],\n",
    "            'volume': ['volume'],\n",
    "            'affinities': ['affinities'],\n",
    "        }\n",
    "    }\n",
    "}\n",
    "plot_bigraph(process_instance, show_values=True)"
   ]
  },
  {
   "cell_type": "markdown",
   "id": "ad02fcd2-e0b1-49bb-b58b-492a3474120e",
   "metadata": {},
   "source": [
    "## State\n",
    "A state is the particular set of values that populate a bigraph structure, adhering to a predefined schema. The state is essential for understanding a system's behavior, as it encapsulates the current conditions and predicts future evolution based on the governing equations or rules. As the system evolves over time, the state transitions through various bigraphical configurations."
   ]
  },
  {
   "cell_type": "code",
   "execution_count": 10,
   "id": "a7b6c20a-5604-485a-8f50-bfd8bf6c003a",
   "metadata": {
    "tags": []
   },
   "outputs": [
    {
     "data": {
      "image/svg+xml": [
       "<?xml version=\"1.0\" encoding=\"UTF-8\" standalone=\"no\"?>\n",
       "<!DOCTYPE svg PUBLIC \"-//W3C//DTD SVG 1.1//EN\"\n",
       " \"http://www.w3.org/Graphics/SVG/1.1/DTD/svg11.dtd\">\n",
       "<!-- Generated by graphviz version 7.1.0 (20230121.1956)\n",
       " -->\n",
       "<!-- Title: bigraph Pages: 1 -->\n",
       "<svg width=\"185pt\" height=\"167pt\"\n",
       " viewBox=\"0.00 0.00 190.10 172.21\" xmlns=\"http://www.w3.org/2000/svg\" xmlns:xlink=\"http://www.w3.org/1999/xlink\">\n",
       "<g id=\"graph0\" class=\"graph\" transform=\"scale(0.972222 0.972222) rotate(0) translate(4 168.21)\">\n",
       "<title>bigraph</title>\n",
       "<polygon fill=\"white\" stroke=\"none\" points=\"-4,4 -4,-168.21 186.1,-168.21 186.1,4 -4,4\"/>\n",
       "<!-- (&#39;node1&#39;,) -->\n",
       "<g id=\"node1\" class=\"node\">\n",
       "<title>(&#39;node1&#39;,)</title>\n",
       "<ellipse fill=\"none\" stroke=\"black\" stroke-width=\"2\" cx=\"30.87\" cy=\"-133.34\" rx=\"26.76\" ry=\"26.76\"/>\n",
       "<ellipse fill=\"none\" stroke=\"black\" stroke-width=\"2\" cx=\"30.87\" cy=\"-133.34\" rx=\"30.74\" ry=\"30.74\"/>\n",
       "<text text-anchor=\"start\" x=\"15.87\" y=\"-136.74\" font-family=\"Times,serif\" font-size=\"12.00\">node1</text>\n",
       "<text text-anchor=\"start\" x=\"22.87\" y=\"-123.74\" font-family=\"Times,serif\" font-size=\"12.00\">1.0</text>\n",
       "</g>\n",
       "<!-- (&#39;node2&#39;,) -->\n",
       "<g id=\"node2\" class=\"node\">\n",
       "<title>(&#39;node2&#39;,)</title>\n",
       "<ellipse fill=\"none\" stroke=\"black\" stroke-width=\"2\" cx=\"106.87\" cy=\"-133.34\" rx=\"23.3\" ry=\"23.3\"/>\n",
       "<ellipse fill=\"none\" stroke=\"black\" stroke-width=\"2\" cx=\"106.87\" cy=\"-133.34\" rx=\"27.29\" ry=\"27.29\"/>\n",
       "<text text-anchor=\"start\" x=\"91.87\" y=\"-130.24\" font-family=\"Times,serif\" font-size=\"12.00\">node2</text>\n",
       "</g>\n",
       "<!-- (&#39;node2&#39;, &#39;node2.1&#39;) -->\n",
       "<g id=\"node3\" class=\"node\">\n",
       "<title>(&#39;node2&#39;, &#39;node2.1&#39;)</title>\n",
       "<ellipse fill=\"none\" stroke=\"black\" stroke-width=\"2\" cx=\"64.87\" cy=\"-33.23\" rx=\"33.47\" ry=\"33.47\"/>\n",
       "<text text-anchor=\"start\" x=\"45.37\" y=\"-36.63\" font-family=\"Times,serif\" font-size=\"12.00\">node2.1</text>\n",
       "<text text-anchor=\"start\" x=\"56.87\" y=\"-23.63\" font-family=\"Times,serif\" font-size=\"12.00\">2.0</text>\n",
       "</g>\n",
       "<!-- (&#39;node2&#39;,)&#45;&gt;(&#39;node2&#39;, &#39;node2.1&#39;) -->\n",
       "<g id=\"edge1\" class=\"edge\">\n",
       "<title>(&#39;node2&#39;,)&#45;&gt;(&#39;node2&#39;, &#39;node2.1&#39;)</title>\n",
       "<path fill=\"none\" stroke=\"black\" stroke-width=\"2\" d=\"M96.16,-107.33C90.62,-94.39 83.81,-78.47 77.96,-64.81\"/>\n",
       "</g>\n",
       "<!-- (&#39;node2&#39;, &#39;node2.2&#39;) -->\n",
       "<g id=\"node4\" class=\"node\">\n",
       "<title>(&#39;node2&#39;, &#39;node2.2&#39;)</title>\n",
       "<ellipse fill=\"none\" stroke=\"black\" stroke-width=\"2\" cx=\"148.87\" cy=\"-33.23\" rx=\"33.47\" ry=\"33.47\"/>\n",
       "<text text-anchor=\"start\" x=\"129.37\" y=\"-36.63\" font-family=\"Times,serif\" font-size=\"12.00\">node2.2</text>\n",
       "<text text-anchor=\"start\" x=\"140.87\" y=\"-23.63\" font-family=\"Times,serif\" font-size=\"12.00\">2.1</text>\n",
       "</g>\n",
       "<!-- (&#39;node2&#39;,)&#45;&gt;(&#39;node2&#39;, &#39;node2.2&#39;) -->\n",
       "<g id=\"edge2\" class=\"edge\">\n",
       "<title>(&#39;node2&#39;,)&#45;&gt;(&#39;node2&#39;, &#39;node2.2&#39;)</title>\n",
       "<path fill=\"none\" stroke=\"black\" stroke-width=\"2\" d=\"M117.58,-107.33C123.12,-94.39 129.93,-78.47 135.78,-64.81\"/>\n",
       "</g>\n",
       "</g>\n",
       "</svg>\n"
      ],
      "text/plain": [
       "<graphviz.graphs.Digraph at 0x1099f4310>"
      ]
     },
     "execution_count": 10,
     "metadata": {},
     "output_type": "execute_result"
    }
   ],
   "source": [
    "bigraph_state = {\n",
    "    'node1': 1.0,\n",
    "    'node2': {\n",
    "        'node2.1': 2.0,\n",
    "        'node2.2': 2.1\n",
    "    }\n",
    "}\n",
    "plot_bigraph(bigraph_state, show_values=True)"
   ]
  },
  {
   "cell_type": "markdown",
   "id": "a5eaef05-63cd-45a4-8cef-ae363a944ff2",
   "metadata": {},
   "source": [
    "### Fill state\n",
    "\n",
    "One of the key advantages of a type system is its ability to improve automation in compositional modeling. The `fill` function exemplifies this by automatically populating missing schema elements. Given a schema and an incomplete instance, the fill function intelligently identifies and fills the missing schema components, ensuring that the instance is compliant with the schema definition."
   ]
  },
  {
   "cell_type": "code",
   "execution_count": 11,
   "id": "eba9e8a0-2558-48f9-b038-1ae08778875c",
   "metadata": {},
   "outputs": [
    {
     "data": {
      "text/plain": [
       "{'store1': {'process1': {'_ports': {'port1': 'float', 'port2': 'int'}},\n",
       "  'process2': {'_ports': {'port1': 'float', 'port2': 'int'}}},\n",
       " 'process3': {'_ports': {'port1': 'dual_process'}}}"
      ]
     },
     "execution_count": 11,
     "metadata": {},
     "output_type": "execute_result"
    }
   ],
   "source": [
    "dual_process_schema = {\n",
    "    'process1': {\n",
    "        '_ports': {\n",
    "            'port1': 'float',\n",
    "            'port2': 'int',\n",
    "        },\n",
    "    },\n",
    "    'process2': {\n",
    "        '_ports': {\n",
    "            'port1': 'float',\n",
    "            'port2': 'int',\n",
    "        },\n",
    "    },\n",
    "}    \n",
    "\n",
    "type_registry.register(\n",
    "    'dual_process',\n",
    "    dual_process_schema,\n",
    ")\n",
    "\n",
    "schema = {\n",
    "    'store1': 'dual_process',\n",
    "    'process3': {\n",
    "        '_ports': {\n",
    "            'port1': 'dual_process'\n",
    "        }\n",
    "    }\n",
    "}\n",
    "\n",
    "instance = {\n",
    "    'store1': {\n",
    "        'process1': {\n",
    "            'wires': {\n",
    "                'port1': 'store1.1',\n",
    "                'port2': 'store1.2',\n",
    "            }\n",
    "        },\n",
    "        'process2': {\n",
    "            'wires': {\n",
    "                'port1': 'store1.1',\n",
    "                'port2': 'store1.2',\n",
    "            }\n",
    "        }\n",
    "    },\n",
    "    'process3': {\n",
    "        'wires': {\n",
    "            'port1': 'store1',\n",
    "        }\n",
    "    },\n",
    "}\n",
    "filled_instance = fill(schema, instance)\n",
    "\n",
    "\n",
    "filled_schema = type_registry.expand(schema)\n",
    "filled_schema"
   ]
  },
  {
   "cell_type": "code",
   "execution_count": 12,
   "id": "4364577c-fd11-4b93-950f-22e556e8d889",
   "metadata": {
    "tags": []
   },
   "outputs": [
    {
     "name": "stdout",
     "output_type": "stream",
     "text": [
      "schema:\n",
      " {'process3': {'_ports': {'port1': 'dual_process'}}, 'store1': 'dual_process'}\n",
      "\n",
      "instance:\n",
      " { 'process3': {'wires': {'port1': 'store1'}},\n",
      "  'store1': { 'process1': {'wires': {'port1': 'store1.1', 'port2': 'store1.2'}},\n",
      "              'process2': { 'wires': { 'port1': 'store1.1',\n",
      "                                       'port2': 'store1.2'}}}}\n",
      "\n",
      "filled schema:\n",
      " { 'process3': {'_ports': {'port1': 'dual_process'}},\n",
      "  'store1': { 'process1': {'_ports': {'port1': 'float', 'port2': 'int'}},\n",
      "              'process2': {'_ports': {'port1': 'float', 'port2': 'int'}}}}\n",
      "\n",
      "filled instance:\n",
      " { 'process3': {'wires': {'port1': 'store1'}},\n",
      "  'store1': { 'process1': {'wires': {'port1': 'store1.1', 'port2': 'store1.2'}},\n",
      "              'process2': {'wires': {'port1': 'store1.1', 'port2': 'store1.2'}},\n",
      "              'store1.1': 0.0,\n",
      "              'store1.2': 0}}\n",
      "\n"
     ]
    }
   ],
   "source": [
    "print(f'schema:\\n {pf(schema)}\\n')\n",
    "print(f'instance:\\n {pf(instance)}\\n')\n",
    "print(f'filled schema:\\n {pf(filled_schema)}\\n')\n",
    "print(f'filled instance:\\n {pf(filled_instance)}\\n')"
   ]
  },
  {
   "cell_type": "code",
   "execution_count": 13,
   "id": "21d11947-29c8-473b-9a2d-ebbfbdc99936",
   "metadata": {},
   "outputs": [
    {
     "data": {
      "image/svg+xml": [
       "<?xml version=\"1.0\" encoding=\"UTF-8\" standalone=\"no\"?>\n",
       "<!DOCTYPE svg PUBLIC \"-//W3C//DTD SVG 1.1//EN\"\n",
       " \"http://www.w3.org/Graphics/SVG/1.1/DTD/svg11.dtd\">\n",
       "<!-- Generated by graphviz version 7.1.0 (20230121.1956)\n",
       " -->\n",
       "<!-- Title: bigraph Pages: 1 -->\n",
       "<svg width=\"281pt\" height=\"241pt\"\n",
       " viewBox=\"0.00 0.00 289.00 248.19\" xmlns=\"http://www.w3.org/2000/svg\" xmlns:xlink=\"http://www.w3.org/1999/xlink\">\n",
       "<g id=\"graph0\" class=\"graph\" transform=\"scale(0.972222 0.972222) rotate(0) translate(4 244.19)\">\n",
       "<title>bigraph</title>\n",
       "<polygon fill=\"white\" stroke=\"none\" points=\"-4,4 -4,-244.19 285,-244.19 285,4 -4,4\"/>\n",
       "<!-- (&#39;store1&#39;,) -->\n",
       "<g id=\"node1\" class=\"node\">\n",
       "<title>(&#39;store1&#39;,)</title>\n",
       "<ellipse fill=\"none\" stroke=\"black\" stroke-width=\"2\" cx=\"143\" cy=\"-213.41\" rx=\"22.59\" ry=\"22.59\"/>\n",
       "<ellipse fill=\"none\" stroke=\"black\" stroke-width=\"2\" cx=\"143\" cy=\"-213.41\" rx=\"26.56\" ry=\"26.56\"/>\n",
       "<text text-anchor=\"start\" x=\"128.5\" y=\"-210.31\" font-family=\"Times,serif\" font-size=\"12.00\">store1</text>\n",
       "</g>\n",
       "<!-- (&#39;store1&#39;, &#39;store1.1&#39;) -->\n",
       "<g id=\"node2\" class=\"node\">\n",
       "<title>(&#39;store1&#39;, &#39;store1.1&#39;)</title>\n",
       "<ellipse fill=\"none\" stroke=\"black\" stroke-width=\"2\" cx=\"143\" cy=\"-111.32\" rx=\"28.14\" ry=\"28.14\"/>\n",
       "<text text-anchor=\"start\" x=\"124\" y=\"-108.22\" font-family=\"Times,serif\" font-size=\"12.00\">store1.1</text>\n",
       "</g>\n",
       "<!-- (&#39;store1&#39;,)&#45;&gt;(&#39;store1&#39;, &#39;store1.1&#39;) -->\n",
       "<g id=\"edge3\" class=\"edge\">\n",
       "<title>(&#39;store1&#39;,)&#45;&gt;(&#39;store1&#39;, &#39;store1.1&#39;)</title>\n",
       "<path fill=\"none\" stroke=\"black\" stroke-width=\"2\" d=\"M143,-186.11C143,-171.98 143,-154.56 143,-140.19\"/>\n",
       "</g>\n",
       "<!-- (&#39;store1&#39;, &#39;store1.2&#39;) -->\n",
       "<g id=\"node3\" class=\"node\">\n",
       "<title>(&#39;store1&#39;, &#39;store1.2&#39;)</title>\n",
       "<ellipse fill=\"none\" stroke=\"black\" stroke-width=\"2\" cx=\"68\" cy=\"-111.32\" rx=\"28.14\" ry=\"28.14\"/>\n",
       "<text text-anchor=\"start\" x=\"49\" y=\"-108.22\" font-family=\"Times,serif\" font-size=\"12.00\">store1.2</text>\n",
       "</g>\n",
       "<!-- (&#39;store1&#39;,)&#45;&gt;(&#39;store1&#39;, &#39;store1.2&#39;) -->\n",
       "<g id=\"edge4\" class=\"edge\">\n",
       "<title>(&#39;store1&#39;,)&#45;&gt;(&#39;store1&#39;, &#39;store1.2&#39;)</title>\n",
       "<path fill=\"none\" stroke=\"black\" stroke-width=\"2\" d=\"M127.09,-191.18C114.71,-174.66 97.56,-151.77 84.92,-134.9\"/>\n",
       "</g>\n",
       "<!-- (&#39;store1&#39;, &#39;process1&#39;) -->\n",
       "<g id=\"node4\" class=\"node\">\n",
       "<title>(&#39;store1&#39;, &#39;process1&#39;)</title>\n",
       "<polygon fill=\"none\" stroke=\"black\" stroke-width=\"2\" points=\"54,-36 0,-36 0,0 54,0 54,-36\"/>\n",
       "<text text-anchor=\"start\" x=\"6\" y=\"-14.9\" font-family=\"Times,serif\" font-size=\"12.00\">process1</text>\n",
       "</g>\n",
       "<!-- (&#39;store1&#39;,)&#45;&gt;(&#39;store1&#39;, &#39;process1&#39;) -->\n",
       "<g id=\"edge1\" class=\"edge\">\n",
       "<title>(&#39;store1&#39;,)&#45;&gt;(&#39;store1&#39;, &#39;process1&#39;)</title>\n",
       "<path fill=\"none\" stroke=\"black\" stroke-width=\"2\" d=\"M117.8,-203.47C91.42,-192.7 51.11,-171.91 31,-139.63 11.27,-107.98 17.04,-62.02 22.39,-36.96\"/>\n",
       "</g>\n",
       "<!-- (&#39;store1&#39;, &#39;process2&#39;) -->\n",
       "<g id=\"node5\" class=\"node\">\n",
       "<title>(&#39;store1&#39;, &#39;process2&#39;)</title>\n",
       "<polygon fill=\"none\" stroke=\"black\" stroke-width=\"2\" points=\"189,-36 135,-36 135,0 189,0 189,-36\"/>\n",
       "<text text-anchor=\"start\" x=\"141\" y=\"-14.9\" font-family=\"Times,serif\" font-size=\"12.00\">process2</text>\n",
       "</g>\n",
       "<!-- (&#39;store1&#39;,)&#45;&gt;(&#39;store1&#39;, &#39;process2&#39;) -->\n",
       "<g id=\"edge2\" class=\"edge\">\n",
       "<title>(&#39;store1&#39;,)&#45;&gt;(&#39;store1&#39;, &#39;process2&#39;)</title>\n",
       "<path fill=\"none\" stroke=\"black\" stroke-width=\"2\" d=\"M157.67,-190.2C165.97,-176.3 175.55,-157.66 180,-139.63 189.12,-102.68 190.37,-90.89 181,-54 179.5,-48.1 176.79,-42.12 173.87,-36.82\"/>\n",
       "</g>\n",
       "<!-- (&#39;process3&#39;,) -->\n",
       "<g id=\"node6\" class=\"node\">\n",
       "<title>(&#39;process3&#39;,)</title>\n",
       "<polygon fill=\"none\" stroke=\"black\" stroke-width=\"2\" points=\"281,-129.32 227,-129.32 227,-93.32 281,-93.32 281,-129.32\"/>\n",
       "<text text-anchor=\"start\" x=\"233\" y=\"-108.22\" font-family=\"Times,serif\" font-size=\"12.00\">process3</text>\n",
       "</g>\n",
       "<!-- (&#39;store1&#39;,)&#45;&gt;(&#39;process3&#39;,) -->\n",
       "<g id=\"edge9\" class=\"edge\">\n",
       "<title>(&#39;store1&#39;,)&#45;&gt;(&#39;process3&#39;,)</title>\n",
       "<path fill=\"none\" stroke=\"black\" stroke-dasharray=\"5,2\" d=\"M166.94,-200.45C181.26,-192.6 199.26,-181.44 213,-168.63 223.8,-158.57 233.61,-145.31 240.93,-134.18\"/>\n",
       "<ellipse fill=\"black\" stroke=\"black\" cx=\"242.16\" cy=\"-132.29\" rx=\"2\" ry=\"2\"/>\n",
       "<text text-anchor=\"start\" x=\"222\" y=\"-160.63\" font-family=\"Times,serif\" font-size=\"10.00\">port1</text>\n",
       "</g>\n",
       "<!-- (&#39;store1&#39;, &#39;store1.1&#39;)&#45;&gt;(&#39;store1&#39;, &#39;process1&#39;) -->\n",
       "<g id=\"edge5\" class=\"edge\">\n",
       "<title>(&#39;store1&#39;, &#39;store1.1&#39;)&#45;&gt;(&#39;store1&#39;, &#39;process1&#39;)</title>\n",
       "<path fill=\"none\" stroke=\"black\" stroke-dasharray=\"5,2\" d=\"M120.63,-92.71C101.42,-77.59 73.69,-55.75 53.39,-39.78\"/>\n",
       "<ellipse fill=\"black\" stroke=\"black\" cx=\"51.66\" cy=\"-38.41\" rx=\"2\" ry=\"2\"/>\n",
       "<text text-anchor=\"start\" x=\"85\" y=\"-57\" font-family=\"Times,serif\" font-size=\"10.00\">port1</text>\n",
       "</g>\n",
       "<!-- (&#39;store1&#39;, &#39;store1.1&#39;)&#45;&gt;(&#39;store1&#39;, &#39;process2&#39;) -->\n",
       "<g id=\"edge7\" class=\"edge\">\n",
       "<title>(&#39;store1&#39;, &#39;store1.1&#39;)&#45;&gt;(&#39;store1&#39;, &#39;process2&#39;)</title>\n",
       "<path fill=\"none\" stroke=\"black\" stroke-dasharray=\"5,2\" d=\"M148.7,-82.92C151.44,-69.75 154.69,-54.15 157.29,-41.66\"/>\n",
       "<ellipse fill=\"black\" stroke=\"black\" cx=\"157.77\" cy=\"-39.31\" rx=\"2\" ry=\"2\"/>\n",
       "<text text-anchor=\"start\" x=\"155\" y=\"-57\" font-family=\"Times,serif\" font-size=\"10.00\">port1</text>\n",
       "</g>\n",
       "<!-- (&#39;store1&#39;, &#39;store1.2&#39;)&#45;&gt;(&#39;store1&#39;, &#39;process1&#39;) -->\n",
       "<g id=\"edge6\" class=\"edge\">\n",
       "<title>(&#39;store1&#39;, &#39;store1.2&#39;)&#45;&gt;(&#39;store1&#39;, &#39;process1&#39;)</title>\n",
       "<path fill=\"none\" stroke=\"black\" stroke-dasharray=\"5,2\" d=\"M46.64,-92.11C39.32,-84.55 31.97,-75.17 28,-65 25.11,-57.61 24.31,-49.02 24.42,-41.28\"/>\n",
       "<ellipse fill=\"black\" stroke=\"black\" cx=\"24.5\" cy=\"-39.09\" rx=\"2\" ry=\"2\"/>\n",
       "<text text-anchor=\"start\" x=\"28\" y=\"-57\" font-family=\"Times,serif\" font-size=\"10.00\">port2</text>\n",
       "</g>\n",
       "<!-- (&#39;store1&#39;, &#39;store1.2&#39;)&#45;&gt;(&#39;store1&#39;, &#39;process2&#39;) -->\n",
       "<g id=\"edge8\" class=\"edge\">\n",
       "<title>(&#39;store1&#39;, &#39;store1.2&#39;)&#45;&gt;(&#39;store1&#39;, &#39;process2&#39;)</title>\n",
       "<path fill=\"none\" stroke=\"black\" stroke-dasharray=\"5,2\" d=\"M87.93,-90.95C103.27,-76.06 124.43,-55.5 140.2,-40.17\"/>\n",
       "<ellipse fill=\"black\" stroke=\"black\" cx=\"141.89\" cy=\"-38.53\" rx=\"2\" ry=\"2\"/>\n",
       "<text text-anchor=\"start\" x=\"124\" y=\"-57\" font-family=\"Times,serif\" font-size=\"10.00\">port2</text>\n",
       "</g>\n",
       "</g>\n",
       "</svg>\n"
      ],
      "text/plain": [
       "<graphviz.graphs.Digraph at 0x1076e7c40>"
      ]
     },
     "execution_count": 13,
     "metadata": {},
     "output_type": "execute_result"
    }
   ],
   "source": [
    "plot_bigraph(filled_instance)"
   ]
  },
  {
   "cell_type": "markdown",
   "id": "07f8219d-43d2-4d6c-92af-d00976da0703",
   "metadata": {},
   "source": [
    "## Update"
   ]
  },
  {
   "cell_type": "markdown",
   "id": "028bc593-068d-4020-937a-4c9c39c31d9a",
   "metadata": {},
   "source": [
    "## Query\n",
    "\n",
    "Find a schema within a composite. For example find a mitochondria within a cell\n",
    "\n",
    "## Adapters\n",
    "\n",
    "Show how adapters can automatically compose into a schema to provide translation between types."
   ]
  },
  {
   "cell_type": "code",
   "execution_count": null,
   "id": "fdd3134e-f576-445b-8dd4-5eacb55bbdf4",
   "metadata": {},
   "outputs": [],
   "source": []
  }
 ],
 "metadata": {
  "kernelspec": {
   "display_name": "Python 3 (ipykernel)",
   "language": "python",
   "name": "python3"
  },
  "language_info": {
   "codemirror_mode": {
    "name": "ipython",
    "version": 3
   },
   "file_extension": ".py",
   "mimetype": "text/x-python",
   "name": "python",
   "nbconvert_exporter": "python",
   "pygments_lexer": "ipython3",
   "version": "3.9.6"
  }
 },
 "nbformat": 4,
 "nbformat_minor": 5
}

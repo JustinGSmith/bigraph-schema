{
 "cells": [
  {
   "cell_type": "markdown",
   "id": "e00b3123-97ef-4c0c-8be0-09fecb055aa9",
   "metadata": {
    "tags": []
   },
   "source": [
    "# Bigraph Schema\n",
    "\n",
    "This tutorial explores the bigraph schema library. Bigraph schema enables different simulators, models, and data to communicate with each other through standardized type definitions and wiring diagrams. By providing a robust type system and serializable data format, this makes composite simulators shareable, extendable, and easily distributed across various computer architectures.\n",
    "\n",
    "This notebook uses the [bigraph-schema](https://pypi.org/project/bigraph-schema/) library for validation and processing of the schema, and the [bigraph-viz](https://pypi.org/project/bigraph-viz/) library for plotting library for visualizing the resulting simulation configuration.\n",
    "\n",
    "This notebook does not introduce the Bigraph concepts, rather it is focused on type definition and access."
   ]
  },
  {
   "cell_type": "markdown",
   "id": "a629c223-65bb-459f-88e9-4aea79760519",
   "metadata": {},
   "source": [
    "### Installation\n",
    "To start, let's install the necessary libraries and display their versions:"
   ]
  },
  {
   "cell_type": "code",
   "execution_count": 1,
   "id": "c49100b1-b4e6-425c-84a1-7ed5c8fa632e",
   "metadata": {
    "tags": []
   },
   "outputs": [
    {
     "name": "stdout",
     "output_type": "stream",
     "text": [
      "-e git+https://github.com/vivarium-collective/bigraph-schema.git@56185a0decdac19d79f080489c4c9ac66967ffc4#egg=bigraph_schema\n",
      "bigraph-viz==0.0.25\n"
     ]
    }
   ],
   "source": [
    "# !pip install bigraph-schema\n",
    "# !pip install bigraph-viz\n",
    "!pip freeze | grep bigraph"
   ]
  },
  {
   "cell_type": "markdown",
   "id": "09ed5449-24a8-4021-975d-363bcb08abfc",
   "metadata": {},
   "source": [
    "### Imports\n",
    "We will use the `validate_schema` method to check our schemas, `fill` method to fill in missing details to prepare the schema for simulation, and the `type_registry` object to access different schemas and register new ones."
   ]
  },
  {
   "cell_type": "code",
   "execution_count": 2,
   "id": "cac34387-fc7e-41cc-808a-00ffd472ea3e",
   "metadata": {
    "tags": []
   },
   "outputs": [],
   "source": [
    "import copy\n",
    "from bigraph_schema import (\n",
    "    validate_schema, \n",
    "    validate_state, \n",
    "    fill, \n",
    "    type_registry\n",
    ")\n",
    "from bigraph_schema.registry import type_schema_keys  # Can't add to this because its a tuple\n",
    "from bigraph_viz import plot_bigraph, pf, pp\n",
    "from bigraph_viz.dict_utils import schema_keys\n",
    "\n",
    "# register some required types\n",
    "type_registry.register('URI', {'_default': '0-000-00000-0'})  # how do we test that something is a URI?\n",
    "type_registry.register('KISAO', {'_default': 'KISAO:0000000'})  # how do we test that something is a URI?\n",
    "schema_keys.extend(['_super', 'config']) # TODO -- this should be default, also should use the bigraph_schema keys"
   ]
  },
  {
   "cell_type": "markdown",
   "id": "e7845dfc-2fc0-42bb-b6e0-677e11b7184f",
   "metadata": {},
   "source": [
    "## Type System\n",
    "A type system comprises a set of rules and constraints that govern the organization, interaction, and manipulation of data types, facilitating efficient and error-free compositional modeling by guaranteeing compatibility and seamless communication between various components within a simulation.\n",
    "\n",
    "Schemas serve as a formalized framework for defining and organizing types, providing explicit specifications for data representation, validation, and transformation. In a schema, types are characterized by specific `schema_keys` associated with type definitions, encompassing default values, serialization/deserialization methods, and additional metadata. The `schema_keys` encompass the following attributes:"
   ]
  },
  {
   "cell_type": "code",
   "execution_count": 3,
   "id": "ecb4d869-066a-4205-a11f-1e774282a35e",
   "metadata": {
    "tags": []
   },
   "outputs": [
    {
     "data": {
      "text/plain": [
       "('_default',\n",
       " '_apply',\n",
       " '_serialize',\n",
       " '_deserialize',\n",
       " '_type',\n",
       " '_value',\n",
       " '_divide',\n",
       " '_description',\n",
       " '_ports',\n",
       " '_type_parameters',\n",
       " '_super')"
      ]
     },
     "execution_count": 3,
     "metadata": {},
     "output_type": "execute_result"
    }
   ],
   "source": [
    "type_schema_keys"
   ]
  },
  {
   "cell_type": "markdown",
   "id": "54d08aa8-9196-48d6-bbe7-1ec260c2f5d5",
   "metadata": {},
   "source": [
    "## Type Registry\n",
    "A type registry is used to store and manage schema definitions related to various simulation modules, streamlining the process of accessing, extending, and reusing type information across different components. \n",
    "\n",
    "### List current types\n",
    "The names of the current types available in the registry can be easily printed:"
   ]
  },
  {
   "cell_type": "code",
   "execution_count": 4,
   "id": "201e14e9-5689-47c0-b2b1-2e303f4dd0f9",
   "metadata": {
    "tags": []
   },
   "outputs": [
    {
     "data": {
      "text/plain": [
       "['',\n",
       " 'length^2*mass/time^3',\n",
       " 'string',\n",
       " 'mass/(temperature^4*time^3)',\n",
       " 'length*time/mass',\n",
       " 'any',\n",
       " 'number',\n",
       " '/(temperature*time)',\n",
       " 'length^2/time',\n",
       " 'mass/(length*time)',\n",
       " 'current^2*time^4/(length^3*mass)',\n",
       " 'current*length^2',\n",
       " 'current*length^2*time',\n",
       " 'length^3*mass/(current^2*time^4)',\n",
       " 'substance',\n",
       " 'tree',\n",
       " 'length^2/time^2',\n",
       " 'time/length',\n",
       " 'length^2*mass/(current^2*time^2)',\n",
       " 'mass/(length*time^2)',\n",
       " 'length^2*mass/(current^2*time^3)',\n",
       " 'current',\n",
       " 'mass/length',\n",
       " 'length/time',\n",
       " 'length^2*mass/time',\n",
       " 'list',\n",
       " 'luminosity/length^2',\n",
       " 'URI',\n",
       " 'mass',\n",
       " 'luminosity',\n",
       " 'substance/length^3',\n",
       " 'current*time/mass',\n",
       " 'length^3',\n",
       " 'length^2*mass/(temperature*time^2)',\n",
       " 'current*time',\n",
       " 'current^2*time^4/(length^2*mass)',\n",
       " 'length*mass/time',\n",
       " 'length^2*mass/time^2',\n",
       " 'current*time/substance',\n",
       " 'temperature',\n",
       " 'length*mass/(current*time^3)',\n",
       " 'length*mass',\n",
       " 'length^2',\n",
       " 'length/mass',\n",
       " 'length^4*mass/time^3',\n",
       " 'length^2*mass/(substance*temperature*time^2)',\n",
       " 'substance/time',\n",
       " 'mass/length^1.5',\n",
       " 'int',\n",
       " 'length^1.5*mass/time',\n",
       " 'float',\n",
       " 'time',\n",
       " 'dict',\n",
       " 'mass/length^3',\n",
       " 'mass/time^2',\n",
       " '/length',\n",
       " 'current*length*time',\n",
       " 'length^3/(mass*time^2)',\n",
       " 'length^3/time',\n",
       " 'length*mass/(current^2*time^2)',\n",
       " 'current^2*time^3/(length^2*mass)',\n",
       " 'current*time^2/(length^2*mass)',\n",
       " 'mass/time^3',\n",
       " '/printing_unit',\n",
       " 'length^1.5*mass/time^2',\n",
       " 'printing_unit',\n",
       " 'edge',\n",
       " 'printing_unit/length',\n",
       " 'KISAO',\n",
       " '/time',\n",
       " 'length/time^2',\n",
       " 'length^2*mass/(current*time^3)',\n",
       " 'length',\n",
       " 'length*temperature',\n",
       " 'length^2*mass/(current*time^2)',\n",
       " 'mass/(current*time^2)',\n",
       " '/substance',\n",
       " 'time^2/length',\n",
       " 'maybe',\n",
       " 'length*mass/time^2']"
      ]
     },
     "execution_count": 4,
     "metadata": {},
     "output_type": "execute_result"
    }
   ],
   "source": [
    "type_registry.list()"
   ]
  },
  {
   "cell_type": "markdown",
   "id": "4f9b3efb-e67f-4158-a012-7e53250782cf",
   "metadata": {},
   "source": [
    "### Accessing a type\n",
    "Types can be accessed from the registry by their name:"
   ]
  },
  {
   "cell_type": "code",
   "execution_count": 5,
   "id": "d47a37a6-fcd6-4aa6-a711-bdbbcc775714",
   "metadata": {
    "tags": []
   },
   "outputs": [
    {
     "data": {
      "text/plain": [
       "{'_apply': 'accumulate',\n",
       " '_serialize': 'to_string',\n",
       " '_description': '64-bit floating point precision number',\n",
       " '_default': '0.0',\n",
       " '_deserialize': 'float',\n",
       " '_divide': 'divide_float',\n",
       " '_super': ['number']}"
      ]
     },
     "execution_count": 5,
     "metadata": {},
     "output_type": "execute_result"
    }
   ],
   "source": [
    "type_registry.access('float')"
   ]
  },
  {
   "cell_type": "markdown",
   "id": "d20e9721-64d2-453b-88dc-2cf9f39bb4ed",
   "metadata": {},
   "source": [
    "### Expand a type to show all subtypes"
   ]
  },
  {
   "cell_type": "code",
   "execution_count": 6,
   "id": "2eb4fa5d-8668-4202-a5b4-032596b35c33",
   "metadata": {
    "tags": []
   },
   "outputs": [
    {
     "name": "stdout",
     "output_type": "stream",
     "text": [
      "{ 'wires': { '_type': 'tree[list[string]]',\n",
      "             '_type_parameters': { 'A': { '_type': 'list',\n",
      "                                          '_type_parameters': { 'A': { '_type': 'string'}}}}}}\n"
     ]
    }
   ],
   "source": [
    "pp(type_registry.expand('edge'))"
   ]
  },
  {
   "cell_type": "markdown",
   "id": "67ceab4d-5d49-40d4-91fc-582f8cfe4ede",
   "metadata": {},
   "source": [
    "### Register a new type\n",
    "You can add new types to the type registry using  `type_registry.register(type_name:str, type_schema:dict)`:"
   ]
  },
  {
   "cell_type": "code",
   "execution_count": 7,
   "id": "bb254b26-9f3d-4fe3-8a61-839f31b976b7",
   "metadata": {
    "tags": []
   },
   "outputs": [],
   "source": [
    "sbml_schema = {\n",
    "    '_super': 'string',\n",
    "    'model_file': 'string',\n",
    "    '_default': 'SBML:0000000',\n",
    "    '_description': '',\n",
    "}\n",
    "type_registry.register(\n",
    "    'SBML', sbml_schema)"
   ]
  },
  {
   "cell_type": "markdown",
   "id": "ad02fcd2-e0b1-49bb-b58b-492a3474120e",
   "metadata": {},
   "source": [
    "## State\n",
    "A state is the particular set of values that populate a bigraph structure, adhering to a predefined schema. The state is essential for understanding a system's behavior, as it encapsulates the current conditions and predicts future evolution based on the governing equations or rules. As the system evolves over time, the state transitions through various bigraphical configurations."
   ]
  },
  {
   "cell_type": "code",
   "execution_count": 8,
   "id": "a7b6c20a-5604-485a-8f50-bfd8bf6c003a",
   "metadata": {
    "tags": []
   },
   "outputs": [
    {
     "data": {
      "image/svg+xml": [
       "<?xml version=\"1.0\" encoding=\"UTF-8\" standalone=\"no\"?>\n",
       "<!DOCTYPE svg PUBLIC \"-//W3C//DTD SVG 1.1//EN\"\n",
       " \"http://www.w3.org/Graphics/SVG/1.1/DTD/svg11.dtd\">\n",
       "<!-- Generated by graphviz version 7.1.0 (20230121.1956)\n",
       " -->\n",
       "<!-- Title: bigraph Pages: 1 -->\n",
       "<svg width=\"185pt\" height=\"167pt\"\n",
       " viewBox=\"0.00 0.00 190.10 172.21\" xmlns=\"http://www.w3.org/2000/svg\" xmlns:xlink=\"http://www.w3.org/1999/xlink\">\n",
       "<g id=\"graph0\" class=\"graph\" transform=\"scale(0.972222 0.972222) rotate(0) translate(4 168.21)\">\n",
       "<title>bigraph</title>\n",
       "<polygon fill=\"white\" stroke=\"none\" points=\"-4,4 -4,-168.21 186.1,-168.21 186.1,4 -4,4\"/>\n",
       "<!-- (&#39;node1&#39;,) -->\n",
       "<g id=\"node1\" class=\"node\">\n",
       "<title>(&#39;node1&#39;,)</title>\n",
       "<ellipse fill=\"none\" stroke=\"black\" stroke-width=\"2\" cx=\"30.87\" cy=\"-133.34\" rx=\"26.76\" ry=\"26.76\"/>\n",
       "<ellipse fill=\"none\" stroke=\"black\" stroke-width=\"2\" cx=\"30.87\" cy=\"-133.34\" rx=\"30.74\" ry=\"30.74\"/>\n",
       "<text text-anchor=\"start\" x=\"15.87\" y=\"-136.74\" font-family=\"Times,serif\" font-size=\"12.00\">node1</text>\n",
       "<text text-anchor=\"start\" x=\"22.87\" y=\"-123.74\" font-family=\"Times,serif\" font-size=\"12.00\">1.0</text>\n",
       "</g>\n",
       "<!-- (&#39;node2&#39;,) -->\n",
       "<g id=\"node2\" class=\"node\">\n",
       "<title>(&#39;node2&#39;,)</title>\n",
       "<ellipse fill=\"none\" stroke=\"black\" stroke-width=\"2\" cx=\"106.87\" cy=\"-133.34\" rx=\"23.3\" ry=\"23.3\"/>\n",
       "<ellipse fill=\"none\" stroke=\"black\" stroke-width=\"2\" cx=\"106.87\" cy=\"-133.34\" rx=\"27.29\" ry=\"27.29\"/>\n",
       "<text text-anchor=\"start\" x=\"91.87\" y=\"-130.24\" font-family=\"Times,serif\" font-size=\"12.00\">node2</text>\n",
       "</g>\n",
       "<!-- (&#39;node2&#39;, &#39;node2.1&#39;) -->\n",
       "<g id=\"node3\" class=\"node\">\n",
       "<title>(&#39;node2&#39;, &#39;node2.1&#39;)</title>\n",
       "<ellipse fill=\"none\" stroke=\"black\" stroke-width=\"2\" cx=\"64.87\" cy=\"-33.23\" rx=\"33.47\" ry=\"33.47\"/>\n",
       "<text text-anchor=\"start\" x=\"45.37\" y=\"-36.63\" font-family=\"Times,serif\" font-size=\"12.00\">node2.1</text>\n",
       "<text text-anchor=\"start\" x=\"56.87\" y=\"-23.63\" font-family=\"Times,serif\" font-size=\"12.00\">2.0</text>\n",
       "</g>\n",
       "<!-- (&#39;node2&#39;,)&#45;&gt;(&#39;node2&#39;, &#39;node2.1&#39;) -->\n",
       "<g id=\"edge1\" class=\"edge\">\n",
       "<title>(&#39;node2&#39;,)&#45;&gt;(&#39;node2&#39;, &#39;node2.1&#39;)</title>\n",
       "<path fill=\"none\" stroke=\"black\" stroke-width=\"2\" d=\"M96.16,-107.33C90.62,-94.39 83.81,-78.47 77.96,-64.81\"/>\n",
       "</g>\n",
       "<!-- (&#39;node2&#39;, &#39;node2.2&#39;) -->\n",
       "<g id=\"node4\" class=\"node\">\n",
       "<title>(&#39;node2&#39;, &#39;node2.2&#39;)</title>\n",
       "<ellipse fill=\"none\" stroke=\"black\" stroke-width=\"2\" cx=\"148.87\" cy=\"-33.23\" rx=\"33.47\" ry=\"33.47\"/>\n",
       "<text text-anchor=\"start\" x=\"129.37\" y=\"-36.63\" font-family=\"Times,serif\" font-size=\"12.00\">node2.2</text>\n",
       "<text text-anchor=\"start\" x=\"140.87\" y=\"-23.63\" font-family=\"Times,serif\" font-size=\"12.00\">2.1</text>\n",
       "</g>\n",
       "<!-- (&#39;node2&#39;,)&#45;&gt;(&#39;node2&#39;, &#39;node2.2&#39;) -->\n",
       "<g id=\"edge2\" class=\"edge\">\n",
       "<title>(&#39;node2&#39;,)&#45;&gt;(&#39;node2&#39;, &#39;node2.2&#39;)</title>\n",
       "<path fill=\"none\" stroke=\"black\" stroke-width=\"2\" d=\"M117.58,-107.33C123.12,-94.39 129.93,-78.47 135.78,-64.81\"/>\n",
       "</g>\n",
       "</g>\n",
       "</svg>\n"
      ],
      "text/plain": [
       "<graphviz.graphs.Digraph at 0x107912cd0>"
      ]
     },
     "execution_count": 8,
     "metadata": {},
     "output_type": "execute_result"
    }
   ],
   "source": [
    "bigraph_state = {\n",
    "    'node1': 1.0,\n",
    "    'node2': {\n",
    "        'node2.1': 2.0,\n",
    "        'node2.2': 2.1\n",
    "    }\n",
    "}\n",
    "plot_bigraph(bigraph_state, show_values=True)"
   ]
  },
  {
   "cell_type": "markdown",
   "id": "a5eaef05-63cd-45a4-8cef-ae363a944ff2",
   "metadata": {},
   "source": [
    "### Fill state\n",
    "\n",
    "One of the key advantages of a type system is its ability to improve automation in compositional modeling. The `fill` function exemplifies this by automatically populating missing schema elements. Given a schema and an incomplete instance, the fill function intelligently identifies and fills the missing schema components, ensuring that the instance is compliant with the schema definition."
   ]
  },
  {
   "cell_type": "code",
   "execution_count": 20,
   "id": "eba9e8a0-2558-48f9-b038-1ae08778875c",
   "metadata": {},
   "outputs": [
    {
     "data": {
      "text/plain": [
       "{'store1': {'edge1': {'_ports': {'port1': 'float', 'port2': 'int'}},\n",
       "  'edge2': {'_ports': {'port1': 'float', 'port2': 'int'}}},\n",
       " 'edge3': {'_ports': {'port1': 'dual_edge'}}}"
      ]
     },
     "execution_count": 20,
     "metadata": {},
     "output_type": "execute_result"
    }
   ],
   "source": [
    "dual_edge_schema = {\n",
    "    'edge1': {\n",
    "        '_ports': {\n",
    "            'port1': 'float',\n",
    "            'port2': 'int',\n",
    "        },\n",
    "    },\n",
    "    'edge2': {\n",
    "        '_ports': {\n",
    "            'port1': 'float',\n",
    "            'port2': 'int',\n",
    "        },\n",
    "    },\n",
    "}    \n",
    "\n",
    "type_registry.register(\n",
    "    'dual_edge',\n",
    "    dual_edge_schema,\n",
    ")\n",
    "\n",
    "schema = {\n",
    "    'store1': 'dual_edge',\n",
    "    'edge3': {\n",
    "        '_ports': {\n",
    "            'port1': 'dual_edge'\n",
    "        }\n",
    "    }\n",
    "}\n",
    "\n",
    "instance = {\n",
    "    'store1': {\n",
    "        'edge1': {\n",
    "            'wires': {\n",
    "                'port1': 'store1.1',\n",
    "                'port2': 'store1.2',\n",
    "            }\n",
    "        },\n",
    "        'edge2': {\n",
    "            'wires': {\n",
    "                'port1': 'store1.1',\n",
    "                'port2': 'store1.2',\n",
    "            }\n",
    "        }\n",
    "    },\n",
    "    'edge3': {\n",
    "        'wires': {\n",
    "            'port1': 'store1',\n",
    "        }\n",
    "    },\n",
    "}\n",
    "filled_instance = fill(schema, instance)\n",
    "\n",
    "\n",
    "filled_schema = type_registry.expand(schema)\n",
    "filled_schema"
   ]
  },
  {
   "cell_type": "code",
   "execution_count": 21,
   "id": "4364577c-fd11-4b93-950f-22e556e8d889",
   "metadata": {
    "tags": []
   },
   "outputs": [
    {
     "name": "stdout",
     "output_type": "stream",
     "text": [
      "schema:\n",
      " {'edge3': {'_ports': {'port1': 'dual_edge'}}, 'store1': 'dual_edge'}\n",
      "\n",
      "instance:\n",
      " { 'edge3': {'wires': {'port1': 'store1'}},\n",
      "  'store1': { 'edge1': {'wires': {'port1': 'store1.1', 'port2': 'store1.2'}},\n",
      "              'edge2': {'wires': {'port1': 'store1.1', 'port2': 'store1.2'}}}}\n",
      "\n",
      "filled schema:\n",
      " { 'edge3': {'_ports': {'port1': 'dual_edge'}},\n",
      "  'store1': { 'edge1': {'_ports': {'port1': 'float', 'port2': 'int'}},\n",
      "              'edge2': {'_ports': {'port1': 'float', 'port2': 'int'}}}}\n",
      "\n",
      "filled instance:\n",
      " { 'edge3': {'wires': {'port1': 'store1'}},\n",
      "  'store1': { 'edge1': {'wires': {'port1': 'store1.1', 'port2': 'store1.2'}},\n",
      "              'edge2': {'wires': {'port1': 'store1.1', 'port2': 'store1.2'}},\n",
      "              'store1.1': 0.0,\n",
      "              'store1.2': 0}}\n",
      "\n"
     ]
    }
   ],
   "source": [
    "print(f'schema:\\n {pf(schema)}\\n')\n",
    "print(f'instance:\\n {pf(instance)}\\n')\n",
    "print(f'filled schema:\\n {pf(filled_schema)}\\n')\n",
    "print(f'filled instance:\\n {pf(filled_instance)}\\n')"
   ]
  },
  {
   "cell_type": "code",
   "execution_count": 23,
   "id": "21d11947-29c8-473b-9a2d-ebbfbdc99936",
   "metadata": {},
   "outputs": [
    {
     "data": {
      "image/svg+xml": [
       "<?xml version=\"1.0\" encoding=\"UTF-8\" standalone=\"no\"?>\n",
       "<!DOCTYPE svg PUBLIC \"-//W3C//DTD SVG 1.1//EN\"\n",
       " \"http://www.w3.org/Graphics/SVG/1.1/DTD/svg11.dtd\">\n",
       "<!-- Generated by graphviz version 7.1.0 (20230121.1956)\n",
       " -->\n",
       "<!-- Title: bigraph Pages: 1 -->\n",
       "<svg width=\"208pt\" height=\"186pt\"\n",
       " viewBox=\"0.00 0.00 214.16 191.19\" xmlns=\"http://www.w3.org/2000/svg\" xmlns:xlink=\"http://www.w3.org/1999/xlink\">\n",
       "<g id=\"graph0\" class=\"graph\" transform=\"scale(0.972222 0.972222) rotate(0) translate(4 187.19)\">\n",
       "<title>bigraph</title>\n",
       "<polygon fill=\"white\" stroke=\"none\" points=\"-4,4 -4,-187.19 210.16,-187.19 210.16,4 -4,4\"/>\n",
       "<!-- (&#39;store1&#39;,) -->\n",
       "<g id=\"node1\" class=\"node\">\n",
       "<title>(&#39;store1&#39;,)</title>\n",
       "<ellipse fill=\"none\" stroke=\"black\" stroke-width=\"2\" cx=\"120.66\" cy=\"-156.41\" rx=\"22.59\" ry=\"22.59\"/>\n",
       "<ellipse fill=\"none\" stroke=\"black\" stroke-width=\"2\" cx=\"120.66\" cy=\"-156.41\" rx=\"26.56\" ry=\"26.56\"/>\n",
       "<text text-anchor=\"start\" x=\"106.16\" y=\"-153.31\" font-family=\"Times,serif\" font-size=\"12.00\">store1</text>\n",
       "</g>\n",
       "<!-- (&#39;store1&#39;, &#39;store1.1&#39;) -->\n",
       "<g id=\"node2\" class=\"node\">\n",
       "<title>(&#39;store1&#39;, &#39;store1.1&#39;)</title>\n",
       "<ellipse fill=\"none\" stroke=\"black\" stroke-width=\"2\" cx=\"120.66\" cy=\"-65.32\" rx=\"28.14\" ry=\"28.14\"/>\n",
       "<text text-anchor=\"start\" x=\"101.66\" y=\"-62.22\" font-family=\"Times,serif\" font-size=\"12.00\">store1.1</text>\n",
       "</g>\n",
       "<!-- (&#39;store1&#39;,)&#45;&gt;(&#39;store1&#39;, &#39;store1.1&#39;) -->\n",
       "<g id=\"edge3\" class=\"edge\">\n",
       "<title>(&#39;store1&#39;,)&#45;&gt;(&#39;store1&#39;, &#39;store1.1&#39;)</title>\n",
       "<path fill=\"none\" stroke=\"black\" stroke-width=\"2\" d=\"M120.66,-129.16C120.66,-118.18 120.66,-105.4 120.66,-94.24\"/>\n",
       "</g>\n",
       "<!-- (&#39;store1&#39;, &#39;store1.2&#39;) -->\n",
       "<g id=\"node3\" class=\"node\">\n",
       "<title>(&#39;store1&#39;, &#39;store1.2&#39;)</title>\n",
       "<ellipse fill=\"none\" stroke=\"black\" stroke-width=\"2\" cx=\"45.66\" cy=\"-65.32\" rx=\"28.14\" ry=\"28.14\"/>\n",
       "<text text-anchor=\"start\" x=\"26.66\" y=\"-62.22\" font-family=\"Times,serif\" font-size=\"12.00\">store1.2</text>\n",
       "</g>\n",
       "<!-- (&#39;store1&#39;,)&#45;&gt;(&#39;store1&#39;, &#39;store1.2&#39;) -->\n",
       "<g id=\"edge4\" class=\"edge\">\n",
       "<title>(&#39;store1&#39;,)&#45;&gt;(&#39;store1&#39;, &#39;store1.2&#39;)</title>\n",
       "<path fill=\"none\" stroke=\"black\" stroke-width=\"2\" d=\"M103.64,-135.19C91.8,-121.13 76.03,-102.39 63.92,-88.01\"/>\n",
       "</g>\n",
       "<!-- (&#39;store1&#39;, &#39;edge1&#39;) -->\n",
       "<g id=\"node4\" class=\"node\">\n",
       "<title>(&#39;store1&#39;, &#39;edge1&#39;)</title>\n",
       "<ellipse fill=\"none\" stroke=\"none\" stroke-width=\"2\" cx=\"45.66\" cy=\"-0.5\" rx=\"0.5\" ry=\"0.5\"/>\n",
       "<text text-anchor=\"start\" x=\"16.16\" y=\"-4.4\" font-family=\"Times,serif\" font-size=\"12.00\">edge1</text>\n",
       "</g>\n",
       "<!-- (&#39;store1&#39;,)&#45;&gt;(&#39;store1&#39;, &#39;edge1&#39;) -->\n",
       "<!-- (&#39;store1&#39;, &#39;edge2&#39;) -->\n",
       "<g id=\"node5\" class=\"node\">\n",
       "<title>(&#39;store1&#39;, &#39;edge2&#39;)</title>\n",
       "<ellipse fill=\"none\" stroke=\"none\" stroke-width=\"2\" cx=\"120.66\" cy=\"-0.5\" rx=\"0.5\" ry=\"0.5\"/>\n",
       "<text text-anchor=\"start\" x=\"91.16\" y=\"-4.4\" font-family=\"Times,serif\" font-size=\"12.00\">edge2</text>\n",
       "</g>\n",
       "<!-- (&#39;store1&#39;,)&#45;&gt;(&#39;store1&#39;, &#39;edge2&#39;) -->\n",
       "<!-- (&#39;edge3&#39;,) -->\n",
       "<g id=\"node6\" class=\"node\">\n",
       "<title>(&#39;edge3&#39;,)</title>\n",
       "<ellipse fill=\"none\" stroke=\"none\" stroke-width=\"2\" cx=\"205.66\" cy=\"-65.32\" rx=\"0.5\" ry=\"0.5\"/>\n",
       "<text text-anchor=\"start\" x=\"176.16\" y=\"-69.22\" font-family=\"Times,serif\" font-size=\"12.00\">edge3</text>\n",
       "</g>\n",
       "<!-- (&#39;store1&#39;,)&#45;&gt;(&#39;edge3&#39;,) -->\n",
       "<g id=\"edge9\" class=\"edge\">\n",
       "<title>(&#39;store1&#39;,)&#45;&gt;(&#39;edge3&#39;,)</title>\n",
       "<path fill=\"none\" stroke=\"black\" stroke-dasharray=\"5,2\" d=\"M142.34,-139.52C157.15,-127.93 176.58,-111.22 190.66,-93.63 198.5,-83.83 204.45,-69.36 205.49,-66.73\"/>\n",
       "</g>\n",
       "<!-- (&#39;store1&#39;, &#39;store1.1&#39;)&#45;&gt;(&#39;store1&#39;, &#39;edge1&#39;) -->\n",
       "<g id=\"edge5\" class=\"edge\">\n",
       "<title>(&#39;store1&#39;, &#39;store1.1&#39;)&#45;&gt;(&#39;store1&#39;, &#39;edge1&#39;)</title>\n",
       "<path fill=\"none\" stroke=\"black\" stroke-dasharray=\"5,2\" d=\"M98.97,-46C78.89,-29.06 51.42,-5.87 46.45,-1.67\"/>\n",
       "</g>\n",
       "<!-- (&#39;store1&#39;, &#39;store1.1&#39;)&#45;&gt;(&#39;store1&#39;, &#39;edge2&#39;) -->\n",
       "<g id=\"edge7\" class=\"edge\">\n",
       "<title>(&#39;store1&#39;, &#39;store1.1&#39;)&#45;&gt;(&#39;store1&#39;, &#39;edge2&#39;)</title>\n",
       "<path fill=\"none\" stroke=\"black\" stroke-dasharray=\"5,2\" d=\"M120.66,-36.36C120.66,-21.52 120.66,-5.58 120.66,-1.82\"/>\n",
       "</g>\n",
       "<!-- (&#39;store1&#39;, &#39;store1.2&#39;)&#45;&gt;(&#39;store1&#39;, &#39;edge1&#39;) -->\n",
       "<g id=\"edge6\" class=\"edge\">\n",
       "<title>(&#39;store1&#39;, &#39;store1.2&#39;)&#45;&gt;(&#39;store1&#39;, &#39;edge1&#39;)</title>\n",
       "<path fill=\"none\" stroke=\"black\" stroke-dasharray=\"5,2\" d=\"M45.66,-36.36C45.66,-21.52 45.66,-5.58 45.66,-1.82\"/>\n",
       "</g>\n",
       "<!-- (&#39;store1&#39;, &#39;store1.2&#39;)&#45;&gt;(&#39;store1&#39;, &#39;edge2&#39;) -->\n",
       "<g id=\"edge8\" class=\"edge\">\n",
       "<title>(&#39;store1&#39;, &#39;store1.2&#39;)&#45;&gt;(&#39;store1&#39;, &#39;edge2&#39;)</title>\n",
       "<path fill=\"none\" stroke=\"black\" stroke-dasharray=\"5,2\" d=\"M67.35,-46C87.43,-29.06 114.9,-5.87 119.87,-1.67\"/>\n",
       "</g>\n",
       "</g>\n",
       "</svg>\n"
      ],
      "text/plain": [
       "<graphviz.graphs.Digraph at 0x10793a6d0>"
      ]
     },
     "execution_count": 23,
     "metadata": {},
     "output_type": "execute_result"
    }
   ],
   "source": [
    "plot_bigraph(filled_instance, collapse_processes=True, remove_process_place_edges=True, port_labels=False)"
   ]
  },
  {
   "cell_type": "markdown",
   "id": "07f8219d-43d2-4d6c-92af-d00976da0703",
   "metadata": {},
   "source": [
    "## Update (TODO)"
   ]
  },
  {
   "cell_type": "markdown",
   "id": "028bc593-068d-4020-937a-4c9c39c31d9a",
   "metadata": {},
   "source": [
    "## Query\n",
    "\n",
    "Find a schema within a composite. For example find a mitochondria within a cell\n",
    "\n",
    "## Adapters\n",
    "\n",
    "Show how adapters can automatically compose into a schema to provide translation between types."
   ]
  },
  {
   "cell_type": "code",
   "execution_count": null,
   "id": "fdd3134e-f576-445b-8dd4-5eacb55bbdf4",
   "metadata": {},
   "outputs": [],
   "source": []
  }
 ],
 "metadata": {
  "kernelspec": {
   "display_name": "Python 3 (ipykernel)",
   "language": "python",
   "name": "python3"
  },
  "language_info": {
   "codemirror_mode": {
    "name": "ipython",
    "version": 3
   },
   "file_extension": ".py",
   "mimetype": "text/x-python",
   "name": "python",
   "nbconvert_exporter": "python",
   "pygments_lexer": "ipython3",
   "version": "3.9.6"
  }
 },
 "nbformat": 4,
 "nbformat_minor": 5
}

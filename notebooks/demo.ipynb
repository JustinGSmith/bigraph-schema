{
 "cells": [
  {
   "cell_type": "markdown",
   "id": "e00b3123-97ef-4c0c-8be0-09fecb055aa9",
   "metadata": {
    "tags": []
   },
   "source": [
    "# Bigraph Schema\n",
    "\n",
    "This tutorial explores the bigraph schema library. Bigraph schema enables different simulators, models, and data to communicate with each other through standardized type definitions and wiring diagrams. By providing a robust type system and serializable data format, this makes composite simulators shareable, extendable, and easily distributed across various computer architectures.\n",
    "\n",
    "This notebook uses the [bigraph-schema](https://pypi.org/project/bigraph-schema/) library for validation and processing of the schema, and the [bigraph-viz](https://pypi.org/project/bigraph-viz/) library for plotting library for visualizing the resulting simulation configuration.\n",
    "\n",
    "This notebook is focused on type definition and access. For an introduction on Bigraphs and Process Bigraphs see [this notebook](https://vivarium-collective.github.io/process-bigraph/notebooks/process-bigraphs.html)"
   ]
  },
  {
   "cell_type": "markdown",
   "id": "a629c223-65bb-459f-88e9-4aea79760519",
   "metadata": {},
   "source": [
    "### Installation\n",
    "To start, let's install the necessary libraries and display their versions:"
   ]
  },
  {
   "cell_type": "code",
   "execution_count": 1,
   "id": "c49100b1-b4e6-425c-84a1-7ed5c8fa632e",
   "metadata": {
    "tags": []
   },
   "outputs": [
    {
     "name": "stdout",
     "output_type": "stream",
     "text": [
      "-e git+https://github.com/vivarium-collective/bigraph-schema.git@3d378723574a5f8d8ea8e5b14d506d73bb80f5dd#egg=bigraph_schema\n",
      "bigraph-viz==0.0.29\n"
     ]
    }
   ],
   "source": [
    "# !pip install bigraph-schema\n",
    "# !pip install bigraph-viz\n",
    "!pip freeze | grep bigraph"
   ]
  },
  {
   "cell_type": "markdown",
   "id": "09ed5449-24a8-4021-975d-363bcb08abfc",
   "metadata": {},
   "source": [
    "### Imports\n"
   ]
  },
  {
   "cell_type": "code",
   "execution_count": 2,
   "id": "cac34387-fc7e-41cc-808a-00ffd472ea3e",
   "metadata": {
    "tags": []
   },
   "outputs": [],
   "source": [
    "from bigraph_schema import TypeSystem\n",
    "from bigraph_viz import plot_bigraph, pf, pp\n",
    "from bigraph_viz.dict_utils import schema_keys"
   ]
  },
  {
   "cell_type": "markdown",
   "id": "e7845dfc-2fc0-42bb-b6e0-677e11b7184f",
   "metadata": {},
   "source": [
    "## Type System\n",
    "A type system comprises a set of rules and constraints that govern the organization, interaction, and manipulation of bigraph nodes, facilitating efficient and error-free compositional modeling by guaranteeing compatibility and seamless communication between various components within a simulation.\n",
    "\n",
    "The main class for working with bigraph_schema is `SchemaTypes`, which handles the different type schemas and provides methods for their manipulation. We will use `SchemaTypes.validate_schema` to check our schemas, `SchemaTypes.access` to fill in missing details to prepare the schema for simulation, and `SchemaTypes.type_registry` to access different schemas and register new ones. \n",
    "\n",
    "*Schemas* serve as a formalized framework for defining and organizing types, providing explicit specifications for data representation, validation, and transformation. In a schema, types are characterized by specific `schema_keys` associated with type definitions, encompassing default values, serialization/deserialization methods, and additional metadata. The `schema_keys` encompass the following attributes. We will see specific instances of these below.\n",
    "\n",
    "<span style=\"color:red\">\n",
    "TODO: how do we register new types, serializers, deserializers, etc?\n",
    "</span>\n"
   ]
  },
  {
   "cell_type": "code",
   "execution_count": 3,
   "id": "a2d6adb0-8678-4f59-a027-5296b755c1df",
   "metadata": {
    "tags": []
   },
   "outputs": [],
   "source": [
    "types = TypeSystem()"
   ]
  },
  {
   "cell_type": "code",
   "execution_count": 30,
   "id": "ecb4d869-066a-4205-a11f-1e774282a35e",
   "metadata": {
    "tags": []
   },
   "outputs": [],
   "source": [
    "# from bigraph_schema.registry import type_schema_keys\n",
    "# type_schema_keys"
   ]
  },
  {
   "cell_type": "markdown",
   "id": "54d08aa8-9196-48d6-bbe7-1ec260c2f5d5",
   "metadata": {},
   "source": [
    "## Type Registry\n",
    "A type registry is used to store and manage schema definitions related to various simulation modules, streamlining the process of accessing, extending, and reusing type information across different components. \n",
    "\n",
    "The names of types available in the given registry can be printed:"
   ]
  },
  {
   "cell_type": "code",
   "execution_count": 5,
   "id": "201e14e9-5689-47c0-b2b1-2e303f4dd0f9",
   "metadata": {
    "tags": []
   },
   "outputs": [
    {
     "data": {
      "text/plain": [
       "['',\n",
       " 'time^2/length',\n",
       " '/time',\n",
       " 'length/time^2',\n",
       " 'printing_unit/length',\n",
       " 'length^3/time',\n",
       " 'length^2/time^2',\n",
       " 'any',\n",
       " 'current*length^2*time',\n",
       " 'length^3/mass*time^2',\n",
       " 'mass',\n",
       " 'length^2*mass/temperature*time^2',\n",
       " 'int',\n",
       " 'mass/temperature^4*time^3',\n",
       " '/substance',\n",
       " 'luminosity/length^2',\n",
       " 'length^2*mass/current*time^3',\n",
       " 'length^2*mass/time',\n",
       " 'mass/length*time^2',\n",
       " 'length^3',\n",
       " 'length*mass/current*time^3',\n",
       " 'length^1_5*mass^0_5/time',\n",
       " 'dict',\n",
       " 'luminosity',\n",
       " 'length*time/mass',\n",
       " 'length*mass/time^2',\n",
       " 'tree',\n",
       " 'string',\n",
       " 'current*time^2/length^2*mass',\n",
       " 'current',\n",
       " 'substance/length^3',\n",
       " 'length^2*mass/time^3',\n",
       " 'length^4*mass/time^3',\n",
       " 'mass/time^3',\n",
       " 'length^0_5*mass^0_5/time',\n",
       " 'current*time',\n",
       " 'mass^0_5/length^0_5*time',\n",
       " 'current*time/mass',\n",
       " 'length^1_5*mass^0_5/time^2',\n",
       " 'mass/length^3',\n",
       " '/printing_unit',\n",
       " 'maybe',\n",
       " 'mass/length*time',\n",
       " 'time',\n",
       " 'length/time',\n",
       " 'array',\n",
       " 'list',\n",
       " 'float',\n",
       " 'current^2*time^4/length^2*mass',\n",
       " 'length^2*mass/substance*temperature*time^2',\n",
       " 'temperature',\n",
       " 'current^2*time^4/length^3*mass',\n",
       " 'current*time/substance',\n",
       " '/length',\n",
       " 'length',\n",
       " 'substance/time',\n",
       " 'length*mass/current^2*time^2',\n",
       " 'current*length*time',\n",
       " 'length^2/time',\n",
       " 'length^3*mass/current^2*time^4',\n",
       " 'mass/length',\n",
       " 'mass/current*time^2',\n",
       " 'mass^0_5/length^1_5',\n",
       " 'current^2*time^3/length^2*mass',\n",
       " 'length^2*mass/current^2*time^3',\n",
       " 'substance',\n",
       " 'length^2*mass/time^2',\n",
       " 'time/length',\n",
       " '/temperature*time',\n",
       " 'current*length^2',\n",
       " 'length^2',\n",
       " 'length*temperature',\n",
       " 'edge',\n",
       " 'mass/time^2',\n",
       " 'printing_unit',\n",
       " 'length^2*mass/current^2*time^2',\n",
       " 'length^2*mass/current*time^2',\n",
       " 'number',\n",
       " 'length^0_5*mass^0_5',\n",
       " 'length/mass']"
      ]
     },
     "execution_count": 5,
     "metadata": {},
     "output_type": "execute_result"
    }
   ],
   "source": [
    "types.type_registry.list()"
   ]
  },
  {
   "cell_type": "markdown",
   "id": "4f9b3efb-e67f-4158-a012-7e53250782cf",
   "metadata": {},
   "source": [
    "### Accessing a type\n",
    "Type schemas can be accessed from the registry by their name. Here the `float` types shows that it uses an `accumulate` apply method, a `to_string` serialize method, that its default value is `0.0`, and that it inherits from (its super is) the `number` type."
   ]
  },
  {
   "cell_type": "code",
   "execution_count": 27,
   "id": "d47a37a6-fcd6-4aa6-a711-bdbbcc775714",
   "metadata": {
    "tags": []
   },
   "outputs": [
    {
     "data": {
      "text/plain": [
       "{'_type': 'float',\n",
       " '_apply': 'accumulate',\n",
       " '_serialize': 'to_string',\n",
       " '_description': '64-bit floating point precision number',\n",
       " '_default': '0.0',\n",
       " '_deserialize': 'float',\n",
       " '_divide': 'divide_float',\n",
       " '_super': ['number']}"
      ]
     },
     "execution_count": 27,
     "metadata": {},
     "output_type": "execute_result"
    }
   ],
   "source": [
    "float_schema = types.type_registry.access('float')\n",
    "float_schema"
   ]
  },
  {
   "cell_type": "markdown",
   "id": "a45e1f94-93ce-4edb-972a-838e2356dba4",
   "metadata": {},
   "source": [
    "### Accessing schema methods\n",
    "The `apply`, `serialize`, `deserialize`, `divide` methods of a type are accessed by the type system through their respective registries."
   ]
  },
  {
   "cell_type": "code",
   "execution_count": 36,
   "id": "628f5529-3cac-4f43-b808-6d4b0a931a37",
   "metadata": {
    "tags": []
   },
   "outputs": [
    {
     "name": "stdout",
     "output_type": "stream",
     "text": [
      "default: 0.0\n"
     ]
    },
    {
     "ename": "TypeError",
     "evalue": "accumulate() missing 2 required positional arguments: 'bindings' and 'types'",
     "output_type": "error",
     "traceback": [
      "\u001b[0;31m---------------------------------------------------------------------------\u001b[0m",
      "\u001b[0;31mTypeError\u001b[0m                                 Traceback (most recent call last)",
      "Cell \u001b[0;32mIn[36], line 10\u001b[0m\n\u001b[1;32m      8\u001b[0m \u001b[38;5;28mprint\u001b[39m(\u001b[38;5;124mf\u001b[39m\u001b[38;5;124m'\u001b[39m\u001b[38;5;124mdefault: \u001b[39m\u001b[38;5;132;01m{\u001b[39;00mdefault_value\u001b[38;5;132;01m}\u001b[39;00m\u001b[38;5;124m'\u001b[39m)\n\u001b[1;32m      9\u001b[0m \u001b[38;5;66;03m# print(f'default: {serialize_method(default_value)}')\u001b[39;00m\n\u001b[0;32m---> 10\u001b[0m \u001b[38;5;28mprint\u001b[39m(\u001b[38;5;124mf\u001b[39m\u001b[38;5;124m'\u001b[39m\u001b[38;5;124mafter apply: \u001b[39m\u001b[38;5;132;01m{\u001b[39;00mapply_method(default_value,\u001b[38;5;250m \u001b[39m\u001b[38;5;241m1.0\u001b[39m)\u001b[38;5;132;01m}\u001b[39;00m\u001b[38;5;124m'\u001b[39m)\n",
      "\u001b[0;31mTypeError\u001b[0m: accumulate() missing 2 required positional arguments: 'bindings' and 'types'"
     ]
    }
   ],
   "source": [
    "# here showing the method specified by the `float` type\n",
    "apply_method = types.apply_registry.access(float_schema['_apply'])\n",
    "serialize_method = types.serialize_registry.access(float_schema['_serialize'])\n",
    "deserialize_method = types.deserialize_registry.access(float_schema['_deserialize'])\n",
    "divide_method = types.divide_registry.access(float_schema['_divide'])\n",
    "default_value = float_schema['_default']\n",
    "\n",
    "print(f'default: {default_value}')\n",
    "# print(f'default: {serialize_method(default_value)}')\n",
    "print(f'after apply: {apply_method(default_value, 1.0)}')"
   ]
  },
  {
   "cell_type": "code",
   "execution_count": 34,
   "id": "b341f31f-1297-4d96-955a-ed4bfbe54673",
   "metadata": {
    "tags": []
   },
   "outputs": [
    {
     "name": "stdout",
     "output_type": "stream",
     "text": [
      "Help on function to_string in module bigraph_schema.schema:\n",
      "\n",
      "to_string(value, bindings, types)\n",
      "\n"
     ]
    }
   ],
   "source": [
    "help(serialize_method)  # TODO -- bindings, types should be optional"
   ]
  },
  {
   "cell_type": "code",
   "execution_count": 37,
   "id": "41064ea9-e973-4964-a111-948e7bbe112f",
   "metadata": {
    "tags": []
   },
   "outputs": [
    {
     "name": "stdout",
     "output_type": "stream",
     "text": [
      "Help on function accumulate in module bigraph_schema.schema:\n",
      "\n",
      "accumulate(current, update, bindings, types)\n",
      "\n"
     ]
    }
   ],
   "source": [
    "help(apply_method)  # TODO -- bindings, types should be optional"
   ]
  },
  {
   "cell_type": "markdown",
   "id": "d20e9721-64d2-453b-88dc-2cf9f39bb4ed",
   "metadata": {},
   "source": [
    "### Use access to expand a composite type\n",
    "\n",
    "Nested types have types within types. Here showing an `edge` type, which has wires that have their own types."
   ]
  },
  {
   "cell_type": "code",
   "execution_count": 7,
   "id": "2eb4fa5d-8668-4202-a5b4-032596b35c33",
   "metadata": {
    "tags": []
   },
   "outputs": [
    {
     "name": "stdout",
     "output_type": "stream",
     "text": [
      "{ '_apply': 'apply_edge',\n",
      "  '_default': '{\"wires\": {}}',\n",
      "  '_description': 'hyperedges in the bigraph, with ports as a type parameter',\n",
      "  '_deserialize': 'deserialize_edge',\n",
      "  '_divide': 'divide_edge',\n",
      "  '_serialize': 'serialize_edge',\n",
      "  '_type': 'edge',\n",
      "  '_type_parameters': ['ports'],\n",
      "  'wires': { '_apply': 'apply_tree',\n",
      "             '_bindings': {'leaf': ['list', ['string']]},\n",
      "             '_default': '{}',\n",
      "             '_description': 'mapping from str to some type (or nested dicts)',\n",
      "             '_deserialize': 'deserialize_tree',\n",
      "             '_divide': 'divide_tree',\n",
      "             '_leaf': { '_apply': 'concatenate',\n",
      "                        '_bindings': {'element': 'string'},\n",
      "                        '_default': '[]',\n",
      "                        '_description': 'general list type (or sublists)',\n",
      "                        '_deserialize': 'evaluate',\n",
      "                        '_divide': 'divide_list',\n",
      "                        '_element': { '_apply': 'replace',\n",
      "                                      '_default': '\"\"',\n",
      "                                      '_description': '64-bit integer',\n",
      "                                      '_deserialize': 'deserialize_string',\n",
      "                                      '_divide': 'divide_int',\n",
      "                                      '_serialize': 'serialize_string',\n",
      "                                      '_type': 'string'},\n",
      "                        '_serialize': 'to_string',\n",
      "                        '_type': 'list',\n",
      "                        '_type_parameters': ['element']},\n",
      "             '_serialize': 'serialize_tree',\n",
      "             '_type': 'tree',\n",
      "             '_type_parameters': ['leaf']}}\n"
     ]
    }
   ],
   "source": [
    "pp(types.type_registry.access('edge'))"
   ]
  },
  {
   "cell_type": "code",
   "execution_count": null,
   "id": "82d94a35-f075-441e-8565-b990454b8e0d",
   "metadata": {},
   "outputs": [],
   "source": []
  },
  {
   "cell_type": "markdown",
   "id": "67ceab4d-5d49-40d4-91fc-582f8cfe4ede",
   "metadata": {},
   "source": [
    "### Register a new type schema\n",
    "You can add new types to the type registry using  `type_registry.register(type_name:str, type_schema:dict)`:"
   ]
  },
  {
   "cell_type": "code",
   "execution_count": 79,
   "id": "3b5a31fa-9bbb-4e9e-9096-1a82f7d7f775",
   "metadata": {
    "tags": []
   },
   "outputs": [
    {
     "name": "stdout",
     "output_type": "stream",
     "text": [
      "type did not parse: union[bool,foursquare]\n"
     ]
    },
    {
     "name": "stderr",
     "output_type": "stream",
     "text": [
      "Traceback (most recent call last):\n",
      "  File \"/Users/eranagmon/code/bigraph-schema/bigraph_schema/registry.py\", line 332, in access\n",
      "    except Exception:\n",
      "  File \"/Users/eranagmon/code/bigraph-schema/bigraph_schema/registry.py\", line 317, in access\n",
      "    found['_bindings'] = dict(zip(\n",
      "AttributeError: 'NoneType' object has no attribute 'copy'\n"
     ]
    },
    {
     "ename": "Exception",
     "evalue": "trying to register a new type (foursquare), but it depends on a type (00) which is not in the registry",
     "output_type": "error",
     "traceback": [
      "\u001b[0;31m---------------------------------------------------------------------------\u001b[0m",
      "\u001b[0;31mException\u001b[0m                                 Traceback (most recent call last)",
      "Cell \u001b[0;32mIn[79], line 10\u001b[0m\n\u001b[1;32m      1\u001b[0m foursquare_schema \u001b[38;5;241m=\u001b[39m {\n\u001b[1;32m      2\u001b[0m      \u001b[38;5;66;03m# '_type': 'foursquare',\u001b[39;00m\n\u001b[1;32m      3\u001b[0m      \u001b[38;5;124m'\u001b[39m\u001b[38;5;124m00\u001b[39m\u001b[38;5;124m'\u001b[39m: \u001b[38;5;124m'\u001b[39m\u001b[38;5;124munion[bool,foursquare]\u001b[39m\u001b[38;5;124m'\u001b[39m,\n\u001b[0;32m   (...)\u001b[0m\n\u001b[1;32m      8\u001b[0m      \u001b[38;5;124m'\u001b[39m\u001b[38;5;124m_description\u001b[39m\u001b[38;5;124m'\u001b[39m: \u001b[38;5;124m'\u001b[39m\u001b[38;5;124m'\u001b[39m,\n\u001b[1;32m      9\u001b[0m }\n\u001b[0;32m---> 10\u001b[0m \u001b[43mtypes\u001b[49m\u001b[38;5;241;43m.\u001b[39;49m\u001b[43mtype_registry\u001b[49m\u001b[38;5;241;43m.\u001b[39;49m\u001b[43mregister\u001b[49m\u001b[43m(\u001b[49m\n\u001b[1;32m     11\u001b[0m \u001b[43m    \u001b[49m\u001b[38;5;124;43m'\u001b[39;49m\u001b[38;5;124;43mfoursquare\u001b[39;49m\u001b[38;5;124;43m'\u001b[39;49m\u001b[43m,\u001b[49m\u001b[43m \u001b[49m\u001b[43mfoursquare_schema\u001b[49m\u001b[43m)\u001b[49m\n",
      "File \u001b[0;32m~/code/bigraph-schema/bigraph_schema/registry.py:265\u001b[0m, in \u001b[0;36mTypeRegistry.register\u001b[0;34m(self, key, schema, alternate_keys, force)\u001b[0m\n\u001b[1;32m    263\u001b[0m subschema \u001b[38;5;241m=\u001b[39m \u001b[38;5;28mself\u001b[39m\u001b[38;5;241m.\u001b[39maccess(original_subschema)\n\u001b[1;32m    264\u001b[0m \u001b[38;5;28;01mif\u001b[39;00m subschema \u001b[38;5;129;01mis\u001b[39;00m \u001b[38;5;28;01mNone\u001b[39;00m:\n\u001b[0;32m--> 265\u001b[0m     \u001b[38;5;28;01mraise\u001b[39;00m \u001b[38;5;167;01mException\u001b[39;00m(\u001b[38;5;124mf\u001b[39m\u001b[38;5;124m'\u001b[39m\u001b[38;5;124mtrying to register a new type (\u001b[39m\u001b[38;5;132;01m{\u001b[39;00mkey\u001b[38;5;132;01m}\u001b[39;00m\u001b[38;5;124m), \u001b[39m\u001b[38;5;124m'\u001b[39m\n\u001b[1;32m    266\u001b[0m                     \u001b[38;5;124mf\u001b[39m\u001b[38;5;124m'\u001b[39m\u001b[38;5;124mbut it depends on a type (\u001b[39m\u001b[38;5;132;01m{\u001b[39;00msubkey\u001b[38;5;132;01m}\u001b[39;00m\u001b[38;5;124m) which is not in the registry\u001b[39m\u001b[38;5;124m'\u001b[39m)\n\u001b[1;32m    267\u001b[0m \u001b[38;5;28;01melse\u001b[39;00m:\n\u001b[1;32m    268\u001b[0m     schema[subkey] \u001b[38;5;241m=\u001b[39m subschema\n",
      "\u001b[0;31mException\u001b[0m: trying to register a new type (foursquare), but it depends on a type (00) which is not in the registry"
     ]
    }
   ],
   "source": [
    "foursquare_schema = {\n",
    "     # '_type': 'foursquare',\n",
    "     '00': 'union[bool,foursquare]',\n",
    "     '01': 'union[bool,foursquare]',\n",
    "     '10': 'union[bool,foursquare]',\n",
    "     '11': 'union[bool,foursquare]',\n",
    "     '_default': {'00': False, '01': False, '10': False, '11': False},\n",
    "     '_description': '',\n",
    "}\n",
    "types.type_registry.register(\n",
    "    'foursquare', foursquare_schema)"
   ]
  },
  {
   "cell_type": "code",
   "execution_count": 85,
   "id": "d015fb38-4661-43ba-86a2-124ac3e422b9",
   "metadata": {
    "tags": []
   },
   "outputs": [
    {
     "data": {
      "image/png": "[encoded data removed]",
      "text/plain": [
       "<Figure size 640x480 with 1 Axes>"
      ]
     },
     "metadata": {},
     "output_type": "display_data"
    }
   ],
   "source": [
    "import os\n",
    "import matplotlib.pyplot as plt\n",
    "import numpy as np\n",
    "\n",
    "def render(data, arr, x, y, size):\n",
    "    if isinstance(data, dict):\n",
    "        half_size = size // 2\n",
    "        if '00' in data:\n",
    "            render(data['00'], arr, x, y + half_size, half_size)\n",
    "        if '01' in data:\n",
    "            render(data['01'], arr, x + half_size, y + half_size, half_size)\n",
    "        if '10' in data:\n",
    "            render(data['10'], arr, x, y, half_size)\n",
    "        if '11' in data:\n",
    "            render(data['11'], arr, x + half_size, y, half_size)\n",
    "    else:\n",
    "        arr[y:y+size, x:x+size] = 0 if data else 1  # Change to '0 if data else 1' to make True values black\n",
    "\n",
    "def find_depth(data):\n",
    "    if isinstance(data, dict):\n",
    "        return 1 + max(find_depth(data[key]) for key in data)\n",
    "    return 0\n",
    "\n",
    "def plot_foursquare(data, out_dir='out', filename=None):\n",
    "    depth = find_depth(data)\n",
    "    size = 2 ** depth\n",
    "    arr = np.ones((size, size))\n",
    "    render(data, arr, 0, 0, size)\n",
    "    plt.imshow(arr, cmap='gray', interpolation='nearest')\n",
    "    plt.axis('off')\n",
    "    if filename:\n",
    "        os.makedirs(out_dir, exist_ok=True)\n",
    "        fig_path = os.path.join(out_dir, filename)\n",
    "        plt.savefig(fig_path, format='png', dpi=300)\n",
    "    plt.show()\n",
    "\n",
    "# TODO: get this to register as a type\n",
    "example = {\n",
    "    '00': True, \n",
    "    '11': {\n",
    "        '00': True, \n",
    "        '11': {\n",
    "            '00': True, \n",
    "            '11': {\n",
    "                '00': True, \n",
    "                '11': {\n",
    "                    '00': True, \n",
    "                    '11': {\n",
    "                        '00': True, \n",
    "                    },\n",
    "                },\n",
    "            },\n",
    "        },\n",
    "    },\n",
    "}\n",
    "\n",
    "plot_foursquare(example, filename=\"example.png\")"
   ]
  },
  {
   "cell_type": "markdown",
   "id": "ad02fcd2-e0b1-49bb-b58b-492a3474120e",
   "metadata": {},
   "source": [
    "## Instance\n",
    "An instances is the particular set of values that populate a bigraph structure, adhering to a given schema. An instance encapsulates the current conditions and predicts future evolution based on the governing equations or rules. As the system evolves over time, the state transitions through various bigraphical configurations."
   ]
  },
  {
   "cell_type": "code",
   "execution_count": 9,
   "id": "a7b6c20a-5604-485a-8f50-bfd8bf6c003a",
   "metadata": {
    "tags": []
   },
   "outputs": [
    {
     "data": {
      "image/svg+xml": [
       "<?xml version=\"1.0\" encoding=\"UTF-8\" standalone=\"no\"?>\n",
       "<!DOCTYPE svg PUBLIC \"-//W3C//DTD SVG 1.1//EN\"\n",
       " \"http://www.w3.org/Graphics/SVG/1.1/DTD/svg11.dtd\">\n",
       "<!-- Generated by graphviz version 7.1.0 (20230121.1956)\n",
       " -->\n",
       "<!-- Title: bigraph Pages: 1 -->\n",
       "<svg width=\"173pt\" height=\"160pt\"\n",
       " viewBox=\"0.00 0.00 178.10 164.21\" xmlns=\"http://www.w3.org/2000/svg\" xmlns:xlink=\"http://www.w3.org/1999/xlink\">\n",
       "<g id=\"graph0\" class=\"graph\" transform=\"scale(0.972222 0.972222) rotate(0) translate(4 160.21)\">\n",
       "<title>bigraph</title>\n",
       "<polygon fill=\"white\" stroke=\"none\" points=\"-4,4 -4,-160.21 174.1,-160.21 174.1,4 -4,4\"/>\n",
       "<!-- (&#39;node1&#39;,) -->\n",
       "<g id=\"node1\" class=\"node\">\n",
       "<title>(&#39;node1&#39;,)</title>\n",
       "<ellipse fill=\"none\" stroke=\"black\" stroke-width=\"2\" cx=\"26.87\" cy=\"-129.34\" rx=\"26.74\" ry=\"26.74\"/>\n",
       "<text text-anchor=\"start\" x=\"11.87\" y=\"-132.74\" font-family=\"Times,serif\" font-size=\"12.00\">node1</text>\n",
       "<text text-anchor=\"start\" x=\"18.87\" y=\"-119.74\" font-family=\"Times,serif\" font-size=\"12.00\">1.0</text>\n",
       "</g>\n",
       "<!-- (&#39;node2&#39;,) -->\n",
       "<g id=\"node2\" class=\"node\">\n",
       "<title>(&#39;node2&#39;,)</title>\n",
       "<ellipse fill=\"none\" stroke=\"black\" stroke-width=\"2\" cx=\"94.87\" cy=\"-129.34\" rx=\"23.29\" ry=\"23.29\"/>\n",
       "<text text-anchor=\"start\" x=\"79.87\" y=\"-126.24\" font-family=\"Times,serif\" font-size=\"12.00\">node2</text>\n",
       "</g>\n",
       "<!-- (&#39;node2&#39;, &#39;node2.1&#39;) -->\n",
       "<g id=\"node3\" class=\"node\">\n",
       "<title>(&#39;node2&#39;, &#39;node2.1&#39;)</title>\n",
       "<ellipse fill=\"none\" stroke=\"black\" stroke-width=\"2\" cx=\"52.87\" cy=\"-33.23\" rx=\"33.47\" ry=\"33.47\"/>\n",
       "<text text-anchor=\"start\" x=\"33.37\" y=\"-36.63\" font-family=\"Times,serif\" font-size=\"12.00\">node2.1</text>\n",
       "<text text-anchor=\"start\" x=\"44.87\" y=\"-23.63\" font-family=\"Times,serif\" font-size=\"12.00\">2.0</text>\n",
       "</g>\n",
       "<!-- (&#39;node2&#39;,)&#45;&gt;(&#39;node2&#39;, &#39;node2.1&#39;) -->\n",
       "<g id=\"edge1\" class=\"edge\">\n",
       "<title>(&#39;node2&#39;,)&#45;&gt;(&#39;node2&#39;, &#39;node2.1&#39;)</title>\n",
       "<path fill=\"none\" stroke=\"black\" stroke-width=\"2\" d=\"M85.55,-107.45C79.94,-94.89 72.71,-78.68 66.47,-64.71\"/>\n",
       "</g>\n",
       "<!-- (&#39;node2&#39;, &#39;node2.2&#39;) -->\n",
       "<g id=\"node4\" class=\"node\">\n",
       "<title>(&#39;node2&#39;, &#39;node2.2&#39;)</title>\n",
       "<ellipse fill=\"none\" stroke=\"black\" stroke-width=\"2\" cx=\"136.87\" cy=\"-33.23\" rx=\"33.47\" ry=\"33.47\"/>\n",
       "<text text-anchor=\"start\" x=\"117.37\" y=\"-36.63\" font-family=\"Times,serif\" font-size=\"12.00\">node2.2</text>\n",
       "<text text-anchor=\"start\" x=\"128.87\" y=\"-23.63\" font-family=\"Times,serif\" font-size=\"12.00\">2.1</text>\n",
       "</g>\n",
       "<!-- (&#39;node2&#39;,)&#45;&gt;(&#39;node2&#39;, &#39;node2.2&#39;) -->\n",
       "<g id=\"edge2\" class=\"edge\">\n",
       "<title>(&#39;node2&#39;,)&#45;&gt;(&#39;node2&#39;, &#39;node2.2&#39;)</title>\n",
       "<path fill=\"none\" stroke=\"black\" stroke-width=\"2\" d=\"M104.19,-107.45C109.8,-94.89 117.03,-78.68 123.27,-64.71\"/>\n",
       "</g>\n",
       "</g>\n",
       "</svg>\n"
      ],
      "text/plain": [
       "<graphviz.graphs.Digraph at 0x11349e160>"
      ]
     },
     "execution_count": 9,
     "metadata": {},
     "output_type": "execute_result"
    }
   ],
   "source": [
    "bigraph_state = {\n",
    "    'node1': 1.0,\n",
    "    'node2': {\n",
    "        'node2.1': 2.0,\n",
    "        'node2.2': 2.1\n",
    "    }\n",
    "}\n",
    "plot_bigraph(bigraph_state, show_values=True)"
   ]
  },
  {
   "cell_type": "markdown",
   "id": "a5eaef05-63cd-45a4-8cef-ae363a944ff2",
   "metadata": {},
   "source": [
    "### Fill state\n",
    "\n",
    "One of the key advantages of a type system is its ability to improve automation in compositional modeling. The `fill` function exemplifies this by automatically populating missing schema elements. Given a schema and an incomplete instance, the fill function intelligently identifies and fills the missing schema components, ensuring that the instance is compliant with the schema definition."
   ]
  },
  {
   "cell_type": "code",
   "execution_count": 10,
   "id": "eba9e8a0-2558-48f9-b038-1ae08778875c",
   "metadata": {},
   "outputs": [],
   "source": [
    "dual_edge_schema = {\n",
    "    'edge1': {\n",
    "        '_type': 'edge',\n",
    "        '_ports': {\n",
    "            'port1': 'float',\n",
    "            'port2': 'int',\n",
    "        },\n",
    "    },\n",
    "    'edge2': {\n",
    "        '_type': 'edge',\n",
    "        '_ports': {\n",
    "            'port1': 'float',\n",
    "            'port2': 'int',\n",
    "        },\n",
    "    },\n",
    "}    \n",
    "\n",
    "types.type_registry.register('dual_edge', dual_edge_schema, force=True)\n",
    "\n",
    "schema = {\n",
    "    'store1': 'dual_edge',\n",
    "    'edge3': {\n",
    "        '_type': 'edge',\n",
    "        '_ports': {\n",
    "            'port1': 'dual_edge'\n",
    "        }\n",
    "    }\n",
    "}\n",
    "\n",
    "instance = {\n",
    "    'store1': {\n",
    "        'edge1': {\n",
    "            'wires': {\n",
    "                'port1': 'store1.1',\n",
    "                'port2': 'store1.2',\n",
    "            }\n",
    "        },\n",
    "        'edge2': {\n",
    "            'wires': {\n",
    "                'port1': 'store1.1',\n",
    "                'port2': 'store1.2',\n",
    "            }\n",
    "        }\n",
    "    },\n",
    "    'edge3': {\n",
    "        'wires': {\n",
    "            'port1': 'store1',\n",
    "        }\n",
    "    },\n",
    "}\n",
    "filled_instance = types.fill(schema, instance)\n",
    "filled_schema = types.type_registry.access(schema)"
   ]
  },
  {
   "cell_type": "code",
   "execution_count": 11,
   "id": "4364577c-fd11-4b93-950f-22e556e8d889",
   "metadata": {
    "tags": []
   },
   "outputs": [
    {
     "name": "stdout",
     "output_type": "stream",
     "text": [
      "schema:\n",
      " { 'edge3': {'_ports': {'port1': 'dual_edge'}, '_type': 'edge'},\n",
      "  'store1': 'dual_edge'}\n",
      "\n",
      "instance:\n",
      " { 'edge3': {'wires': {'port1': 'store1'}},\n",
      "  'store1': { 'edge1': {'wires': {'port1': 'store1.1', 'port2': 'store1.2'}},\n",
      "              'edge2': {'wires': {'port1': 'store1.1', 'port2': 'store1.2'}}}}\n",
      "\n",
      "filled instance:\n",
      " { 'edge3': {'wires': {'port1': 'store1'}},\n",
      "  'store1': { 'edge1': {'wires': {'port1': 'store1.1', 'port2': 'store1.2'}},\n",
      "              'edge2': {'wires': {'port1': 'store1.1', 'port2': 'store1.2'}},\n",
      "              'store1.1': 0.0,\n",
      "              'store1.2': 0}}\n",
      "\n"
     ]
    }
   ],
   "source": [
    "print(f'schema:\\n {pf(schema)}\\n')\n",
    "print(f'instance:\\n {pf(instance)}\\n')\n",
    "# print(f'filled schema:\\n {pf(filled_schema)}\\n')\n",
    "print(f'filled instance:\\n {pf(filled_instance)}\\n')"
   ]
  },
  {
   "cell_type": "code",
   "execution_count": 12,
   "id": "21d11947-29c8-473b-9a2d-ebbfbdc99936",
   "metadata": {},
   "outputs": [
    {
     "data": {
      "image/svg+xml": [
       "<?xml version=\"1.0\" encoding=\"UTF-8\" standalone=\"no\"?>\n",
       "<!DOCTYPE svg PUBLIC \"-//W3C//DTD SVG 1.1//EN\"\n",
       " \"http://www.w3.org/Graphics/SVG/1.1/DTD/svg11.dtd\">\n",
       "<!-- Generated by graphviz version 7.1.0 (20230121.1956)\n",
       " -->\n",
       "<!-- Title: bigraph Pages: 1 -->\n",
       "<svg width=\"259pt\" height=\"212pt\"\n",
       " viewBox=\"0.00 0.00 266.09 218.19\" xmlns=\"http://www.w3.org/2000/svg\" xmlns:xlink=\"http://www.w3.org/1999/xlink\">\n",
       "<g id=\"graph0\" class=\"graph\" transform=\"scale(0.972222 0.972222) rotate(0) translate(4 214.19)\">\n",
       "<title>bigraph</title>\n",
       "<polygon fill=\"white\" stroke=\"none\" points=\"-4,4 -4,-214.19 262.09,-214.19 262.09,4 -4,4\"/>\n",
       "<!-- (&#39;store1&#39;,) -->\n",
       "<g id=\"node1\" class=\"node\">\n",
       "<title>(&#39;store1&#39;,)</title>\n",
       "<ellipse fill=\"none\" stroke=\"black\" stroke-width=\"2\" cx=\"120.09\" cy=\"-187.41\" rx=\"22.56\" ry=\"22.56\"/>\n",
       "<text text-anchor=\"start\" x=\"105.59\" y=\"-184.31\" font-family=\"Times,serif\" font-size=\"12.00\">store1</text>\n",
       "</g>\n",
       "<!-- (&#39;store1&#39;, &#39;store1.1&#39;) -->\n",
       "<g id=\"node2\" class=\"node\">\n",
       "<title>(&#39;store1&#39;, &#39;store1.1&#39;)</title>\n",
       "<ellipse fill=\"none\" stroke=\"black\" stroke-width=\"2\" cx=\"120.09\" cy=\"-100.32\" rx=\"28.14\" ry=\"28.14\"/>\n",
       "<text text-anchor=\"start\" x=\"101.09\" y=\"-97.22\" font-family=\"Times,serif\" font-size=\"12.00\">store1.1</text>\n",
       "</g>\n",
       "<!-- (&#39;store1&#39;,)&#45;&gt;(&#39;store1&#39;, &#39;store1.1&#39;) -->\n",
       "<g id=\"edge3\" class=\"edge\">\n",
       "<title>(&#39;store1&#39;,)&#45;&gt;(&#39;store1&#39;, &#39;store1.1&#39;)</title>\n",
       "<path fill=\"none\" stroke=\"black\" stroke-width=\"2\" d=\"M120.09,-164.05C120.09,-153.42 120.09,-140.59 120.09,-129.31\"/>\n",
       "</g>\n",
       "<!-- (&#39;store1&#39;, &#39;store1.2&#39;) -->\n",
       "<g id=\"node3\" class=\"node\">\n",
       "<title>(&#39;store1&#39;, &#39;store1.2&#39;)</title>\n",
       "<ellipse fill=\"none\" stroke=\"black\" stroke-width=\"2\" cx=\"45.09\" cy=\"-100.32\" rx=\"28.14\" ry=\"28.14\"/>\n",
       "<text text-anchor=\"start\" x=\"26.09\" y=\"-97.22\" font-family=\"Times,serif\" font-size=\"12.00\">store1.2</text>\n",
       "</g>\n",
       "<!-- (&#39;store1&#39;,)&#45;&gt;(&#39;store1&#39;, &#39;store1.2&#39;) -->\n",
       "<g id=\"edge4\" class=\"edge\">\n",
       "<title>(&#39;store1&#39;,)&#45;&gt;(&#39;store1&#39;, &#39;store1.2&#39;)</title>\n",
       "<path fill=\"none\" stroke=\"black\" stroke-width=\"2\" d=\"M105.27,-169.6C93.32,-156.04 76.44,-136.89 63.6,-122.32\"/>\n",
       "</g>\n",
       "<!-- (&#39;store1&#39;, &#39;edge1&#39;) -->\n",
       "<g id=\"node4\" class=\"node\">\n",
       "<title>(&#39;store1&#39;, &#39;edge1&#39;)</title>\n",
       "<polygon fill=\"none\" stroke=\"black\" stroke-width=\"2\" points=\"72.09,-36 18.09,-36 18.09,0 72.09,0 72.09,-36\"/>\n",
       "<text text-anchor=\"start\" x=\"30.59\" y=\"-14.9\" font-family=\"Times,serif\" font-size=\"12.00\">edge1</text>\n",
       "</g>\n",
       "<!-- (&#39;store1&#39;,)&#45;&gt;(&#39;store1&#39;, &#39;edge1&#39;) -->\n",
       "<!-- (&#39;store1&#39;, &#39;edge2&#39;) -->\n",
       "<g id=\"node5\" class=\"node\">\n",
       "<title>(&#39;store1&#39;, &#39;edge2&#39;)</title>\n",
       "<polygon fill=\"none\" stroke=\"black\" stroke-width=\"2\" points=\"147.09,-36 93.09,-36 93.09,0 147.09,0 147.09,-36\"/>\n",
       "<text text-anchor=\"start\" x=\"105.59\" y=\"-14.9\" font-family=\"Times,serif\" font-size=\"12.00\">edge2</text>\n",
       "</g>\n",
       "<!-- (&#39;store1&#39;,)&#45;&gt;(&#39;store1&#39;, &#39;edge2&#39;) -->\n",
       "<!-- (&#39;edge3&#39;,) -->\n",
       "<g id=\"node6\" class=\"node\">\n",
       "<title>(&#39;edge3&#39;,)</title>\n",
       "<polygon fill=\"none\" stroke=\"black\" stroke-width=\"2\" points=\"258.09,-118.32 204.09,-118.32 204.09,-82.32 258.09,-82.32 258.09,-118.32\"/>\n",
       "<text text-anchor=\"start\" x=\"216.59\" y=\"-97.22\" font-family=\"Times,serif\" font-size=\"12.00\">edge3</text>\n",
       "</g>\n",
       "<!-- (&#39;store1&#39;,)&#45;&gt;(&#39;edge3&#39;,) -->\n",
       "<g id=\"edge9\" class=\"edge\">\n",
       "<title>(&#39;store1&#39;,)&#45;&gt;(&#39;edge3&#39;,)</title>\n",
       "<path fill=\"none\" stroke=\"black\" stroke-dasharray=\"5,2\" d=\"M137.92,-172.74C155.81,-159.03 183.57,-137.74 204.15,-121.97\"/>\n",
       "<ellipse fill=\"black\" stroke=\"black\" cx=\"205.92\" cy=\"-120.62\" rx=\"2\" ry=\"2\"/>\n",
       "</g>\n",
       "<!-- (&#39;store1&#39;, &#39;store1.1&#39;)&#45;&gt;(&#39;store1&#39;, &#39;edge1&#39;) -->\n",
       "<g id=\"edge5\" class=\"edge\">\n",
       "<title>(&#39;store1&#39;, &#39;store1.1&#39;)&#45;&gt;(&#39;store1&#39;, &#39;edge1&#39;)</title>\n",
       "<path fill=\"none\" stroke=\"black\" stroke-dasharray=\"5,2\" d=\"M100.78,-78.63C89.84,-66.92 76.18,-52.3 65.13,-40.46\"/>\n",
       "<ellipse fill=\"black\" stroke=\"black\" cx=\"63.5\" cy=\"-38.71\" rx=\"2\" ry=\"2\"/>\n",
       "</g>\n",
       "<!-- (&#39;store1&#39;, &#39;store1.1&#39;)&#45;&gt;(&#39;store1&#39;, &#39;edge2&#39;) -->\n",
       "<g id=\"edge7\" class=\"edge\">\n",
       "<title>(&#39;store1&#39;, &#39;store1.1&#39;)&#45;&gt;(&#39;store1&#39;, &#39;edge2&#39;)</title>\n",
       "<path fill=\"none\" stroke=\"black\" stroke-dasharray=\"5,2\" d=\"M120.09,-71.23C120.09,-61.61 120.09,-50.97 120.09,-41.82\"/>\n",
       "<ellipse fill=\"black\" stroke=\"black\" cx=\"120.09\" cy=\"-39.41\" rx=\"2\" ry=\"2\"/>\n",
       "</g>\n",
       "<!-- (&#39;store1&#39;, &#39;store1.2&#39;)&#45;&gt;(&#39;store1&#39;, &#39;edge1&#39;) -->\n",
       "<g id=\"edge6\" class=\"edge\">\n",
       "<title>(&#39;store1&#39;, &#39;store1.2&#39;)&#45;&gt;(&#39;store1&#39;, &#39;edge1&#39;)</title>\n",
       "<path fill=\"none\" stroke=\"black\" stroke-dasharray=\"5,2\" d=\"M45.09,-71.23C45.09,-61.61 45.09,-50.97 45.09,-41.82\"/>\n",
       "<ellipse fill=\"black\" stroke=\"black\" cx=\"45.09\" cy=\"-39.41\" rx=\"2\" ry=\"2\"/>\n",
       "</g>\n",
       "<!-- (&#39;store1&#39;, &#39;store1.2&#39;)&#45;&gt;(&#39;store1&#39;, &#39;edge2&#39;) -->\n",
       "<g id=\"edge8\" class=\"edge\">\n",
       "<title>(&#39;store1&#39;, &#39;store1.2&#39;)&#45;&gt;(&#39;store1&#39;, &#39;edge2&#39;)</title>\n",
       "<path fill=\"none\" stroke=\"black\" stroke-dasharray=\"5,2\" d=\"M64.4,-78.63C75.34,-66.92 89,-52.3 100.05,-40.46\"/>\n",
       "<ellipse fill=\"black\" stroke=\"black\" cx=\"101.68\" cy=\"-38.71\" rx=\"2\" ry=\"2\"/>\n",
       "</g>\n",
       "</g>\n",
       "</svg>\n"
      ],
      "text/plain": [
       "<graphviz.graphs.Digraph at 0x11349ee20>"
      ]
     },
     "execution_count": 12,
     "metadata": {},
     "output_type": "execute_result"
    }
   ],
   "source": [
    "plot_bigraph(filled_instance, remove_process_place_edges=True, port_labels=False)"
   ]
  },
  {
   "cell_type": "markdown",
   "id": "07f8219d-43d2-4d6c-92af-d00976da0703",
   "metadata": {},
   "source": [
    "## Update"
   ]
  },
  {
   "cell_type": "code",
   "execution_count": 13,
   "id": "5635ed86-9996-4648-b1d6-973a666bfd06",
   "metadata": {
    "tags": []
   },
   "outputs": [
    {
     "data": {
      "image/svg+xml": [
       "<?xml version=\"1.0\" encoding=\"UTF-8\" standalone=\"no\"?>\n",
       "<!DOCTYPE svg PUBLIC \"-//W3C//DTD SVG 1.1//EN\"\n",
       " \"http://www.w3.org/Graphics/SVG/1.1/DTD/svg11.dtd\">\n",
       "<!-- Generated by graphviz version 7.1.0 (20230121.1956)\n",
       " -->\n",
       "<!-- Title: bigraph Pages: 1 -->\n",
       "<svg width=\"173pt\" height=\"160pt\"\n",
       " viewBox=\"0.00 0.00 178.10 164.21\" xmlns=\"http://www.w3.org/2000/svg\" xmlns:xlink=\"http://www.w3.org/1999/xlink\">\n",
       "<g id=\"graph0\" class=\"graph\" transform=\"scale(0.972222 0.972222) rotate(0) translate(4 160.21)\">\n",
       "<title>bigraph</title>\n",
       "<polygon fill=\"white\" stroke=\"none\" points=\"-4,4 -4,-160.21 174.1,-160.21 174.1,4 -4,4\"/>\n",
       "<!-- (&#39;node1&#39;,) -->\n",
       "<g id=\"node1\" class=\"node\">\n",
       "<title>(&#39;node1&#39;,)</title>\n",
       "<ellipse fill=\"none\" stroke=\"black\" stroke-width=\"2\" cx=\"26.87\" cy=\"-129.34\" rx=\"26.74\" ry=\"26.74\"/>\n",
       "<text text-anchor=\"start\" x=\"11.87\" y=\"-132.74\" font-family=\"Times,serif\" font-size=\"12.00\">node1</text>\n",
       "<text text-anchor=\"start\" x=\"18.87\" y=\"-119.74\" font-family=\"Times,serif\" font-size=\"12.00\">1.0</text>\n",
       "</g>\n",
       "<!-- (&#39;node2&#39;,) -->\n",
       "<g id=\"node2\" class=\"node\">\n",
       "<title>(&#39;node2&#39;,)</title>\n",
       "<ellipse fill=\"none\" stroke=\"black\" stroke-width=\"2\" cx=\"94.87\" cy=\"-129.34\" rx=\"23.29\" ry=\"23.29\"/>\n",
       "<text text-anchor=\"start\" x=\"79.87\" y=\"-126.24\" font-family=\"Times,serif\" font-size=\"12.00\">node2</text>\n",
       "</g>\n",
       "<!-- (&#39;node2&#39;, &#39;node2.1&#39;) -->\n",
       "<g id=\"node3\" class=\"node\">\n",
       "<title>(&#39;node2&#39;, &#39;node2.1&#39;)</title>\n",
       "<ellipse fill=\"none\" stroke=\"black\" stroke-width=\"2\" cx=\"52.87\" cy=\"-33.23\" rx=\"33.47\" ry=\"33.47\"/>\n",
       "<text text-anchor=\"start\" x=\"33.37\" y=\"-36.63\" font-family=\"Times,serif\" font-size=\"12.00\">node2.1</text>\n",
       "<text text-anchor=\"start\" x=\"44.87\" y=\"-23.63\" font-family=\"Times,serif\" font-size=\"12.00\">2.0</text>\n",
       "</g>\n",
       "<!-- (&#39;node2&#39;,)&#45;&gt;(&#39;node2&#39;, &#39;node2.1&#39;) -->\n",
       "<g id=\"edge1\" class=\"edge\">\n",
       "<title>(&#39;node2&#39;,)&#45;&gt;(&#39;node2&#39;, &#39;node2.1&#39;)</title>\n",
       "<path fill=\"none\" stroke=\"black\" stroke-width=\"2\" d=\"M85.55,-107.45C79.94,-94.89 72.71,-78.68 66.47,-64.71\"/>\n",
       "</g>\n",
       "<!-- (&#39;node2&#39;, &#39;node2.2&#39;) -->\n",
       "<g id=\"node4\" class=\"node\">\n",
       "<title>(&#39;node2&#39;, &#39;node2.2&#39;)</title>\n",
       "<ellipse fill=\"none\" stroke=\"black\" stroke-width=\"2\" cx=\"136.87\" cy=\"-33.23\" rx=\"33.47\" ry=\"33.47\"/>\n",
       "<text text-anchor=\"start\" x=\"117.37\" y=\"-36.63\" font-family=\"Times,serif\" font-size=\"12.00\">node2.2</text>\n",
       "<text text-anchor=\"start\" x=\"128.87\" y=\"-23.63\" font-family=\"Times,serif\" font-size=\"12.00\">2.1</text>\n",
       "</g>\n",
       "<!-- (&#39;node2&#39;,)&#45;&gt;(&#39;node2&#39;, &#39;node2.2&#39;) -->\n",
       "<g id=\"edge2\" class=\"edge\">\n",
       "<title>(&#39;node2&#39;,)&#45;&gt;(&#39;node2&#39;, &#39;node2.2&#39;)</title>\n",
       "<path fill=\"none\" stroke=\"black\" stroke-width=\"2\" d=\"M104.19,-107.45C109.8,-94.89 117.03,-78.68 123.27,-64.71\"/>\n",
       "</g>\n",
       "</g>\n",
       "</svg>\n"
      ],
      "text/plain": [
       "<graphviz.graphs.Digraph at 0x11349e3a0>"
      ]
     },
     "execution_count": 13,
     "metadata": {},
     "output_type": "execute_result"
    }
   ],
   "source": [
    "place_schema = {\n",
    "    '_type': 'tree[float]',\n",
    "}\n",
    "\n",
    "place_state1 = {\n",
    "    'node1': 1.0,\n",
    "    'node2': {\n",
    "        'node2.1': 2.0,\n",
    "        'node2.2': 2.1\n",
    "    }\n",
    "}\n",
    "plot_bigraph(place_state1, show_values=True)"
   ]
  },
  {
   "cell_type": "code",
   "execution_count": 14,
   "id": "d5e899b0-00e7-4c48-ac3a-eb12afad36c4",
   "metadata": {
    "tags": []
   },
   "outputs": [
    {
     "data": {
      "image/svg+xml": [
       "<?xml version=\"1.0\" encoding=\"UTF-8\" standalone=\"no\"?>\n",
       "<!DOCTYPE svg PUBLIC \"-//W3C//DTD SVG 1.1//EN\"\n",
       " \"http://www.w3.org/Graphics/SVG/1.1/DTD/svg11.dtd\">\n",
       "<!-- Generated by graphviz version 7.1.0 (20230121.1956)\n",
       " -->\n",
       "<!-- Title: bigraph Pages: 1 -->\n",
       "<svg width=\"173pt\" height=\"160pt\"\n",
       " viewBox=\"0.00 0.00 178.10 164.21\" xmlns=\"http://www.w3.org/2000/svg\" xmlns:xlink=\"http://www.w3.org/1999/xlink\">\n",
       "<g id=\"graph0\" class=\"graph\" transform=\"scale(0.972222 0.972222) rotate(0) translate(4 160.21)\">\n",
       "<title>bigraph</title>\n",
       "<polygon fill=\"white\" stroke=\"none\" points=\"-4,4 -4,-160.21 174.1,-160.21 174.1,4 -4,4\"/>\n",
       "<!-- (&#39;node1&#39;,) -->\n",
       "<g id=\"node1\" class=\"node\">\n",
       "<title>(&#39;node1&#39;,)</title>\n",
       "<ellipse fill=\"none\" stroke=\"black\" stroke-width=\"2\" cx=\"26.87\" cy=\"-129.34\" rx=\"26.74\" ry=\"26.74\"/>\n",
       "<text text-anchor=\"start\" x=\"11.87\" y=\"-132.74\" font-family=\"Times,serif\" font-size=\"12.00\">node1</text>\n",
       "<text text-anchor=\"start\" x=\"18.87\" y=\"-119.74\" font-family=\"Times,serif\" font-size=\"12.00\">6.1</text>\n",
       "</g>\n",
       "<!-- (&#39;node2&#39;,) -->\n",
       "<g id=\"node2\" class=\"node\">\n",
       "<title>(&#39;node2&#39;,)</title>\n",
       "<ellipse fill=\"none\" stroke=\"black\" stroke-width=\"2\" cx=\"94.87\" cy=\"-129.34\" rx=\"23.29\" ry=\"23.29\"/>\n",
       "<text text-anchor=\"start\" x=\"79.87\" y=\"-126.24\" font-family=\"Times,serif\" font-size=\"12.00\">node2</text>\n",
       "</g>\n",
       "<!-- (&#39;node2&#39;, &#39;node2.1&#39;) -->\n",
       "<g id=\"node3\" class=\"node\">\n",
       "<title>(&#39;node2&#39;, &#39;node2.1&#39;)</title>\n",
       "<ellipse fill=\"none\" stroke=\"black\" stroke-width=\"2\" cx=\"52.87\" cy=\"-33.23\" rx=\"33.47\" ry=\"33.47\"/>\n",
       "<text text-anchor=\"start\" x=\"33.37\" y=\"-36.63\" font-family=\"Times,serif\" font-size=\"12.00\">node2.1</text>\n",
       "<text text-anchor=\"start\" x=\"43.37\" y=\"-23.63\" font-family=\"Times,serif\" font-size=\"12.00\">&#45;3.0</text>\n",
       "</g>\n",
       "<!-- (&#39;node2&#39;,)&#45;&gt;(&#39;node2&#39;, &#39;node2.1&#39;) -->\n",
       "<g id=\"edge1\" class=\"edge\">\n",
       "<title>(&#39;node2&#39;,)&#45;&gt;(&#39;node2&#39;, &#39;node2.1&#39;)</title>\n",
       "<path fill=\"none\" stroke=\"black\" stroke-width=\"2\" d=\"M85.55,-107.45C79.94,-94.89 72.71,-78.68 66.47,-64.71\"/>\n",
       "</g>\n",
       "<!-- (&#39;node2&#39;, &#39;node2.2&#39;) -->\n",
       "<g id=\"node4\" class=\"node\">\n",
       "<title>(&#39;node2&#39;, &#39;node2.2&#39;)</title>\n",
       "<ellipse fill=\"none\" stroke=\"black\" stroke-width=\"2\" cx=\"136.87\" cy=\"-33.23\" rx=\"33.47\" ry=\"33.47\"/>\n",
       "<text text-anchor=\"start\" x=\"117.37\" y=\"-36.63\" font-family=\"Times,serif\" font-size=\"12.00\">node2.2</text>\n",
       "<text text-anchor=\"start\" x=\"128.87\" y=\"-23.63\" font-family=\"Times,serif\" font-size=\"12.00\">2.1</text>\n",
       "</g>\n",
       "<!-- (&#39;node2&#39;,)&#45;&gt;(&#39;node2&#39;, &#39;node2.2&#39;) -->\n",
       "<g id=\"edge2\" class=\"edge\">\n",
       "<title>(&#39;node2&#39;,)&#45;&gt;(&#39;node2&#39;, &#39;node2.2&#39;)</title>\n",
       "<path fill=\"none\" stroke=\"black\" stroke-width=\"2\" d=\"M104.19,-107.45C109.8,-94.89 117.03,-78.68 123.27,-64.71\"/>\n",
       "</g>\n",
       "</g>\n",
       "</svg>\n"
      ],
      "text/plain": [
       "<graphviz.graphs.Digraph at 0x11349e3d0>"
      ]
     },
     "execution_count": 14,
     "metadata": {},
     "output_type": "execute_result"
    }
   ],
   "source": [
    "update = {\n",
    "    'node1': 5.1,\n",
    "    'node2': {\n",
    "        'node2.1': -5.0,\n",
    "        # 'node2.2': -2.0\n",
    "    }\n",
    "}\n",
    "\n",
    "place_state2 = types.apply(\n",
    "    place_schema,\n",
    "    place_state1,\n",
    "    update\n",
    ")\n",
    "plot_bigraph(place_state2, show_values=True)"
   ]
  },
  {
   "cell_type": "code",
   "execution_count": 15,
   "id": "9cfe4fab-62be-4921-8037-fa45a0a3617e",
   "metadata": {
    "tags": []
   },
   "outputs": [
    {
     "ename": "TypeError",
     "evalue": "unhashable type: 'list'",
     "output_type": "error",
     "traceback": [
      "\u001b[0;31m---------------------------------------------------------------------------\u001b[0m",
      "\u001b[0;31mTypeError\u001b[0m                                 Traceback (most recent call last)",
      "Cell \u001b[0;32mIn[15], line 16\u001b[0m\n\u001b[1;32m      1\u001b[0m \u001b[38;5;66;03m# update = {\u001b[39;00m\n\u001b[1;32m      2\u001b[0m \u001b[38;5;66;03m#     '_remove': ['node1'],\u001b[39;00m\n\u001b[1;32m      3\u001b[0m \u001b[38;5;66;03m#     'node2': {\u001b[39;00m\n\u001b[0;32m   (...)\u001b[0m\n\u001b[1;32m      7\u001b[0m \u001b[38;5;66;03m#     }\u001b[39;00m\n\u001b[1;32m      8\u001b[0m \u001b[38;5;66;03m# }\u001b[39;00m\n\u001b[1;32m      9\u001b[0m update \u001b[38;5;241m=\u001b[39m {\n\u001b[1;32m     10\u001b[0m     \u001b[38;5;124m'\u001b[39m\u001b[38;5;124m_remove\u001b[39m\u001b[38;5;124m'\u001b[39m: [\n\u001b[1;32m     11\u001b[0m         [\u001b[38;5;124m'\u001b[39m\u001b[38;5;124mnode1\u001b[39m\u001b[38;5;124m'\u001b[39m], \n\u001b[1;32m     12\u001b[0m         [\u001b[38;5;124m'\u001b[39m\u001b[38;5;124mnode2\u001b[39m\u001b[38;5;124m'\u001b[39m, \u001b[38;5;124m'\u001b[39m\u001b[38;5;124mnode2.2\u001b[39m\u001b[38;5;124m'\u001b[39m],\n\u001b[1;32m     13\u001b[0m     ],\n\u001b[1;32m     14\u001b[0m }\n\u001b[0;32m---> 16\u001b[0m place_state3 \u001b[38;5;241m=\u001b[39m \u001b[43mtypes\u001b[49m\u001b[38;5;241;43m.\u001b[39;49m\u001b[43mapply\u001b[49m\u001b[43m(\u001b[49m\n\u001b[1;32m     17\u001b[0m \u001b[43m    \u001b[49m\u001b[43mplace_schema\u001b[49m\u001b[43m,\u001b[49m\n\u001b[1;32m     18\u001b[0m \u001b[43m    \u001b[49m\u001b[43mplace_state2\u001b[49m\u001b[43m,\u001b[49m\n\u001b[1;32m     19\u001b[0m \u001b[43m    \u001b[49m\u001b[43mupdate\u001b[49m\n\u001b[1;32m     20\u001b[0m \u001b[43m)\u001b[49m\n\u001b[1;32m     21\u001b[0m plot_bigraph(place_state2, show_values\u001b[38;5;241m=\u001b[39m\u001b[38;5;28;01mTrue\u001b[39;00m)\n",
      "File \u001b[0;32m~/code/bigraph-schema/bigraph_schema/schema.py:182\u001b[0m, in \u001b[0;36mTypeSystem.apply\u001b[0;34m(self, original_schema, initial, update)\u001b[0m\n\u001b[1;32m    180\u001b[0m schema \u001b[38;5;241m=\u001b[39m \u001b[38;5;28mself\u001b[39m\u001b[38;5;241m.\u001b[39maccess(original_schema)\n\u001b[1;32m    181\u001b[0m state \u001b[38;5;241m=\u001b[39m copy\u001b[38;5;241m.\u001b[39mdeepcopy(initial)\n\u001b[0;32m--> 182\u001b[0m \u001b[38;5;28;01mreturn\u001b[39;00m \u001b[38;5;28;43mself\u001b[39;49m\u001b[38;5;241;43m.\u001b[39;49m\u001b[43mapply_update\u001b[49m\u001b[43m(\u001b[49m\u001b[43mschema\u001b[49m\u001b[43m,\u001b[49m\u001b[43m \u001b[49m\u001b[43minitial\u001b[49m\u001b[43m,\u001b[49m\u001b[43m \u001b[49m\u001b[43mupdate\u001b[49m\u001b[43m)\u001b[49m\n",
      "File \u001b[0;32m~/code/bigraph-schema/bigraph_schema/schema.py:151\u001b[0m, in \u001b[0;36mTypeSystem.apply_update\u001b[0;34m(self, schema, state, update)\u001b[0m\n\u001b[1;32m    148\u001b[0m \u001b[38;5;28;01mif\u001b[39;00m \u001b[38;5;124m'\u001b[39m\u001b[38;5;124m_apply\u001b[39m\u001b[38;5;124m'\u001b[39m \u001b[38;5;129;01min\u001b[39;00m schema:\n\u001b[1;32m    149\u001b[0m     apply_function \u001b[38;5;241m=\u001b[39m \u001b[38;5;28mself\u001b[39m\u001b[38;5;241m.\u001b[39mapply_registry\u001b[38;5;241m.\u001b[39maccess(schema[\u001b[38;5;124m'\u001b[39m\u001b[38;5;124m_apply\u001b[39m\u001b[38;5;124m'\u001b[39m])\n\u001b[0;32m--> 151\u001b[0m     state \u001b[38;5;241m=\u001b[39m \u001b[43mapply_function\u001b[49m\u001b[43m(\u001b[49m\n\u001b[1;32m    152\u001b[0m \u001b[43m        \u001b[49m\u001b[43mstate\u001b[49m\u001b[43m,\u001b[49m\n\u001b[1;32m    153\u001b[0m \u001b[43m        \u001b[49m\u001b[43mupdate\u001b[49m\u001b[43m,\u001b[49m\n\u001b[1;32m    154\u001b[0m \u001b[43m        \u001b[49m\u001b[43mschema\u001b[49m\u001b[38;5;241;43m.\u001b[39;49m\u001b[43mget\u001b[49m\u001b[43m(\u001b[49m\u001b[38;5;124;43m'\u001b[39;49m\u001b[38;5;124;43m_bindings\u001b[39;49m\u001b[38;5;124;43m'\u001b[39;49m\u001b[43m)\u001b[49m\u001b[43m,\u001b[49m\n\u001b[1;32m    155\u001b[0m \u001b[43m        \u001b[49m\u001b[38;5;28;43mself\u001b[39;49m\u001b[43m)\u001b[49m\n\u001b[1;32m    157\u001b[0m \u001b[38;5;28;01melif\u001b[39;00m \u001b[38;5;28misinstance\u001b[39m(schema, \u001b[38;5;28mstr\u001b[39m) \u001b[38;5;129;01mor\u001b[39;00m \u001b[38;5;28misinstance\u001b[39m(schema, \u001b[38;5;28mlist\u001b[39m):\n\u001b[1;32m    158\u001b[0m     schema \u001b[38;5;241m=\u001b[39m \u001b[38;5;28mself\u001b[39m\u001b[38;5;241m.\u001b[39maccess(schema)\n",
      "File \u001b[0;32m~/code/bigraph-schema/bigraph_schema/schema.py:575\u001b[0m, in \u001b[0;36mapply_tree\u001b[0;34m(current, update, bindings, types)\u001b[0m\n\u001b[1;32m    573\u001b[0m     current\u001b[38;5;241m.\u001b[39mupdate(branch)\n\u001b[1;32m    574\u001b[0m \u001b[38;5;28;01melif\u001b[39;00m key \u001b[38;5;241m==\u001b[39m \u001b[38;5;124m'\u001b[39m\u001b[38;5;124m_remove\u001b[39m\u001b[38;5;124m'\u001b[39m:\n\u001b[0;32m--> 575\u001b[0m     current \u001b[38;5;241m=\u001b[39m \u001b[43mremove_path\u001b[49m\u001b[43m(\u001b[49m\u001b[43mcurrent\u001b[49m\u001b[43m,\u001b[49m\u001b[43m \u001b[49m\u001b[43mbranch\u001b[49m\u001b[43m)\u001b[49m\n\u001b[1;32m    576\u001b[0m \u001b[38;5;28;01melse\u001b[39;00m:\n\u001b[1;32m    577\u001b[0m     current[key] \u001b[38;5;241m=\u001b[39m apply_tree(\n\u001b[1;32m    578\u001b[0m         current\u001b[38;5;241m.\u001b[39mget(key),\n\u001b[1;32m    579\u001b[0m         branch,\n\u001b[1;32m    580\u001b[0m         bindings,\n\u001b[1;32m    581\u001b[0m         types)\n",
      "File \u001b[0;32m~/code/bigraph-schema/bigraph_schema/registry.py:176\u001b[0m, in \u001b[0;36mremove_path\u001b[0;34m(tree, path)\u001b[0m\n\u001b[1;32m    173\u001b[0m \u001b[38;5;28;01mif\u001b[39;00m path \u001b[38;5;129;01mis\u001b[39;00m \u001b[38;5;28;01mNone\u001b[39;00m \u001b[38;5;129;01mor\u001b[39;00m \u001b[38;5;28mlen\u001b[39m(path) \u001b[38;5;241m==\u001b[39m \u001b[38;5;241m0\u001b[39m:\n\u001b[1;32m    174\u001b[0m     \u001b[38;5;28;01mreturn\u001b[39;00m \u001b[38;5;28;01mNone\u001b[39;00m\n\u001b[0;32m--> 176\u001b[0m upon \u001b[38;5;241m=\u001b[39m \u001b[43mget_path\u001b[49m\u001b[43m(\u001b[49m\u001b[43mtree\u001b[49m\u001b[43m,\u001b[49m\u001b[43m \u001b[49m\u001b[43mpath\u001b[49m\u001b[43m[\u001b[49m\u001b[43m:\u001b[49m\u001b[38;5;241;43m-\u001b[39;49m\u001b[38;5;241;43m1\u001b[39;49m\u001b[43m]\u001b[49m\u001b[43m)\u001b[49m\n\u001b[1;32m    177\u001b[0m \u001b[38;5;28;01mif\u001b[39;00m upon \u001b[38;5;129;01mis\u001b[39;00m \u001b[38;5;129;01mnot\u001b[39;00m \u001b[38;5;28;01mNone\u001b[39;00m:\n\u001b[1;32m    178\u001b[0m     \u001b[38;5;28;01mdel\u001b[39;00m upon[path[\u001b[38;5;241m-\u001b[39m\u001b[38;5;241m1\u001b[39m]]\n",
      "File \u001b[0;32m~/code/bigraph-schema/bigraph_schema/registry.py:126\u001b[0m, in \u001b[0;36mget_path\u001b[0;34m(tree, path)\u001b[0m\n\u001b[1;32m    124\u001b[0m \u001b[38;5;28;01melse\u001b[39;00m:\n\u001b[1;32m    125\u001b[0m     head \u001b[38;5;241m=\u001b[39m path[\u001b[38;5;241m0\u001b[39m]\n\u001b[0;32m--> 126\u001b[0m     \u001b[38;5;28;01mif\u001b[39;00m \u001b[43mhead\u001b[49m\u001b[43m \u001b[49m\u001b[38;5;129;43;01mnot\u001b[39;49;00m\u001b[43m \u001b[49m\u001b[38;5;129;43;01min\u001b[39;49;00m\u001b[43m \u001b[49m\u001b[43mtree\u001b[49m:\n\u001b[1;32m    127\u001b[0m         \u001b[38;5;28;01mreturn\u001b[39;00m \u001b[38;5;28;01mNone\u001b[39;00m\n\u001b[1;32m    128\u001b[0m     \u001b[38;5;28;01melse\u001b[39;00m:\n",
      "\u001b[0;31mTypeError\u001b[0m: unhashable type: 'list'"
     ]
    }
   ],
   "source": [
    "# update = {\n",
    "#     '_remove': ['node1'],\n",
    "#     'node2': {\n",
    "#         '_remove': ['node2.2'],\n",
    "#         'node2.3': 0.5,\n",
    "#         'node2.4': {'node2.2.1': -2.0}\n",
    "#     }\n",
    "# }\n",
    "update = {\n",
    "    '_remove': [\n",
    "        ['node1'], \n",
    "        ['node2', 'node2.2'],\n",
    "    ],\n",
    "}\n",
    "\n",
    "place_state3 = types.apply(\n",
    "    place_schema,\n",
    "    place_state2,\n",
    "    update\n",
    ")\n",
    "plot_bigraph(place_state2, show_values=True)"
   ]
  },
  {
   "cell_type": "markdown",
   "id": "7bec54cf-d524-4897-98d0-861c000fba31",
   "metadata": {},
   "source": [
    "## View/Project through wires"
   ]
  },
  {
   "cell_type": "code",
   "execution_count": null,
   "id": "328b973d-34ea-45ba-b0b1-90fe6248d124",
   "metadata": {},
   "outputs": [],
   "source": []
  },
  {
   "cell_type": "markdown",
   "id": "028bc593-068d-4020-937a-4c9c39c31d9a",
   "metadata": {},
   "source": [
    "## Query\n",
    "\n",
    "Find a schema within a composite. For example find a mitochondria within a cell\n",
    "\n",
    "## Adapters\n",
    "\n",
    "Show how adapters can automatically compose into a schema to provide translation between types."
   ]
  },
  {
   "cell_type": "code",
   "execution_count": null,
   "id": "fdd3134e-f576-445b-8dd4-5eacb55bbdf4",
   "metadata": {},
   "outputs": [],
   "source": []
  }
 ],
 "metadata": {
  "kernelspec": {
   "display_name": "Python 3 (ipykernel)",
   "language": "python",
   "name": "python3"
  },
  "language_info": {
   "codemirror_mode": {
    "name": "ipython",
    "version": 3
   },
   "file_extension": ".py",
   "mimetype": "text/x-python",
   "name": "python",
   "nbconvert_exporter": "python",
   "pygments_lexer": "ipython3",
   "version": "3.9.6"
  }
 },
 "nbformat": 4,
 "nbformat_minor": 5
}

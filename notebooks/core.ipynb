{
 "cells": [
  {
   "attachments": {},
   "cell_type": "markdown",
   "id": "d42edcd7-e61f-4c30-94ee-a01f79988c7c",
   "metadata": {},
   "source": [
    "# bigraph-schema\n",
    "\n",
    "`bigraph-schema` is a library to define schemas for and operate on bigraphical states, for use in composite biological simulations. "
   ]
  },
  {
   "cell_type": "markdown",
   "id": "b106e3a4-ddf1-485f-81e4-318018193660",
   "metadata": {},
   "source": [
    "## what is a bigraph?\n",
    "\n",
    "A bigraph has three components - a set of nodes, a \"place graph\" over those nodes (a tree), and a \"link graph\" involving the same set of nodes (a hypergraph). \n",
    "\n",
    "<center><img src=\"images/place-link.png\" width=\"60%\"/></center>\n"
   ]
  },
  {
   "cell_type": "markdown",
   "id": "83bc1ebc-fe31-4ed6-b964-a754655c8ef4",
   "metadata": {},
   "source": [
    "## reactions\n",
    "\n",
    "In addition to this structure, bigraphs are also capable of \"motion\" in the form of \"reactions\" - a pair of bigraphs used as a match and substitution respectively (known as the \"redex\" and the \"reactum\"). This means bigraphs update their structure and relationships over the course of a simulation. \n",
    "\n",
    "Given a reaction that looks like this (the *redex* is on the left, *reactum* on the right):\n",
    "\n",
    "<center><img src=\"images/redex-reactum.png\" width=\"60%\"/></center>\n",
    "\n",
    "and some bigraphical state that matches the redex of the reaction:\n",
    "\n",
    "<center><img src=\"images/reaction-before.png\" width=\"60%\"/></center>\n",
    "\n",
    "We can apply the reaction to the bigraph to achieve the resulting bigraph:\n",
    "\n",
    "<center><img src=\"images/reaction-after.png\" width=\"60%\"/></center>"
   ]
  },
  {
   "cell_type": "markdown",
   "id": "9dbb1b69-da69-4049-88bf-fadff21fa7ef",
   "metadata": {},
   "source": [
    "## types\n",
    "\n",
    "In addition to these core bigraphical properties, the states `bigraph-schema` works with are typed in a way that allows us to perform type-specific operations on values contained in the nodes or subtrees of the bigraph. Beyond providing these typed methods, the types also guide the composition of the larger systems out of smaller ones - edges are defined by the types of their inputs and outputs, so as we link our state together we can verify all of these connections are valid and make sense. \n",
    "\n",
    "The way to declare the structure of types is by defining a \"schema\" - a nested state which describes the types of all the nodes embedded in the place graph. We will show how to define and use schemas throughout this notebook. "
   ]
  },
  {
   "cell_type": "markdown",
   "id": "e799ceff-ee1f-4416-936c-f16a0d18da43",
   "metadata": {},
   "source": [
    "## edges\n",
    "\n",
    "An \"edge\" in `bigraph-schema` refers to a hyperedge which is defined by the types of its inputs and outputs - these two schemas together are the edge's \"interface\". Where the nesting of the schema reflects the \"place\" graph component of the bigraph, the edges encode the \"link\" graph, and these links themselves can be updated during the simulation. When using `bigraph-schema` in biological and general simulation applications, the hyperedges become \"processes\" which generate updates informed by the input states they are linked to, and these updates get applied to the output states the edge is linked to. "
   ]
  },
  {
   "cell_type": "markdown",
   "id": "7b02fbfc-a8e7-4fb1-8ff4-2ef9405fc842",
   "metadata": {},
   "source": [
    "## states and schemas\n",
    "\n",
    "There is a distinction between a \"schema\", which encodes a description of states, and a \"state\", which holds the actual values which may or may not match any given schema. In `bigraph-schema` we need both of these things to perform any given operation - that said there are also methods to \"infer\" a given schema out of minimal type information provided in the state. In general there is a one to many relationship between a schema and states matching that schema - this gives us motivation to \"register\" schemas we use over and over again as new types, which will be described as well. "
   ]
  },
  {
   "cell_type": "markdown",
   "id": "f987ce1a-3cd3-4bc6-aea1-f7a046b25cbc",
   "metadata": {},
   "source": [
    "## core\n",
    "\n",
    "Let's start by importing the `TypeSystem` and creating an instance of it (codename `core` since we're going to use it a lot):"
   ]
  },
  {
   "cell_type": "code",
   "execution_count": 1,
   "id": "3d33f18d-3afb-4fbf-8bfe-75964a0b1841",
   "metadata": {},
   "outputs": [],
   "source": [
    "from bigraph_schema import TypeSystem\n",
    "core = TypeSystem()"
   ]
  },
  {
   "cell_type": "markdown",
   "id": "c481e570-ed32-406a-823e-6735e429473d",
   "metadata": {},
   "source": [
    "`core` uses a schema you provide to perform various operations on a given state or states. Let's see what types we have available:"
   ]
  },
  {
   "cell_type": "code",
   "execution_count": 2,
   "id": "a25c1f5b-13ed-4a1e-a1ab-bfcb8b850021",
   "metadata": {},
   "outputs": [
    {
     "data": {
      "text/plain": [
       "dict_keys(['any', 'tuple', 'union', 'boolean', 'number', 'integer', 'float', 'string', 'list', 'tree', 'map', 'array', 'maybe', 'path', 'wires', 'schema', 'edge', 'length', 'time', 'current', 'luminosity', 'mass', 'substance', 'temperature', '', 'length/time', 'length^2*mass/time', 'current*time', 'length^2*mass/temperature*time^2', 'length/time^2', 'mass/length*time^2', 'current*time^2/length^2*mass', 'length^2*mass/current^2*time^3', '/substance', 'length^2*mass/substance*temperature*time^2', 'current*time/substance', 'current^2*time^3/length^2*mass', 'length^2*mass/current*time^2', 'mass/temperature^4*time^3', 'length^4*mass/time^3', 'length*temperature', '/temperature*time', 'length^3/mass*time^2', '/length', 'length*mass/current^2*time^2', 'current^2*time^4/length^3*mass', 'length^3*mass/current^2*time^4', 'length^2', '/time', 'length^3', 'length^3/time', 'length*mass/time^2', 'length^2*mass/time^2', 'length^2*mass/time^3', 'mass/length^3', 'mass/length*time', 'length^2/time', 'length*time/mass', 'substance/length^3', 'substance/time', 'length^2/time^2', 'current*time/mass', 'mass/time^2', 'luminosity/length^2', 'mass/time^3', 'length^2*mass/current*time^3', 'length*mass/current*time^3', 'length^4*mass/current*time^3', 'current^2*time^4/length^2*mass', 'length^2*mass/current^2*time^2', 'mass/current*time^2', 'current*length*time', 'current*length^2*time', 'current*length^2', 'printing_unit', 'printing_unit/length', '/printing_unit', 'mass/length', 'length/mass', 'length^1_5*mass^0_5/time', 'length^0_5*mass^0_5/time', 'length^1_5*mass^0_5/time^2', 'mass^0_5/length^0_5*time', 'time/length', 'length^0_5*mass^0_5', 'mass^0_5/length^1_5', 'time^2/length'])"
      ]
     },
     "execution_count": 2,
     "metadata": {},
     "output_type": "execute_result"
    }
   ],
   "source": [
    "core.types().keys()"
   ]
  },
  {
   "cell_type": "markdown",
   "id": "d000d4c6-d859-427e-bc98-cce92b3ac091",
   "metadata": {},
   "source": [
    "That's a lot of types! Looking through the list we see that most of them have to do with units - we'll get to unit types later, but for now we can see they are defined in terms of general notions (length or mass) rather than specific units (kilometer or gram) because we care about what is able to connect to what: for instance, all length units are compatible through scaling, that's the point of units!"
   ]
  },
  {
   "cell_type": "markdown",
   "id": "f0e97f19-49d8-4b61-a69d-f89dd0e536df",
   "metadata": {},
   "source": [
    "Let's see what one of these types looks like - we'll take a simple one as an example, how about \"float\"? :"
   ]
  },
  {
   "cell_type": "code",
   "execution_count": 3,
   "id": "c0caa21b-1506-44d9-8eaa-13dae215a107",
   "metadata": {},
   "outputs": [
    {
     "data": {
      "text/plain": [
       "{'_type': 'float',\n",
       " '_check': 'check_float',\n",
       " '_apply': 'accumulate',\n",
       " '_serialize': 'to_string',\n",
       " '_description': '64-bit floating point precision number',\n",
       " '_default': '0.0',\n",
       " '_deserialize': 'deserialize_float',\n",
       " '_divide': 'divide_float',\n",
       " '_inherit': ['number']}"
      ]
     },
     "execution_count": 3,
     "metadata": {},
     "output_type": "execute_result"
    }
   ],
   "source": [
    "core.access('float')"
   ]
  },
  {
   "cell_type": "markdown",
   "id": "22790b2f-4978-479c-8060-fd9ebe73ff31",
   "metadata": {},
   "source": [
    "We see here that types are defined through a series of keys, with any type specific information signified by key starting with an `_` (underscore). Schemas and states in `bigraph-schema` claim the namespace of keys beginning with an underscore and reserves it for type information. A type may contain keys without underscores, but this signifies a subschema living under that key - in the end all the \"leaves\" of a schema tree resolve into type keys (keys with an underscore)."
   ]
  },
  {
   "cell_type": "code",
   "execution_count": 4,
   "id": "71304c9e-8915-4122-9c5e-cd287851e385",
   "metadata": {},
   "outputs": [
    {
     "data": {
      "text/plain": [
       "{'a': {'_type': 'float',\n",
       "  '_check': 'check_float',\n",
       "  '_apply': 'accumulate',\n",
       "  '_serialize': 'to_string',\n",
       "  '_description': '64-bit floating point precision number',\n",
       "  '_default': '0.0',\n",
       "  '_deserialize': 'deserialize_float',\n",
       "  '_divide': 'divide_float',\n",
       "  '_inherit': ['number']},\n",
       " 'b': {'_type': 'integer',\n",
       "  '_check': 'check_integer',\n",
       "  '_apply': 'accumulate',\n",
       "  '_serialize': 'to_string',\n",
       "  '_description': '64-bit integer',\n",
       "  '_default': '0',\n",
       "  '_deserialize': 'deserialize_integer',\n",
       "  '_inherit': ['number']}}"
      ]
     },
     "execution_count": 4,
     "metadata": {},
     "output_type": "execute_result"
    }
   ],
   "source": [
    "# a nested type with keys 'a' and 'b'\n",
    "core.access({\n",
    "    'a': 'float', \n",
    "    'b': 'integer'})"
   ]
  },
  {
   "cell_type": "markdown",
   "id": "a72474bc-086a-4167-8fb4-53e6e0e4001e",
   "metadata": {},
   "source": [
    "What are all these keys? \n",
    "* `_type`: This key is just the name of the type itself\n",
    "* `_check`: This is the name of a function that the float type uses to verify some state is actually a float. Many of the methods in `core` rely on type-specific functions like this to operate, and we encode them as references to the function rather than a function itself to meet the requirement that our type descriptions are simply data and can be ie communicated across the network. This does rely on the definitions existing somewhere, and for the behavior of these functions to be sufficiently defined by tests for each method if the simulation is going to be replicated in another environment. We defer these considerations while providing now for their eventual resolution by insisting all values are serializable. This also allows for a future where the functions defining these methods are themselves somehow \"universally\" serializable, and instead of references we just store the serialized definition as the value. \n",
    "* `_apply`: The apply method takes two states which match the schema and returns some kind of \"merge\" of those states - it is up to each type method to determine what this means. Here we are using `accumulate` which just calls `+` on the two values. This works great if the values can be added. If not some other more sophisticated method would be required.\n",
    "* `_serialize`, `_deserialize`: These are inverses of each other and are used to take complex values and turn them into something that can be communicated across the wire. One of the principles of `bigraph-schema` is that in order to operate in any distributed or multi-language environment, any state can be encoded as a string for the purposes of communication with other nodes in a large scale simulation. This principle is realized through a universal means of serialization and deserialization - all states are encodable and transmittable.\n",
    "* `_description`: This allows anyone defining a type to explain what their type is all about.\n",
    "* `_default`: If a value of this type is ever needed and no state information is provided, we deserialize the type's default value.\n",
    "* `_inherit`: You can use existing types as a starting point to define new types. This relationship also helps us when merging schemas so that we can always select the most specific definition of each component of the resulting schema. "
   ]
  },
  {
   "cell_type": "markdown",
   "id": "33e53562-0e65-43f7-a134-f41ca49857ac",
   "metadata": {},
   "source": [
    "## check\n",
    "\n",
    "Let's take a look at how to use a schema now that we have one. First we can `check` different values to see if they match our schema:"
   ]
  },
  {
   "cell_type": "code",
   "execution_count": 5,
   "id": "723e4d35-251f-45a0-bd13-79577a05faaf",
   "metadata": {},
   "outputs": [
    {
     "data": {
      "text/plain": [
       "True"
      ]
     },
     "execution_count": 5,
     "metadata": {},
     "output_type": "execute_result"
    }
   ],
   "source": [
    "core.check('float', 1.5)"
   ]
  },
  {
   "cell_type": "code",
   "execution_count": 6,
   "id": "2d66ca35-a17a-435e-a1c9-2bab5affe8d5",
   "metadata": {},
   "outputs": [
    {
     "data": {
      "text/plain": [
       "False"
      ]
     },
     "execution_count": 6,
     "metadata": {},
     "output_type": "execute_result"
    }
   ],
   "source": [
    "core.check('float', 'not a float')"
   ]
  },
  {
   "cell_type": "code",
   "execution_count": 7,
   "id": "7dc63b69-c922-4077-b290-bdcdf674997b",
   "metadata": {},
   "outputs": [
    {
     "data": {
      "text/plain": [
       "False"
      ]
     },
     "execution_count": 7,
     "metadata": {},
     "output_type": "execute_result"
    }
   ],
   "source": [
    "core.check('integer', 1.5)"
   ]
  },
  {
   "cell_type": "code",
   "execution_count": 8,
   "id": "b02092aa-389c-4c07-a322-1c012944188f",
   "metadata": {},
   "outputs": [
    {
     "data": {
      "text/plain": [
       "True"
      ]
     },
     "execution_count": 8,
     "metadata": {},
     "output_type": "execute_result"
    }
   ],
   "source": [
    "core.check('integer', 5)"
   ]
  },
  {
   "cell_type": "markdown",
   "id": "40f19d79-6054-4624-bc8a-7e5165d22c61",
   "metadata": {},
   "source": [
    "Let's do a few more but with a nested type.... we made one above (a/b keys) but don't want to have to retype it every time we want to use it. We can register a new type and then define schemas according to that:"
   ]
  },
  {
   "cell_type": "code",
   "execution_count": 9,
   "id": "ce87189a-a630-4cda-b9a9-f3eea5665bc7",
   "metadata": {},
   "outputs": [
    {
     "data": {
      "text/plain": [
       "{'a': {'_type': 'float',\n",
       "  '_check': 'check_float',\n",
       "  '_apply': 'accumulate',\n",
       "  '_serialize': 'to_string',\n",
       "  '_description': '64-bit floating point precision number',\n",
       "  '_default': '0.0',\n",
       "  '_deserialize': 'deserialize_float',\n",
       "  '_divide': 'divide_float',\n",
       "  '_inherit': ['number']},\n",
       " 'b': {'_type': 'integer',\n",
       "  '_check': 'check_integer',\n",
       "  '_apply': 'accumulate',\n",
       "  '_serialize': 'to_string',\n",
       "  '_description': '64-bit integer',\n",
       "  '_default': '0',\n",
       "  '_deserialize': 'deserialize_integer',\n",
       "  '_inherit': ['number']},\n",
       " '_type': 'a-b'}"
      ]
     },
     "execution_count": 9,
     "metadata": {},
     "output_type": "execute_result"
    }
   ],
   "source": [
    "# the keys 'a' and 'b' are part of the type\n",
    "core.register(\n",
    "    'a-b', {\n",
    "        'a': 'float', \n",
    "        'b': 'integer'})\n",
    "\n",
    "# now it behaves like any other type\n",
    "core.access('a-b')"
   ]
  },
  {
   "cell_type": "markdown",
   "id": "051c3e56-93d8-4daf-b6eb-9a50900d7ba4",
   "metadata": {},
   "source": [
    "See how we still have the `_type` key on each leaf, but also a new `_type` key at the top level called `a-b`. This is how you can form nested types. "
   ]
  },
  {
   "cell_type": "markdown",
   "id": "a194e6a4-d528-4bd7-8f2d-18421082568d",
   "metadata": {},
   "source": [
    "Now we can call `check` with our newly registered type:"
   ]
  },
  {
   "cell_type": "code",
   "execution_count": 10,
   "id": "a8098d90-5736-485c-8e34-3b807619d822",
   "metadata": {},
   "outputs": [
    {
     "data": {
      "text/plain": [
       "False"
      ]
     },
     "execution_count": 10,
     "metadata": {},
     "output_type": "execute_result"
    }
   ],
   "source": [
    "# not nested\n",
    "core.check('a-b', 5)"
   ]
  },
  {
   "cell_type": "code",
   "execution_count": 11,
   "id": "8468e14d-fd5b-4bd9-aba6-975c070a0802",
   "metadata": {},
   "outputs": [
    {
     "data": {
      "text/plain": [
       "False"
      ]
     },
     "execution_count": 11,
     "metadata": {},
     "output_type": "execute_result"
    }
   ],
   "source": [
    "# nested but missing 'a' and 'b' keys\n",
    "core.check('a-b', {'c': 11})"
   ]
  },
  {
   "cell_type": "code",
   "execution_count": 12,
   "id": "9865f102-34c7-4957-b41f-d982d3050e30",
   "metadata": {},
   "outputs": [
    {
     "data": {
      "text/plain": [
       "False"
      ]
     },
     "execution_count": 12,
     "metadata": {},
     "output_type": "execute_result"
    }
   ],
   "source": [
    "# only one key, and wrong type anyway\n",
    "core.check('a-b', {'a': 'not a float'})"
   ]
  },
  {
   "cell_type": "code",
   "execution_count": 13,
   "id": "4ef3a4eb-37ab-439c-a906-e9debc88b6ad",
   "metadata": {},
   "outputs": [
    {
     "data": {
      "text/plain": [
       "False"
      ]
     },
     "execution_count": 13,
     "metadata": {},
     "output_type": "execute_result"
    }
   ],
   "source": [
    "# right type, still missing the 'b' key\n",
    "core.check('a-b', {'a': 11.11})"
   ]
  },
  {
   "cell_type": "code",
   "execution_count": 14,
   "id": "aa1b204c-cf22-40f5-a1f8-76a60975ad92",
   "metadata": {},
   "outputs": [
    {
     "data": {
      "text/plain": [
       "False"
      ]
     },
     "execution_count": 14,
     "metadata": {},
     "output_type": "execute_result"
    }
   ],
   "source": [
    "# all the keys now, but 'b' is supposed to be an integer\n",
    "core.check('a-b', {'a': 11.11, 'b': 55.55})"
   ]
  },
  {
   "cell_type": "code",
   "execution_count": 15,
   "id": "fc572ef5-9667-45f7-bf8c-c8d04ebe3fa3",
   "metadata": {},
   "outputs": [
    {
     "data": {
      "text/plain": [
       "True"
      ]
     },
     "execution_count": 15,
     "metadata": {},
     "output_type": "execute_result"
    }
   ],
   "source": [
    "# here we go\n",
    "core.check('a-b', {'a': 11.11, 'b': 55})"
   ]
  },
  {
   "cell_type": "code",
   "execution_count": 17,
   "id": "80d242bb-e710-40c6-8347-59898a2babe0",
   "metadata": {},
   "outputs": [
    {
     "data": {
      "text/plain": [
       "True"
      ]
     },
     "execution_count": 17,
     "metadata": {},
     "output_type": "execute_result"
    }
   ],
   "source": [
    "# notably we can have more keys, as long as the ones in our schema match\n",
    "core.check('a-b', {'a': 11.11, 'b': 55, 'c': 'this is okay'})"
   ]
  },
  {
   "cell_type": "markdown",
   "id": "104fbdbd-95bd-4fc0-81d3-4b0d90991dc1",
   "metadata": {},
   "source": [
    "Okay, so now that we can check a state matches our schemas, what else can we do with them? There are a number of methods, here are a few:\n",
    "* `core.apply(schema, state, update)`: given an existing state and an update that match a schema, return a state with that update applied according to the type system.\n",
    "* `core.default(schema)`: generate the default value of a given schema.\n",
    "* `core.slice(schema, state, path)`: given a path into a state, slice into the state according to the schema.\n",
    "* `core.match(schema, state, pattern)`: find instances of a pattern inside of the state.\n",
    "* `core.react(schema, state, reaction)`: apply a bigraphical reaction (redex/reactum) to a given state.\n",
    "* `core.fold(schema, state, method, values)`: fold a method over the state according to the schema, parameterized by a set of values.\n",
    "* `core.de/serialize(schema, state)`: serialize a state according to the given schema so that it can later be recovered by deserialize.\n",
    "* `core.fill(schema, state)`: take an incomplete state and fill it with whatever is missing relative to the schema.\n",
    "* `core.view_edge(schema, state, path)`: transform the state into the form expected by an edge (residing at the given path) according to its current inputs state.\n",
    "* `core.project_edge(schema, state, path, view)`: transform a view in the form of an edge's outputs schema into states aligned with the edge's outputs state.\n",
    "* `core.equivalent(schema, left, right)`: returns `True` if both left and right are equivalent states according to the given schema.\n",
    "* `core.inherits_from(schema, descendant, ancestor)`: returns `True` if you can trace a path of inheritance from descendant to ancestor.\n",
    "* `core.resolve_schemas(schema, update)`: merges two schemas and returns the schema which has the most specific type of the two at each point in the schema.\n",
    "* `core.complete(schema, state)`: given any schema fragment and state fragment, return as much of the state and schema as we are able to infer.\n",
    "* `core.import_types(package)`: given a package containing a bundle of related types, register them all and make them available to ongoing operations. "
   ]
  },
  {
   "cell_type": "code",
   "execution_count": null,
   "id": "8be402f2-7320-4936-863f-d3b3dd5cb25c",
   "metadata": {},
   "outputs": [],
   "source": [
    "This is a brief outline of these methods, but let's look into a selection of them in more detail to get an "
   ]
  }
 ],
 "metadata": {
  "kernelspec": {
   "display_name": "Python 3 (ipykernel)",
   "language": "python",
   "name": "python3"
  },
  "language_info": {
   "codemirror_mode": {
    "name": "ipython",
    "version": 3
   },
   "file_extension": ".py",
   "mimetype": "text/x-python",
   "name": "python",
   "nbconvert_exporter": "python",
   "pygments_lexer": "ipython3",
   "version": "3.10.8"
  }
 },
 "nbformat": 4,
 "nbformat_minor": 5
}
